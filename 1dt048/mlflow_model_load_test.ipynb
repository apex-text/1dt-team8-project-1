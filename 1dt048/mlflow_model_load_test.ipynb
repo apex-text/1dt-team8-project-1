{
 "cells": [
  {
   "cell_type": "code",
   "execution_count": 0,
   "metadata": {
    "application/vnd.databricks.v1+cell": {
     "cellMetadata": {
      "byteLimit": 2048000,
      "rowLimit": 10000
     },
     "inputWidgets": {},
     "nuid": "5d7bc51a-9bf8-4720-a399-3e82077ae745",
     "showTitle": false,
     "tableResultSettingsMap": {},
     "title": ""
    }
   },
   "outputs": [],
   "source": [
    "import mlflow\n",
    "import torch\n",
    "import pandas as pd\n",
    "import numpy as np\n",
    "import cloudpickle"
   ]
  },
  {
   "cell_type": "code",
   "execution_count": 0,
   "metadata": {
    "application/vnd.databricks.v1+cell": {
     "cellMetadata": {
      "byteLimit": 2048000,
      "rowLimit": 10000
     },
     "inputWidgets": {},
     "nuid": "ce8d86f4-151a-455c-86e8-26163c88c35f",
     "showTitle": false,
     "tableResultSettingsMap": {},
     "title": ""
    }
   },
   "outputs": [],
   "source": [
    "registered_model_name = \"bert4rec_v4\"\n",
    "model_uri = f\"models:/{registered_model_name}/3\" # 버전은 상황에 맞게 조정\n",
    "loaded_model = mlflow.pyfunc.load_model(model_uri)"
   ]
  },
  {
   "cell_type": "code",
   "execution_count": 0,
   "metadata": {
    "application/vnd.databricks.v1+cell": {
     "cellMetadata": {
      "byteLimit": 2048000,
      "rowLimit": 10000
     },
     "inputWidgets": {},
     "nuid": "64603624-58e2-4a40-ae1b-3d454b6ffaf3",
     "showTitle": false,
     "tableResultSettingsMap": {},
     "title": ""
    }
   },
   "outputs": [],
   "source": [
    "# 추론할 데이터 (Pandas DataFrame 형태)\n",
    "inference_data = pd.DataFrame({\n",
    "    \"movie_history\": [\n",
    "        #[1, 89745, 4993, 5952, 7153],\n",
    "        [4896,1,4993,5952,33794,91529,109487,8368,7153,89745,5816,58559]\n",
    "    ]\n",
    "})\n",
    "\n",
    "# 예측 수행\n",
    "recommendations = loaded_model.predict(inference_data)\n",
    "print(\"\\n--- MLflow 모델 추론 결과 ---\")\n",
    "print(recommendations)"
   ]
  },
  {
   "cell_type": "code",
   "execution_count": 0,
   "metadata": {
    "application/vnd.databricks.v1+cell": {
     "cellMetadata": {
      "byteLimit": 2048000,
      "rowLimit": 10000
     },
     "inputWidgets": {},
     "nuid": "ae908d06-f87e-4776-aa87-3261bad505c1",
     "showTitle": false,
     "tableResultSettingsMap": {},
     "title": ""
    }
   },
   "outputs": [],
   "source": [
    "result_movieids = recommendations.iloc[0].tolist()[0]\n",
    "result_movieids"
   ]
  },
  {
   "cell_type": "code",
   "execution_count": 0,
   "metadata": {
    "application/vnd.databricks.v1+cell": {
     "cellMetadata": {
      "byteLimit": 2048000,
      "rowLimit": 10000
     },
     "inputWidgets": {},
     "nuid": "79643205-7524-4dc0-919e-ca4935226921",
     "showTitle": false,
     "tableResultSettingsMap": {},
     "title": ""
    }
   },
   "outputs": [],
   "source": [
    "def get_movie_titles(movie_ids, movies_table_name):\n",
    "    \"\"\"\n",
    "    주어진 movie_ids 리스트에 해당하는 영화 제목을 반환합니다.\n",
    "\n",
    "    Args:\n",
    "        movie_ids (list): 영화 ID 리스트\n",
    "        movies_table_name (str): 영화 메타데이터가 있는 Spark 테이블 이름\n",
    "\n",
    "    Returns:\n",
    "        list: 영화 제목 리스트\n",
    "    \"\"\"\n",
    "    query = f\"\"\"\n",
    "    SELECT title\n",
    "    FROM {movies_table_name}\n",
    "    WHERE movieId IN ({','.join(map(str, movie_ids))})\n",
    "    \"\"\"\n",
    "    titles_df = spark.sql(query)\n",
    "    titles_list = titles_df.select(\"title\").rdd.flatMap(lambda x: x).collect()\n",
    "    return titles_list"
   ]
  },
  {
   "cell_type": "code",
   "execution_count": 0,
   "metadata": {
    "application/vnd.databricks.v1+cell": {
     "cellMetadata": {
      "byteLimit": 2048000,
      "rowLimit": 10000
     },
     "inputWidgets": {},
     "nuid": "b0a6e221-5d5d-4b73-acd7-3b73e8a7654c",
     "showTitle": false,
     "tableResultSettingsMap": {},
     "title": ""
    }
   },
   "outputs": [],
   "source": [
    "# 예시 사용법\n",
    "movie_ids = result_movieids\n",
    "movies_table_name = \"1dt_team8_databricks.`movielens-32m`.movies\"\n",
    "titles = [{'title': title} for title in get_movie_titles(movie_ids, movies_table_name)]\n",
    "display(titles)"
   ]
  }
 ],
 "metadata": {
  "application/vnd.databricks.v1+notebook": {
   "computePreferences": null,
   "dashboards": [],
   "environmentMetadata": {
    "base_environment": "",
    "environment_version": "2"
   },
   "inputWidgetPreferences": null,
   "language": "python",
   "notebookMetadata": {
    "pythonIndentUnit": 4
   },
   "notebookName": "mlflow_model_load_test",
   "widgets": {}
  },
  "language_info": {
   "name": "python"
  }
 },
 "nbformat": 4,
 "nbformat_minor": 0
}
