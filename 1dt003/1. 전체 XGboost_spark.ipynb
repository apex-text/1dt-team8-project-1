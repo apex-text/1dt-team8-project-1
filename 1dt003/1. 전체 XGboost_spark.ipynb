{
 "cells": [
  {
   "cell_type": "markdown",
   "metadata": {
    "application/vnd.databricks.v1+cell": {
     "cellMetadata": {
      "byteLimit": 2048000,
      "rowLimit": 10000
     },
     "inputWidgets": {},
     "nuid": "df6560ad-7649-41be-9586-1f87284eb0f6",
     "showTitle": false,
     "tableResultSettingsMap": {},
     "title": ""
    }
   },
   "source": [
    "#0. 환경"
   ]
  },
  {
   "cell_type": "code",
   "execution_count": 0,
   "metadata": {
    "application/vnd.databricks.v1+cell": {
     "cellMetadata": {
      "byteLimit": 2048000,
      "rowLimit": 10000
     },
     "inputWidgets": {},
     "nuid": "66831ff2-6fdb-4f55-a673-c09fdbc52d9f",
     "showTitle": false,
     "tableResultSettingsMap": {},
     "title": ""
    }
   },
   "outputs": [],
   "source": [
    "%pip install optuna"
   ]
  },
  {
   "cell_type": "code",
   "execution_count": 0,
   "metadata": {
    "application/vnd.databricks.v1+cell": {
     "cellMetadata": {
      "byteLimit": 2048000,
      "rowLimit": 10000
     },
     "inputWidgets": {},
     "nuid": "8a63e34d-3598-4d68-9e26-58c35dde5537",
     "showTitle": false,
     "tableResultSettingsMap": {},
     "title": ""
    }
   },
   "outputs": [],
   "source": [
    "from pyspark.sql import SparkSession\n",
    "from pyspark.sql.functions import *\n",
    "from pyspark.sql.functions import sum as _sum\n",
    "from pyspark.sql.window import Window\n",
    "from pyspark.ml.functions import vector_to_array\n",
    "from pyspark.ml.feature import RegexTokenizer, CountVectorizer, VectorAssembler, StringIndexer\n",
    "from pyspark.ml import Pipeline\n",
    "from pyspark.sql.types import DoubleType, IntegerType\n",
    "from xgboost.spark import SparkXGBClassifier\n",
    "import mlflow\n",
    "import math\n",
    "from builtins import sum as py_sum\n",
    "import numpy as np\n",
    "import pandas as pd\n",
    "import matplotlib.pyplot as plt\n",
    "import tempfile\n",
    "import shap\n",
    "# import optuna"
   ]
  },
  {
   "cell_type": "code",
   "execution_count": 0,
   "metadata": {
    "application/vnd.databricks.v1+cell": {
     "cellMetadata": {
      "byteLimit": 2048000,
      "rowLimit": 10000
     },
     "inputWidgets": {},
     "nuid": "fa284b47-d962-47a9-b990-5bbfaeaff070",
     "showTitle": false,
     "tableResultSettingsMap": {},
     "title": ""
    }
   },
   "outputs": [],
   "source": [
    "spark = SparkSession.builder \\\n",
    "    .appName(\"sparkXGBoost\") \\\n",
    "    .getOrCreate()\n",
    "mlflow.autolog(disable=True)\n",
    "mlflow.spark.autolog(disable=True)"
   ]
  },
  {
   "cell_type": "markdown",
   "metadata": {
    "application/vnd.databricks.v1+cell": {
     "cellMetadata": {
      "byteLimit": 2048000,
      "rowLimit": 10000
     },
     "inputWidgets": {},
     "nuid": "7c84e855-ddbe-45c0-82c9-b005c7c0f5f7",
     "showTitle": false,
     "tableResultSettingsMap": {},
     "title": ""
    }
   },
   "source": [
    "# 1. 데이터로드"
   ]
  },
  {
   "cell_type": "markdown",
   "metadata": {
    "application/vnd.databricks.v1+cell": {
     "cellMetadata": {
      "byteLimit": 2048000,
      "rowLimit": 10000
     },
     "inputWidgets": {},
     "nuid": "dcb46cb5-c0a1-4072-963f-a6f9974d1175",
     "showTitle": false,
     "tableResultSettingsMap": {},
     "title": ""
    }
   },
   "source": [
    "### 데이터 로드"
   ]
  },
  {
   "cell_type": "code",
   "execution_count": 0,
   "metadata": {
    "application/vnd.databricks.v1+cell": {
     "cellMetadata": {
      "byteLimit": 2048000,
      "rowLimit": 10000
     },
     "inputWidgets": {},
     "nuid": "49c20c36-c995-422e-9661-24d5b2075724",
     "showTitle": false,
     "tableResultSettingsMap": {},
     "title": ""
    }
   },
   "outputs": [],
   "source": [
    "catalog = \"1dt_team8_databricks\"\n",
    "schema = \"`final`\"\n",
    "path = f\"{catalog}.{schema}\"\n",
    "\n",
    "try:\n",
    "    train = spark.read.table(f\"{path}.train_df\")\n",
    "    validation = spark.read.table(f\"{path}.validation_df\")\n",
    "    test = spark.read.table(f\"{path}.test_df\")\n",
    "except Exception as e:\n",
    "    print(f\"Error loading data from Unity Catalog Volume: {e}\")\n",
    "# display(train)\n",
    "# display(validation)\n",
    "# display(test)\n",
    "\n",
    "train = train.withColumn(\"label\", when(train[\"rating\"] >= 4, 1).otherwise(0))\n",
    "validation = validation.withColumn(\"label\", when(validation[\"rating\"] >= 4, 1).otherwise(0))\n",
    "test = test.withColumn(\"label\", when(test[\"rating\"] >= 4, 1).otherwise(0))\n",
    "\n",
    "\n",
    "# train, validation, test에서 movieId 컬럼만 추출해서 중복 제거한 뒤 합치기\n",
    "movies_train = train.select(\"movieId\").distinct()\n",
    "movies_validation = validation.select(\"movieId\").distinct()\n",
    "movies_test = test.select(\"movieId\").distinct()\n",
    "\n",
    "# 세 데이터프레임 합치기\n",
    "all_movies = movies_train.union(movies_validation).union(movies_test).distinct()"
   ]
  },
  {
   "cell_type": "markdown",
   "metadata": {
    "application/vnd.databricks.v1+cell": {
     "cellMetadata": {
      "byteLimit": 2048000,
      "rowLimit": 10000
     },
     "inputWidgets": {},
     "nuid": "96a9659d-6f72-4d65-b112-ba1ab26c033f",
     "showTitle": false,
     "tableResultSettingsMap": {},
     "title": ""
    }
   },
   "source": [
    "### 임시코드"
   ]
  },
  {
   "cell_type": "code",
   "execution_count": 0,
   "metadata": {
    "application/vnd.databricks.v1+cell": {
     "cellMetadata": {
      "byteLimit": 2048000,
      "rowLimit": 10000
     },
     "inputWidgets": {},
     "nuid": "d0b4db14-6319-4e29-ae78-ebed6d258de5",
     "showTitle": false,
     "tableResultSettingsMap": {},
     "title": ""
    }
   },
   "outputs": [],
   "source": [
    "catalog = \"1dt_team8_databricks\"\n",
    "schema = \"`imdb`\"\n",
    "imdb_path = f\"{catalog}.{schema}\"\n",
    "\n",
    "try:\n",
    "    title_basics = spark.read.table(f\"{imdb_path}.title_basics\")\n",
    "    print(\"Data loaded successfully from Unity Catalog Volume.\")\n",
    "except Exception as e:\n",
    "    print(f\"Error loading data from Unity Catalog Volume: {e}\")\n",
    "    print(f\"Please ensure CSV files (imdb_ratings.csv) exist in {imdb_path}\")"
   ]
  },
  {
   "cell_type": "code",
   "execution_count": 0,
   "metadata": {
    "application/vnd.databricks.v1+cell": {
     "cellMetadata": {
      "byteLimit": 2048000,
      "rowLimit": 10000
     },
     "inputWidgets": {},
     "nuid": "aac5eaf3-bd56-4dd0-93b7-b8f454253625",
     "showTitle": false,
     "tableResultSettingsMap": {},
     "title": ""
    }
   },
   "outputs": [],
   "source": [
    "catalog = \"1dt_team8_databricks\"\n",
    "schema = \"`movielens-32m`\"\n",
    "volume_path = f\"{catalog}.{schema}\"\n",
    "\n",
    "links = spark.read.table(f\"{volume_path}.links\")\n",
    "\n",
    "catalog = \"1dt_team8_databricks\"\n",
    "schema = \"`imdb`\"\n",
    "imdb_path = f\"{catalog}.{schema}\"\n",
    "\n",
    "# 1. links에서 imdbId → tconst 형식으로 변환\n",
    "links_with_tconst = links.withColumn(\n",
    "    \"tconst\", concat(lit(\"tt\"), lpad(col(\"imdbId\").cast(\"string\"), 7, \"0\"))\n",
    ")\n",
    "\n",
    "# 2. 필요한 열만 추출\n",
    "title_years = title_basics.select(\"tconst\", \"startYear\")\n",
    "\n",
    "# 3. movies별로 year가 null인 경우에만 보완할 준비\n",
    "def fill_year_from_title_basics(df, links_df, title_basics_df):\n",
    "    # movieId 기준으로 links 조인 → tconst 획득\n",
    "    df_with_tconst = df.join(links_df.select(\"movieId\", \"tconst\"), on=\"movieId\", how=\"left\")\n",
    "\n",
    "    # tconst 기준으로 title_basics 조인 → startYear 획득\n",
    "    df_with_year = df_with_tconst.join(\n",
    "        title_basics_df.select(\"tconst\", \"startYear\"), on=\"tconst\", how=\"left\"\n",
    "    )\n",
    "\n",
    "    # 기존 year가 null인 경우 startYear로 대체\n",
    "    df_filled = df_with_year.withColumn(\n",
    "        \"year\",\n",
    "        when(col(\"year\").isNull(), col(\"startYear\")).otherwise(col(\"year\"))\n",
    "    )\n",
    "\n",
    "    # 불필요한 열 제거 및 정리\n",
    "    return df_filled.drop(\"startYear\", \"tconst\")\n",
    "\n",
    "# 4. 각 데이터셋에 적용\n",
    "train = fill_year_from_title_basics(train, links_with_tconst, title_years)\n",
    "validation = fill_year_from_title_basics(validation, links_with_tconst, title_years)\n",
    "test = fill_year_from_title_basics(test, links_with_tconst, title_years)\n",
    "\n",
    "# 5. 결측치가 정말 채워졌는지 확인\n",
    "print(\"Train 결측치 수:\", train.filter(col(\"year\").isNull()).count())\n",
    "print(\"Val 결측치 수:\", validation.filter(col(\"year\").isNull()).count())\n",
    "print(\"Test 결측치 수:\", test.filter(col(\"year\").isNull()).count())\n",
    "\n",
    "train = train.withColumn(\"year\", col(\"year\").cast(IntegerType()))\n",
    "validation = validation.withColumn(\"year\", col(\"year\").cast(IntegerType()))\n",
    "\n",
    "test = test.withColumn(\"year\", col(\"year\").cast(IntegerType()))"
   ]
  },
  {
   "cell_type": "markdown",
   "metadata": {
    "application/vnd.databricks.v1+cell": {
     "cellMetadata": {
      "byteLimit": 2048000,
      "rowLimit": 10000
     },
     "inputWidgets": {},
     "nuid": "2dd78242-4c3f-499c-b9de-b0d0ffe62988",
     "showTitle": false,
     "tableResultSettingsMap": {},
     "title": ""
    }
   },
   "source": [
    "# 2. 데이터분리"
   ]
  },
  {
   "cell_type": "markdown",
   "metadata": {
    "application/vnd.databricks.v1+cell": {
     "cellMetadata": {
      "byteLimit": 2048000,
      "rowLimit": 10000
     },
     "inputWidgets": {},
     "nuid": "66a39b18-7335-4eff-a3fa-0e6f4864f6c3",
     "showTitle": false,
     "tableResultSettingsMap": {},
     "title": ""
    }
   },
   "source": [
    "## 파이프라인"
   ]
  },
  {
   "cell_type": "code",
   "execution_count": 0,
   "metadata": {
    "application/vnd.databricks.v1+cell": {
     "cellMetadata": {
      "byteLimit": 2048000,
      "rowLimit": 10000
     },
     "inputWidgets": {},
     "nuid": "e79705f7-ecb6-4673-9e1a-3c311f0d458e",
     "showTitle": false,
     "tableResultSettingsMap": {},
     "title": ""
    }
   },
   "outputs": [],
   "source": [
    "user_indexer = StringIndexer(inputCol=\"userId\", outputCol=\"userIndex\", handleInvalid=\"keep\")\n",
    "movie_indexer = StringIndexer(inputCol=\"movieId\", outputCol=\"movieIndex\", handleInvalid=\"keep\")\n",
    "user_indexer_model = user_indexer.fit(train)\n",
    "movie_indexer_model = movie_indexer.fit(train)\n",
    "\n",
    "tokenizer = RegexTokenizer(inputCol=\"genres\", outputCol=\"genres_tokens\", pattern=\"\\\\|\")\n",
    "vectorizer = CountVectorizer(inputCol=\"genres_tokens\", outputCol=\"genres_vec\")\n",
    "\n",
    "assembler_all = VectorAssembler(\n",
    "    inputCols=[\"genres_vec\", \"userIndex\", \"movieIndex\", \"year\"],\n",
    "    outputCol=\"features\"\n",
    ")\n",
    "\n",
    "pipeline = Pipeline(stages=[\n",
    "    tokenizer, vectorizer, \n",
    "    user_indexer, movie_indexer, assembler_all\n",
    "])\n",
    "\n",
    "pipeline_model = pipeline.fit(train)\n",
    "train_transformed = pipeline_model.transform(train)\n",
    "validation_transformed = pipeline_model.transform(validation)\n",
    "test_transformed = pipeline_model.transform(test)\n",
    "\n",
    "train_transformed.cache()\n",
    "validation_transformed.cache()\n",
    "test_transformed.cache()"
   ]
  },
  {
   "cell_type": "markdown",
   "metadata": {
    "application/vnd.databricks.v1+cell": {
     "cellMetadata": {
      "byteLimit": 2048000,
      "rowLimit": 10000
     },
     "inputWidgets": {},
     "nuid": "c41418dd-1adf-4548-a228-9ef00c6a3a24",
     "showTitle": false,
     "tableResultSettingsMap": {},
     "title": ""
    }
   },
   "source": [
    "# 3. 모델 설계 및 평가"
   ]
  },
  {
   "cell_type": "markdown",
   "metadata": {
    "application/vnd.databricks.v1+cell": {
     "cellMetadata": {
      "byteLimit": 2048000,
      "rowLimit": 10000
     },
     "inputWidgets": {},
     "nuid": "5c3f9a08-fbea-4caf-a2f8-a2bcbc8eb528",
     "showTitle": false,
     "tableResultSettingsMap": {},
     "title": ""
    }
   },
   "source": [
    "## XgbClassifier"
   ]
  },
  {
   "cell_type": "code",
   "execution_count": 0,
   "metadata": {
    "application/vnd.databricks.v1+cell": {
     "cellMetadata": {
      "byteLimit": 2048000,
      "rowLimit": 10000
     },
     "inputWidgets": {},
     "nuid": "5c695f2b-6659-413d-bff7-ab632b6a7e29",
     "showTitle": false,
     "tableResultSettingsMap": {},
     "title": ""
    }
   },
   "outputs": [],
   "source": [
    "xgb_model = SparkXGBClassifier(\n",
    "    max_depth=6,\n",
    "    num_round=100,\n",
    "    eta=0.1,\n",
    "    eval_metric='logloss',\n",
    "    missing=0.0,  # NaN 처리 방식\n",
    "    features_col=\"features\",\n",
    "    label_col=\"label\",\n",
    "    prediction_col=\"prediction\",\n",
    "    probability_col=\"probability\",\n",
    "    seed=0\n",
    ")\n",
    "\n",
    "# 2. 학습\n",
    "xgb_model_fitted = xgb_model.fit(train_transformed)"
   ]
  },
  {
   "cell_type": "code",
   "execution_count": 0,
   "metadata": {
    "application/vnd.databricks.v1+cell": {
     "cellMetadata": {
      "byteLimit": 2048000,
      "rowLimit": 10000
     },
     "inputWidgets": {},
     "nuid": "f8582d4b-e9d5-4128-ac3e-5ba14e76b75c",
     "showTitle": false,
     "tableResultSettingsMap": {},
     "title": ""
    }
   },
   "outputs": [],
   "source": [
    "# 1. validation 데이터로 예측 수행\n",
    "raw_predictions = xgb_model_fitted.transform(validation_transformed)\n",
    "\n",
    "# 2. 예측 확률(y_pred_proba) 컬럼 추가 (probability 벡터에서 긍정 클래스 확률 추출)\n",
    "predictions = raw_predictions.withColumn(\"y_pred_proba\", vector_to_array(col(\"probability\"))[1])\n",
    "\n",
    "# 3. 필요한 컬럼만 선택 (userIndex, movieIndex, 실제 label, prediction, 예측 확률)\n",
    "predictions = predictions.select(\n",
    "    \"userIndex\",\n",
    "    \"movieIndex\",\n",
    "    col(\"label\"),\n",
    "    \"prediction\",\n",
    "    \"y_pred_proba\"\n",
    ")\n",
    "\n",
    "# 4. 결과 확인\n",
    "predictions.show(truncate=False)"
   ]
  },
  {
   "cell_type": "markdown",
   "metadata": {
    "application/vnd.databricks.v1+cell": {
     "cellMetadata": {
      "byteLimit": 2048000,
      "rowLimit": 10000
     },
     "inputWidgets": {},
     "nuid": "f5ab45d3-cc01-48a8-8d06-762cb7f40830",
     "showTitle": false,
     "tableResultSettingsMap": {},
     "title": ""
    }
   },
   "source": [
    "### 평가지표"
   ]
  },
  {
   "cell_type": "code",
   "execution_count": 0,
   "metadata": {
    "application/vnd.databricks.v1+cell": {
     "cellMetadata": {
      "byteLimit": 2048000,
      "rowLimit": 10000
     },
     "inputWidgets": {},
     "nuid": "dfe269c4-169c-4367-a003-9a2700009135",
     "showTitle": false,
     "tableResultSettingsMap": {},
     "title": ""
    }
   },
   "outputs": [],
   "source": [
    "# 1. Top-K 추출\n",
    "k = 10\n",
    "window_spec = Window.partitionBy(\"userIndex\").orderBy(col(\"y_pred_proba\").desc())\n",
    "\n",
    "topk_df = predictions.withColumn(\"rank\", row_number().over(window_spec)) \\\n",
    "                     .filter(col(\"rank\") <= k)"
   ]
  },
  {
   "cell_type": "code",
   "execution_count": 0,
   "metadata": {
    "application/vnd.databricks.v1+cell": {
     "cellMetadata": {
      "byteLimit": 2048000,
      "rowLimit": 10000
     },
     "inputWidgets": {},
     "nuid": "41235562-d60b-47e5-b44f-aaa85e6ec3fa",
     "showTitle": false,
     "tableResultSettingsMap": {},
     "title": ""
    }
   },
   "outputs": [],
   "source": [
    "# 2. Precision@K 계산\n",
    "precision_df = topk_df.groupBy(\"userIndex\") \\\n",
    "    .agg(_sum(col(\"label\")).alias(\"true_positives\")) \\\n",
    "    .withColumn(\"precision_at_k\", col(\"true_positives\") / k)\n",
    "\n",
    "mean_precision = precision_df.agg(avg(\"precision_at_k\")).first()[0]\n",
    "print(f\"[Validation Set] precision@{k}: {mean_precision:.4f}\")"
   ]
  },
  {
   "cell_type": "code",
   "execution_count": 0,
   "metadata": {
    "application/vnd.databricks.v1+cell": {
     "cellMetadata": {
      "byteLimit": 2048000,
      "rowLimit": 10000
     },
     "inputWidgets": {},
     "nuid": "c6d015ef-4504-46e3-bb09-0f6ea85f7ed0",
     "showTitle": false,
     "tableResultSettingsMap": {},
     "title": ""
    }
   },
   "outputs": [],
   "source": [
    "# 3. Recall@K 계산\n",
    "total_relevant_df = predictions.groupBy(\"userIndex\") \\\n",
    "    .agg(_sum(col(\"label\")).alias(\"total_relevant\"))\n",
    "\n",
    "recall_df = precision_df.join(total_relevant_df, on=\"userIndex\") \\\n",
    "    .withColumn(\"recall_at_k\", col(\"true_positives\") / col(\"total_relevant\"))\n",
    "\n",
    "mean_recall = recall_df.agg(avg(\"recall_at_k\")).first()[0]\n",
    "print(f\"[Validation Set] Recall@{k}: {mean_recall:.4f}\")"
   ]
  },
  {
   "cell_type": "code",
   "execution_count": 0,
   "metadata": {
    "application/vnd.databricks.v1+cell": {
     "cellMetadata": {
      "byteLimit": 2048000,
      "rowLimit": 10000
     },
     "inputWidgets": {},
     "nuid": "3d540741-e915-4afa-a72e-b242da9a7146",
     "showTitle": false,
     "tableResultSettingsMap": {},
     "title": ""
    }
   },
   "outputs": [],
   "source": [
    "# 4. NDCG@K 계산\n",
    "# 사용자별 정답(label) 리스트 (예측 확률 기준 정렬, validation 데이터)\n",
    "user_labels_val = topk_df.orderBy(\"userIndex\", \"rank\") \\\n",
    "    .groupBy(\"userIndex\") \\\n",
    "    .agg(collect_list(\"label\").alias(\"label_list\"))\n",
    "\n",
    "# DCG@K 계산 함수\n",
    "def dcg_at_k(labels, k):\n",
    "    if not labels:\n",
    "        return 0.0\n",
    "    return py_sum([rel / math.log2(idx + 2) for idx, rel in enumerate(labels[:k])])\n",
    "\n",
    "# IDCG@K 계산 함수\n",
    "def idcg_at_k(labels, k):\n",
    "    if not labels:\n",
    "        return 0.0\n",
    "    sorted_labels = sorted(labels, reverse=True)\n",
    "    return py_sum([rel / math.log2(idx + 2) for idx, rel in enumerate(sorted_labels[:k])])\n",
    "\n",
    "# UDF 등록\n",
    "dcg_udf = udf(lambda x: dcg_at_k(x, K), DoubleType())\n",
    "idcg_udf = udf(lambda x: idcg_at_k(x, K), DoubleType())\n",
    "\n",
    "# 사용자별 nDCG 계산 (validation)\n",
    "ndcg_val_df = user_labels_val.withColumn(\"dcg\", dcg_udf(\"label_list\")) \\\n",
    "                             .withColumn(\"idcg\", idcg_udf(\"label_list\")) \\\n",
    "                             .withColumn(\"ndcg_at_k\", col(\"dcg\") / col(\"idcg\"))\n",
    "\n",
    "# 평균 nDCG@K (validation)\n",
    "mean_ndcg_val = ndcg_val_df.select(avg(\"ndcg_at_k\").alias(\"mean_ndcg_at_k\")).first()[\"mean_ndcg_at_k\"]\n",
    "\n",
    "print(f\"[Validation Set] nDCG@{k}: {mean_ndcg_val:.4f}\")"
   ]
  },
  {
   "cell_type": "code",
   "execution_count": 0,
   "metadata": {
    "application/vnd.databricks.v1+cell": {
     "cellMetadata": {
      "byteLimit": 2048000,
      "rowLimit": 10000
     },
     "inputWidgets": {},
     "nuid": "b140bc83-77dc-49cb-8391-9a797bc16dba",
     "showTitle": false,
     "tableResultSettingsMap": {},
     "title": ""
    }
   },
   "outputs": [],
   "source": [
    "print(f\"Precision@{k}: {mean_precision:.4f}\")\n",
    "print(f\"Recall@{k}: {mean_recall:.4f}\")\n",
    "print(f\"[Validation Set] nDCG@{k}: {mean_ndcg_val:.4f}\")"
   ]
  },
  {
   "cell_type": "markdown",
   "metadata": {
    "application/vnd.databricks.v1+cell": {
     "cellMetadata": {
      "byteLimit": 2048000,
      "rowLimit": 10000
     },
     "inputWidgets": {},
     "nuid": "cfe6508e-3f62-40ce-8b5f-1db17423b958",
     "showTitle": false,
     "tableResultSettingsMap": {},
     "title": ""
    }
   },
   "source": [
    "### MLFlow + Optuna"
   ]
  },
  {
   "cell_type": "code",
   "execution_count": 0,
   "metadata": {
    "application/vnd.databricks.v1+cell": {
     "cellMetadata": {
      "byteLimit": 2048000,
      "rowLimit": 10000
     },
     "inputWidgets": {},
     "nuid": "72b727f2-3085-4ea0-93ea-a1070b3bc698",
     "showTitle": false,
     "tableResultSettingsMap": {},
     "title": ""
    }
   },
   "outputs": [],
   "source": [
    "mlflow.set_experiment(\"/MLflow\")\n",
    "\n",
    "def objective(trial):\n",
    "    # 하이퍼파라미터 샘플링\n",
    "    param = {\n",
    "        \"max_depth\": trial.suggest_int(\"max_depth\", 3, 10),\n",
    "        \"eta\": trial.suggest_float(\"eta\", 0.01, 0.3),\n",
    "        \"num_round\": trial.suggest_int(\"num_round\", 50, 100),\n",
    "        \"eval_metric\": \"logloss\",\n",
    "    }\n",
    "    \n",
    "\n",
    "    with mlflow.start_run(nested=True):\n",
    "        mlflow.log_params(param)\n",
    "\n",
    "        model = SparkXGBClassifier(\n",
    "            features_col=\"features\",\n",
    "            label_col=\"label\",\n",
    "            prediction_col=\"prediction\",\n",
    "            probability_col=\"probability\",\n",
    "            seed = 0,\n",
    "            **{\n",
    "                \"maxDepth\": param[\"max_depth\"],\n",
    "                \"eta\": param[\"eta\"],\n",
    "                \"numRound\": param[\"num_round\"],\n",
    "                \"evalMetric\": \"logloss\"\n",
    "            }\n",
    "        )\n",
    "        # 모델 학습\n",
    "        model_fitted = model.fit(train_transformed)\n",
    "\n",
    "        # 예측 수행\n",
    "        pred_test = model_fitted.transform(validation_transformed)\n",
    "\n",
    "        # 확률 추출\n",
    "        pred_test = pred_test.withColumn(\"y_pred_prob\", vector_to_array(col(\"probability\"))[1])\n",
    "\n",
    "        # userIndex별 상위 K개 추출\n",
    "        window_spec = Window.partitionBy(\"userIndex\").orderBy(col(\"y_pred_prob\").desc())\n",
    "        top_k = pred_test.withColumn(\"rank\", row_number().over(window_spec)) \\\n",
    "                         .filter(col(\"rank\") <= k)\n",
    "\n",
    "\n",
    "        # 사용자별 평균 정답 비율 → precision@K\n",
    "        precision_df = top_k.groupBy(\"userIndex\").agg(avg(\"label\").alias(\"user_precision\"))\n",
    "        result = precision_df.select(avg(\"user_precision\").alias(\"precision_at_k\")).collect()\n",
    "\n",
    "        if not result or result[0][\"precision_at_k\"] is None:\n",
    "            avg_precision_at_k = 0.0\n",
    "        else:\n",
    "            avg_precision_at_k = result[0][\"precision_at_k\"]\n",
    "\n",
    "        # MLflow 기록\n",
    "        mlflow.log_metric(\"precision_at_k\", avg_precision_at_k)\n",
    "        mlflow.spark.log_model(model_fitted, \"model\")\n",
    "\n",
    "        # Optuna 최소화 함수 → precision 최대화를 위해 음수 반환\n",
    "        return -avg_precision_at_k"
   ]
  },
  {
   "cell_type": "code",
   "execution_count": 0,
   "metadata": {
    "application/vnd.databricks.v1+cell": {
     "cellMetadata": {
      "byteLimit": 2048000,
      "rowLimit": 10000
     },
     "inputWidgets": {},
     "nuid": "6eec6a6f-f341-44a8-86fc-bb8a3ba68e1e",
     "showTitle": false,
     "tableResultSettingsMap": {},
     "title": ""
    }
   },
   "outputs": [],
   "source": [
    "# Optuna study 실행\n",
    "study = optuna.create_study(direction=\"minimize\")\n",
    "study.optimize(objective, n_trials=10)"
   ]
  },
  {
   "cell_type": "code",
   "execution_count": 0,
   "metadata": {
    "application/vnd.databricks.v1+cell": {
     "cellMetadata": {
      "byteLimit": 2048000,
      "rowLimit": 10000
     },
     "inputWidgets": {},
     "nuid": "0abe5a49-1fbc-45cc-ab0b-a6d9db5e9d41",
     "showTitle": false,
     "tableResultSettingsMap": {},
     "title": ""
    }
   },
   "outputs": [],
   "source": [
    "best_params = study.best_params\n",
    "spark_params = {\n",
    "    \"max_depth\": best_params[\"max_depth\"],\n",
    "    \"eta\": best_params[\"eta\"],\n",
    "    \"num_round\": best_params[\"num_round\"],\n",
    "    \"eval_metric\": \"logloss\",\n",
    "    \"features_col\": \"features\",\n",
    "    \"label_col\": \"label\",\n",
    "    \"prediction_col\": \"prediction\",\n",
    "    \"probability_col\": \"probability\",\n",
    "    \"missing\": 0.0,\n",
    "    \"seed\": 0\n",
    "}"
   ]
  },
  {
   "cell_type": "code",
   "execution_count": 0,
   "metadata": {
    "application/vnd.databricks.v1+cell": {
     "cellMetadata": {
      "byteLimit": 2048000,
      "rowLimit": 10000
     },
     "inputWidgets": {},
     "nuid": "59b4243f-ec8e-4216-b091-3dbe7e26b30b",
     "showTitle": false,
     "tableResultSettingsMap": {},
     "title": ""
    }
   },
   "outputs": [],
   "source": [
    "# 3. 최종 모델 학습 및 MLflow에 저장\n",
    "with mlflow.start_run(run_name=\"SparkXGBoost\"):\n",
    "    mlflow.log_params(best_params)\n",
    "\n",
    "    final_model = SparkXGBClassifier(**spark_params)\n",
    "    fitted_model = final_model.fit(train_transformed)\n",
    "\n",
    "    mlflow.spark.log_model(fitted_model, \"final_model\")\n",
    "\n",
    "    # 필요 시 예측 결과 생성\n",
    "    final_predictions = fitted_model.transform(validation_transformed)\n",
    "    final_predictions.select(\"userIndex\", \"movieIndex\", \"prediction\").show()"
   ]
  },
  {
   "cell_type": "markdown",
   "metadata": {
    "application/vnd.databricks.v1+cell": {
     "cellMetadata": {
      "byteLimit": 2048000,
      "rowLimit": 10000
     },
     "inputWidgets": {},
     "nuid": "ef9e0b82-36d8-48f5-93fa-f2e98176c7ea",
     "showTitle": false,
     "tableResultSettingsMap": {},
     "title": ""
    }
   },
   "source": [
    "# 4. 결과"
   ]
  },
  {
   "cell_type": "markdown",
   "metadata": {
    "application/vnd.databricks.v1+cell": {
     "cellMetadata": {
      "byteLimit": 2048000,
      "rowLimit": 10000
     },
     "inputWidgets": {},
     "nuid": "a69e39a6-e8b2-4f94-9fae-48483ed2c14b",
     "showTitle": false,
     "tableResultSettingsMap": {},
     "title": ""
    }
   },
   "source": [
    "## 모델 로드"
   ]
  },
  {
   "cell_type": "code",
   "execution_count": 0,
   "metadata": {
    "application/vnd.databricks.v1+cell": {
     "cellMetadata": {
      "byteLimit": 2048000,
      "rowLimit": 10000
     },
     "inputWidgets": {},
     "nuid": "7c2bd1a6-c420-4ede-981f-cf9e60c69cfa",
     "showTitle": false,
     "tableResultSettingsMap": {},
     "title": ""
    }
   },
   "outputs": [],
   "source": [
    "K = 10\n",
    "\n",
    "# 1. 최적화된 모델 로드 (run_id 또는 experiment에서 마지막 모델 불러오기)\n",
    "model_uri = \"runs:/d425b9e818124a1dbcc3fb2a6e2741f6/final_model\"\n",
    "final_model = mlflow.spark.load_model(model_uri)\n",
    "\n",
    "# 2. 테스트 데이터로 예측 수행\n",
    "pred_test = final_model.transform(test_transformed)\n",
    "\n",
    "# 3. 예측 확률(y_pred_proba) 컬럼 추가 (probability 벡터에서 긍정 클래스 확률 추출)\n",
    "pred_test = pred_test.withColumn(\"y_pred_proba\", vector_to_array(col(\"probability\"))[1])"
   ]
  },
  {
   "cell_type": "markdown",
   "metadata": {
    "application/vnd.databricks.v1+cell": {
     "cellMetadata": {
      "byteLimit": 2048000,
      "rowLimit": 10000
     },
     "inputWidgets": {},
     "nuid": "264d3d71-5e8b-45d5-b03c-09c9bdcb248f",
     "showTitle": false,
     "tableResultSettingsMap": {},
     "title": ""
    }
   },
   "source": [
    "## 평가지표"
   ]
  },
  {
   "cell_type": "code",
   "execution_count": 0,
   "metadata": {
    "application/vnd.databricks.v1+cell": {
     "cellMetadata": {
      "byteLimit": 2048000,
      "rowLimit": 10000
     },
     "inputWidgets": {},
     "nuid": "11dbd8b8-b35e-4800-9928-5c8e96e9ce16",
     "showTitle": false,
     "tableResultSettingsMap": {},
     "title": ""
    }
   },
   "outputs": [],
   "source": [
    "K = 10\n",
    "\n",
    "# 사용자별 상위 K개 추천 항목 선택\n",
    "window_spec = Window.partitionBy(\"userIndex\").orderBy(col(\"y_pred_proba\").desc())\n",
    "top_k = pred_test.withColumn(\"rank\", row_number().over(window_spec)) \\\n",
    "                 .filter(col(\"rank\") <= K)"
   ]
  },
  {
   "cell_type": "code",
   "execution_count": 0,
   "metadata": {
    "application/vnd.databricks.v1+cell": {
     "cellMetadata": {
      "byteLimit": 2048000,
      "rowLimit": 10000
     },
     "inputWidgets": {},
     "nuid": "be06c60c-dba8-4b09-aa19-56c8ea7779d2",
     "showTitle": false,
     "tableResultSettingsMap": {},
     "title": ""
    }
   },
   "outputs": [],
   "source": [
    "# 사용자별 Precision@K 계산\n",
    "precision_df = top_k.groupBy(\"userIndex\") \\\n",
    "                   .agg(avg(\"label\").alias(\"precision_at_k\"))\n",
    "\n",
    "mean_precision_at_k = precision_df.select(avg(\"precision_at_k\").alias(\"mean_precision_at_k\")) \\\n",
    "                                  .first()[\"mean_precision_at_k\"]\n",
    "\n",
    "print(f\"[Test Set] Precision@{K}: {mean_precision_at_k:.4f}\")"
   ]
  },
  {
   "cell_type": "code",
   "execution_count": 0,
   "metadata": {
    "application/vnd.databricks.v1+cell": {
     "cellMetadata": {
      "byteLimit": 2048000,
      "rowLimit": 10000
     },
     "inputWidgets": {},
     "nuid": "166369a1-8d96-41d9-aa58-6e3f3e8127b0",
     "showTitle": false,
     "tableResultSettingsMap": {},
     "title": ""
    }
   },
   "outputs": [],
   "source": [
    "# 사용자별 실제 긍정 아이템 총 개수 계산\n",
    "total_relevant_df = pred_test.groupBy(\"userIndex\") \\\n",
    "                             .agg(_sum(\"label\").alias(\"total_relevant\"))\n",
    "\n",
    "# 사용자별 상위 K개 추천 내 실제 긍정 개수 계산\n",
    "true_positives_df = top_k.groupBy(\"userIndex\") \\\n",
    "                        .agg(_sum(\"label\").alias(\"true_positives\"))\n",
    "\n",
    "# Recall@K 계산 (true positives / total relevant)\n",
    "recall_df = true_positives_df.join(total_relevant_df, on=\"userIndex\") \\\n",
    "                             .withColumn(\"recall_at_k\", \n",
    "                                         col(\"true_positives\") / col(\"total_relevant\"))\n",
    "\n",
    "mean_recall_at_k = recall_df.select(avg(\"recall_at_k\").alias(\"mean_recall_at_k\")) \\\n",
    "                           .first()[\"mean_recall_at_k\"]\n",
    "\n",
    "print(f\"[Test Set] Recall@{K}: {mean_recall_at_k:.4f}\")"
   ]
  },
  {
   "cell_type": "code",
   "execution_count": 0,
   "metadata": {
    "application/vnd.databricks.v1+cell": {
     "cellMetadata": {
      "byteLimit": 2048000,
      "rowLimit": 10000
     },
     "inputWidgets": {},
     "nuid": "0889c2cd-c597-47fb-9600-5e1adbcbbf10",
     "showTitle": false,
     "tableResultSettingsMap": {},
     "title": ""
    }
   },
   "outputs": [],
   "source": [
    "# 사용자별 정답(label) 리스트 (정렬 순서: 예측 확률 기준)\n",
    "user_labels = top_k.orderBy(\"userIndex\", \"rank\") \\\n",
    "    .groupBy(\"userIndex\") \\\n",
    "    .agg(collect_list(\"label\").alias(\"label_list\"))\n",
    "\n",
    "# DCG@K 계산 함수\n",
    "def dcg_at_k(labels, k):\n",
    "    import math\n",
    "    if not labels:\n",
    "        return 0.0\n",
    "    return py_sum([rel / math.log2(idx + 2) for idx, rel in enumerate(labels[:k])])\n",
    "\n",
    "# IDCG@K 계산 함수\n",
    "def idcg_at_k(labels, k):\n",
    "    if not labels:\n",
    "        return 0.0\n",
    "    sorted_labels = sorted(labels, reverse=True)\n",
    "    return py_sum([rel / math.log2(idx + 2) for idx, rel in enumerate(sorted_labels[:k])])\n",
    "\n",
    "# UDF 등록\n",
    "dcg_udf = udf(lambda x: dcg_at_k(x, K), DoubleType())\n",
    "idcg_udf = udf(lambda x: idcg_at_k(x, K), DoubleType())\n",
    "\n",
    "# 사용자별 정답 리스트에서 nDCG 계산\n",
    "ndcg_df = user_labels.withColumn(\"dcg\", dcg_udf(\"label_list\")) \\\n",
    "                     .withColumn(\"idcg\", idcg_udf(\"label_list\")) \\\n",
    "                     .withColumn(\"ndcg_at_k\", col(\"dcg\") / col(\"idcg\"))\n",
    "\n",
    "# 평균 nDCG@K\n",
    "mean_ndcg = ndcg_df.select(avg(\"ndcg_at_k\").alias(\"mean_ndcg_at_k\")).first()[\"mean_ndcg_at_k\"]\n",
    "\n",
    "print(f\"[Test Set] nDCG@{K}: {mean_ndcg:.4f}\")"
   ]
  },
  {
   "cell_type": "code",
   "execution_count": 0,
   "metadata": {
    "application/vnd.databricks.v1+cell": {
     "cellMetadata": {
      "byteLimit": 2048000,
      "rowLimit": 10000
     },
     "inputWidgets": {},
     "nuid": "fa835bec-7653-4d9e-b7b5-9632d45d7474",
     "showTitle": false,
     "tableResultSettingsMap": {},
     "title": ""
    }
   },
   "outputs": [],
   "source": [
    "mlflow.set_experiment(\"/MLflow\")\n",
    "\n",
    "with mlflow.start_run(run_name=\"SparkXgboostMetric\"):\n",
    "    mlflow.log_metric(\"Precision@K\", mean_precision_at_k)\n",
    "    mlflow.log_metric(\"Recall@K\", mean_recall_at_k)\n",
    "    mlflow.log_metric(\"nDCG@K\", mean_ndcg)\n",
    "\n",
    "print(f\"[Test Set] Precision@{K}: {mean_precision_at_k:.4f}\")\n",
    "print(f\"[Test Set] Recall@{K}: {mean_recall_at_k:.4f}\")\n",
    "print(f\"[Test Set] nDCG@{K}: {mean_ndcg:.4f}\")"
   ]
  },
  {
   "cell_type": "code",
   "execution_count": 0,
   "metadata": {
    "application/vnd.databricks.v1+cell": {
     "cellMetadata": {
      "byteLimit": 2048000,
      "rowLimit": 10000
     },
     "inputWidgets": {},
     "nuid": "a6848bc9-f20d-48d8-97e3-4102019aa6f0",
     "showTitle": false,
     "tableResultSettingsMap": {},
     "title": ""
    }
   },
   "outputs": [],
   "source": [
    "metrics = ['Precision@K', 'Recall@K', 'nDCG@K']\n",
    "scores = [mean_precision_at_k, mean_recall_at_k, mean_ndcg]\n",
    "\n",
    "# 시각화\n",
    "plt.figure(figsize=(6, 4))\n",
    "bars = plt.bar(metrics, scores, color=['skyblue', 'lightgreen', 'salmon'])\n",
    "\n",
    "# 바 위에 수치 표기\n",
    "for bar in bars:\n",
    "    height = bar.get_height()\n",
    "    plt.text(bar.get_x() + bar.get_width()/2.0, height + 0.01, f\"{height:.4f}\", ha='center', va='bottom')\n",
    "\n",
    "plt.title(f'Evaluation Metrics @K={K}')\n",
    "plt.ylim(0, 1.1)\n",
    "plt.ylabel(\"Score\")\n",
    "plt.tight_layout()\n",
    "plt.show()"
   ]
  },
  {
   "cell_type": "markdown",
   "metadata": {
    "application/vnd.databricks.v1+cell": {
     "cellMetadata": {
      "byteLimit": 2048000,
      "rowLimit": 10000
     },
     "inputWidgets": {},
     "nuid": "0ffc9981-3179-485e-a743-6ce8e2dfa0f3",
     "showTitle": false,
     "tableResultSettingsMap": {},
     "title": ""
    }
   },
   "source": [
    "## 사용자별 추천 영화(시청 영화 제외)"
   ]
  },
  {
   "cell_type": "code",
   "execution_count": 0,
   "metadata": {
    "application/vnd.databricks.v1+cell": {
     "cellMetadata": {
      "byteLimit": 2048000,
      "rowLimit": 10000
     },
     "inputWidgets": {},
     "nuid": "1da26252-af13-4de0-a9a2-5247b9062ba3",
     "showTitle": false,
     "tableResultSettingsMap": {},
     "title": ""
    }
   },
   "outputs": [],
   "source": [
    "# 1. 사용자별 본 영화 집합 생성 (train, validation 데이터 기준)\n",
    "seen_movies_df = train_transformed.select(\"userIndex\", \"movieIndex\") \\\n",
    "    .union(validation_transformed.select(\"userIndex\", \"movieIndex\")) \\\n",
    "    .distinct() \\\n",
    "    .groupBy(\"userIndex\") \\\n",
    "    .agg(collect_set(\"movieIndex\").alias(\"seen_movies\"))\n",
    "\n",
    "# 2. test 데이터 예측 결과 생성 (userIndex, movieIndex, probability, label 등 포함)\n",
    "# test_pred = xgb_model_fitted.transform(test_transformed)\n",
    "test_pred = final_model.transform(test_transformed)\n",
    "\n",
    "# 3. test_pred에서 긍정 클래스 확률 추출 (probability 벡터에서 두 번째 값)\n",
    "test_pred = test_pred.withColumn(\"y_pred_proba\", vector_to_array(col(\"probability\"))[1])\n",
    "\n",
    "# 4. test_pred와 seen_movies_df를 userIndex 기준으로 left_outer join\n",
    "pred_with_seen = test_pred.join(seen_movies_df, on=\"userIndex\", how=\"left_outer\")\n",
    "\n",
    "# 5. 이미 본 영화 제외 (seen_movies가 null일 경우 대비)\n",
    "pred_filtered = pred_with_seen.filter(\n",
    "    (col(\"seen_movies\").isNull()) | (~array_contains(col(\"seen_movies\"), col(\"movieIndex\")))\n",
    ")\n",
    "\n",
    "# 6. Top-K 추천 추출 (예: K = 10)\n",
    "K = 10\n",
    "window_spec = Window.partitionBy(\"userIndex\").orderBy(col(\"y_pred_proba\").desc())\n",
    "\n",
    "top_k = pred_filtered.withColumn(\"rank\", row_number().over(window_spec)) \\\n",
    "                     .filter(col(\"rank\") <= K)\n",
    "\n",
    "# movieIndex → movieId 매핑 테이블 생성\n",
    "movie_index_mapping = train_transformed.select(\n",
    "    \"movieIndex\",\n",
    "    col(\"movieId\").alias(\"movieId_map\")\n",
    ").dropDuplicates()\n",
    "\n",
    "# movieId + title 정보 추출\n",
    "movies_meta = train.select(\n",
    "    col(\"movieId\").alias(\"movieId_meta\"),\n",
    "    col(\"title\").alias(\"title_meta\"),\n",
    "    col(\"genres\").alias(\"genres_meta\")  # ✅ 이 부분 추가\n",
    ").dropDuplicates()\n",
    "\n",
    "# 7. top_k에 movieId 추가\n",
    "top_k_with_id = top_k.join(movie_index_mapping, on=\"movieIndex\", how=\"left\")\n",
    "\n",
    "# 8. movieId 기준으로 title 조인\n",
    "top_k_with_title = top_k_with_id.join(\n",
    "    movies_meta,\n",
    "    top_k_with_id[\"movieId_map\"] == movies_meta[\"movieId_meta\"],\n",
    "    how=\"left\"\n",
    ")\n",
    "\n",
    "# 9. 추천 리스트 구조화\n",
    "top_k_with_title = top_k_with_title.withColumn(\n",
    "    \"recommendation\",\n",
    "    struct(\n",
    "        col(\"movieId_map\").alias(\"movieId\"),\n",
    "        col(\"title_meta\").alias(\"title\"),\n",
    "        col(\"y_pred_proba\").alias(\"pred_rating\")\n",
    "    )\n",
    ")\n",
    "\n",
    "# 10. 사용자별 추천 리스트 그룹화\n",
    "recommendations = top_k_with_title.groupBy(\"userIndex\") \\\n",
    "    .agg(collect_list(\"recommendation\").alias(\"recommendations\")) \\\n",
    "    .orderBy(\"userIndex\")\n",
    "\n",
    "# 11. 결과 출력\n",
    "display(recommendations)"
   ]
  },
  {
   "cell_type": "code",
   "execution_count": 0,
   "metadata": {
    "application/vnd.databricks.v1+cell": {
     "cellMetadata": {
      "byteLimit": 2048000,
      "rowLimit": 10000
     },
     "inputWidgets": {},
     "nuid": "05866d34-c0a3-493a-8d90-e27c6f0a8baa",
     "showTitle": false,
     "tableResultSettingsMap": {},
     "title": ""
    }
   },
   "outputs": [],
   "source": [
    "tmp_dir = tempfile.mkdtemp()\n",
    "\n",
    "# CSV 저장 경로\n",
    "csv_path = f\"{tmp_dir}/csv_result\"\n",
    "recommendations.coalesce(1).write.mode(\"overwrite\").option(\"header\", \"true\").csv(csv_path)\n",
    "\n",
    "# Parquet 저장 경로\n",
    "parquet_path = f\"{tmp_dir}/parquet_result\"\n",
    "recommendations.write.mode(\"overwrite\").parquet(parquet_path)\n",
    "\n",
    "mlflow.set_experiment(\"/MLflow\")\n",
    "\n",
    "with mlflow.start_run(run_name=\"SparkXgboostresult\"):\n",
    "    mlflow.log_artifacts(csv_path, artifact_path=\"result_csv\")\n",
    "\n",
    "    # Parquet을 MLflow에 저장 (아티팩트 이름: result_parquet)\n",
    "    mlflow.log_artifacts(parquet_path, artifact_path=\"result_parquet\")"
   ]
  },
  {
   "cell_type": "markdown",
   "metadata": {
    "application/vnd.databricks.v1+cell": {
     "cellMetadata": {},
     "inputWidgets": {},
     "nuid": "896cb940-a786-47fa-b5e7-4e1ae32584cb",
     "showTitle": false,
     "tableResultSettingsMap": {},
     "title": ""
    }
   },
   "source": [
    "## 시각화"
   ]
  },
  {
   "cell_type": "markdown",
   "metadata": {
    "application/vnd.databricks.v1+cell": {
     "cellMetadata": {},
     "inputWidgets": {},
     "nuid": "694e0ae7-2d2d-4b51-aaaa-966fa31391a6",
     "showTitle": false,
     "tableResultSettingsMap": {},
     "title": ""
    }
   },
   "source": [
    "배열을 flatten"
   ]
  },
  {
   "cell_type": "code",
   "execution_count": 0,
   "metadata": {
    "application/vnd.databricks.v1+cell": {
     "cellMetadata": {
      "byteLimit": 2048000,
      "rowLimit": 10000
     },
     "inputWidgets": {},
     "nuid": "03888970-c7fd-4637-b53b-70e5236838d5",
     "showTitle": false,
     "tableResultSettingsMap": {},
     "title": ""
    }
   },
   "outputs": [
    {
     "output_type": "display_data",
     "data": {
      "text/plain": [
       "Databricks visualization. Run in Databricks to view."
      ]
     },
     "metadata": {
      "application/vnd.databricks.v1.subcommand+json": {
       "baseErrorDetails": null,
       "bindings": {},
       "collapsed": false,
       "command": "%python\n__backend_agg_display_orig = display\n__backend_agg_dfs = []\ndef __backend_agg_display_new(df):\n    __backend_agg_df_modules = [\"pandas.core.frame\", \"databricks.koalas.frame\", \"pyspark.sql.dataframe\", \"pyspark.pandas.frame\", \"pyspark.sql.connect.dataframe\"]\n    if (type(df).__module__ in __backend_agg_df_modules and type(df).__name__ == 'DataFrame') or isinstance(df, list):\n        __backend_agg_dfs.append(df)\n\ndisplay = __backend_agg_display_new\n\ndef __backend_agg_user_code_fn():\n    import base64\n    exec(base64.standard_b64decode(\"IyAxLiByZWNvbW1lbmRhdGlvbnMg67Cw7Je0IGV4cGxvZGUKcmVjb21tZW5kYXRpb25zX2V4cGxvZGVkID0gcmVjb21tZW5kYXRpb25zLnNlbGVjdCgKICAgICJ1c2VySW5kZXgiLAogICAgZXhwbG9kZShjb2woInJlY29tbWVuZGF0aW9ucyIpKS5hbGlhcygicmVjIikKKQoKIyAyLiByZWMg6rWs7KGw7LK07JeQ7IScIO2VhOuTnCDstpTstpztlZjsl6wg7Lus65+8IOyDneyEsQpyZWNvbW1lbmRhdGlvbnNfZmxhdCA9IHJlY29tbWVuZGF0aW9uc19leHBsb2RlZC5zZWxlY3QoCiAgICAidXNlckluZGV4IiwKICAgIGNvbCgicmVjLm1vdmllSWQiKS5hbGlhcygibW92aWVJZCIpLAogICAgY29sKCJyZWMudGl0bGUiKS5hbGlhcygidGl0bGUiKSwKICAgIGNvbCgicmVjLnByZWRfcmF0aW5nIikuYWxpYXMoInByZWRfcmF0aW5nIikKKQoKcmVjX3dpdGhfZ2VucmVzICA9IHRlc3Quc2VsZWN0KCJtb3ZpZUlkIiwgInRpdGxlIiwgImdlbnJlcyIpLmRyb3BEdXBsaWNhdGVzKCkKCiMgMy4gbW92aWVJZCDquLDspIDsnLzroZwgam9pbgpyZWNfd2l0aF9nZW5yZXMgID0gcmVjb21tZW5kYXRpb25zX2ZsYXQuam9pbigKICAgIHJlY193aXRoX2dlbnJlcyAsCiAgICBvbj0ibW92aWVJZCIsCiAgICBob3c9ImxlZnQiCikKCiMgNC4gZ2VucmVz66W8ICd8JyDquLDspIDsnLzroZwg67aE66asIO2bhCBleHBsb2RlCnJlY3NfdmlzID0gcmVjX3dpdGhfZ2VucmVzLndpdGhDb2x1bW4oImdlbnJlIiwgZXhwbG9kZShzcGxpdChjb2woImdlbnJlcyIpLCAiXFx8IikpKQpkaXNwbGF5KHJlY3NfdmlzKQ==\").decode())\n\ntry:\n    # run user code\n    __backend_agg_user_code_fn()\n\n    #reset display function\n    display = __backend_agg_display_orig\n\n    if len(__backend_agg_dfs) > 0:\n        # create a temp view\n        if type(__backend_agg_dfs[0]).__module__ == \"databricks.koalas.frame\":\n            # koalas dataframe\n            __backend_agg_dfs[0].to_spark().createOrReplaceTempView(\"DatabricksView89d0b2f\")\n        elif type(__backend_agg_dfs[0]).__module__ == \"pandas.core.frame\" or isinstance(__backend_agg_dfs[0], list):\n            # pandas dataframe\n            spark.createDataFrame(__backend_agg_dfs[0]).createOrReplaceTempView(\"DatabricksView89d0b2f\")\n        else:\n            __backend_agg_dfs[0].createOrReplaceTempView(\"DatabricksView89d0b2f\")\n        #run backend agg\n        display(spark.sql(\"\"\"WITH q AS (select * from DatabricksView89d0b2f) SELECT `genre`,COUNT(`movieId`) `column_3c2ae7b6264` FROM q GROUP BY `genre`\"\"\"))\n    else:\n        displayHTML(\"dataframe no longer exists. If you're using dataframe.display(), use display(dataframe) instead.\")\n\n\nfinally:\n    spark.sql(\"drop view if exists DatabricksView89d0b2f\")\n    display = __backend_agg_display_orig\n    del __backend_agg_display_new\n    del __backend_agg_display_orig\n    del __backend_agg_dfs\n    del __backend_agg_user_code_fn\n\n",
       "commandTitle": "추천 영화 장르 분포",
       "commandType": "auto",
       "commandVersion": 0,
       "commentThread": [],
       "commentsVisible": false,
       "contentSha256Hex": null,
       "customPlotOptions": {
        "redashChart": [
         {
          "key": "type",
          "value": "CHART"
         },
         {
          "key": "options",
          "value": {
           "alignYAxesAtZero": true,
           "coefficient": 1,
           "columnConfigurationMap": {
            "x": {
             "column": "genre",
             "id": "column_3c2ae7b6261"
            },
            "y": [
             {
              "column": "movieId",
              "id": "column_3c2ae7b6264",
              "transform": "COUNT"
             }
            ]
           },
           "dateTimeFormat": "DD/MM/YYYY HH:mm",
           "direction": {
            "type": "counterclockwise"
           },
           "error_y": {
            "type": "data",
            "visible": true
           },
           "globalSeriesType": "column",
           "isAggregationOn": true,
           "legend": {
            "traceorder": "normal"
           },
           "missingValuesAsZero": true,
           "numberFormat": "0,0.[00000]",
           "percentFormat": "0[.]00%",
           "series": {
            "error_y": {
             "type": "data",
             "visible": true
            },
            "stacking": null
           },
           "seriesOptions": {
            "column_3c2ae7b6264": {
             "type": "column",
             "yAxis": 0
            }
           },
           "showDataLabels": false,
           "sizemode": "diameter",
           "sortX": true,
           "sortY": true,
           "swappedAxes": false,
           "textFormat": "",
           "useAggregationsUi": true,
           "valuesOptions": {},
           "version": 2,
           "xAxis": {
            "labels": {
             "enabled": true
            },
            "type": "-"
           },
           "yAxis": [
            {
             "title": {
              "text": "영화수"
             },
             "type": "-"
            },
            {
             "opposite": true,
             "type": "-"
            }
           ]
          }
         }
        ]
       },
       "datasetPreviewNameToCmdIdMap": {},
       "diffDeletes": [],
       "diffInserts": [],
       "displayType": "redashChart",
       "error": null,
       "errorDetails": null,
       "errorSummary": null,
       "errorTraceType": null,
       "finishTime": 1749305004416,
       "globalVars": {},
       "guid": "",
       "height": "auto",
       "hideCommandCode": false,
       "hideCommandResult": false,
       "iPythonMetadata": null,
       "inputWidgets": {},
       "isLockedInExamMode": false,
       "latestUser": "a user",
       "latestUserId": null,
       "listResultMetadata": [
        [
         "table",
         20
        ]
       ],
       "metadata": {
        "byteLimit": 2048000,
        "rowLimit": 10000
       },
       "nuid": "0bcbc177-c26b-4d00-aed8-5449d63cfc63",
       "origId": 0,
       "parentHierarchy": [],
       "pivotAggregation": null,
       "pivotColumns": null,
       "position": 33.25,
       "resultDbfsErrorMessage": null,
       "resultDbfsStatus": "INLINED_IN_TREE",
       "results": null,
       "showCommandTitle": false,
       "startTime": 1749304716819,
       "state": "input",
       "streamStates": {},
       "subcommandOptions": {
        "queryPlan": {
         "groups": [
          {
           "column": "genre",
           "type": "column"
          }
         ],
         "selects": [
          {
           "column": "genre",
           "type": "column"
          },
          {
           "alias": "column_3c2ae7b6264",
           "args": [
            {
             "column": "movieId",
             "type": "column"
            }
           ],
           "function": "COUNT",
           "type": "function"
          }
         ]
        }
       },
       "submitTime": 1749304716726,
       "subtype": "tableResultSubCmd.visualization",
       "tableResultIndex": 0,
       "tableResultSettingsMap": {},
       "useConsistentColors": false,
       "version": "CommandV1",
       "width": "auto",
       "workflows": null,
       "xColumns": null,
       "yColumns": null
      }
     },
     "output_type": "display_data"
    },
    {
     "output_type": "display_data",
     "data": {
      "text/plain": [
       "Databricks visualization. Run in Databricks to view."
      ]
     },
     "metadata": {
      "application/vnd.databricks.v1.subcommand+json": {
       "baseErrorDetails": null,
       "bindings": {},
       "collapsed": false,
       "command": "%python\n__backend_agg_display_orig = display\n__backend_agg_dfs = []\ndef __backend_agg_display_new(df):\n    __backend_agg_df_modules = [\"pandas.core.frame\", \"databricks.koalas.frame\", \"pyspark.sql.dataframe\", \"pyspark.pandas.frame\", \"pyspark.sql.connect.dataframe\"]\n    if (type(df).__module__ in __backend_agg_df_modules and type(df).__name__ == 'DataFrame') or isinstance(df, list):\n        __backend_agg_dfs.append(df)\n\ndisplay = __backend_agg_display_new\n\ndef __backend_agg_user_code_fn():\n    import base64\n    exec(base64.standard_b64decode(\"IyAxLiByZWNvbW1lbmRhdGlvbnMg67Cw7Je0IGV4cGxvZGUKcmVjb21tZW5kYXRpb25zX2V4cGxvZGVkID0gcmVjb21tZW5kYXRpb25zLnNlbGVjdCgKICAgICJ1c2VySW5kZXgiLAogICAgZXhwbG9kZShjb2woInJlY29tbWVuZGF0aW9ucyIpKS5hbGlhcygicmVjIikKKQoKIyAyLiByZWMg6rWs7KGw7LK07JeQ7IScIO2VhOuTnCDstpTstpztlZjsl6wg7Lus65+8IOyDneyEsQpyZWNvbW1lbmRhdGlvbnNfZmxhdCA9IHJlY29tbWVuZGF0aW9uc19leHBsb2RlZC5zZWxlY3QoCiAgICAidXNlckluZGV4IiwKICAgIGNvbCgicmVjLm1vdmllSWQiKS5hbGlhcygibW92aWVJZCIpLAogICAgY29sKCJyZWMudGl0bGUiKS5hbGlhcygidGl0bGUiKSwKICAgIGNvbCgicmVjLnByZWRfcmF0aW5nIikuYWxpYXMoInByZWRfcmF0aW5nIikKKQoKcmVjX3dpdGhfZ2VucmVzICA9IHRlc3Quc2VsZWN0KCJtb3ZpZUlkIiwgInRpdGxlIiwgImdlbnJlcyIpLmRyb3BEdXBsaWNhdGVzKCkKCiMgMy4gbW92aWVJZCDquLDspIDsnLzroZwgam9pbgpyZWNfd2l0aF9nZW5yZXMgID0gcmVjb21tZW5kYXRpb25zX2ZsYXQuam9pbigKICAgIHJlY193aXRoX2dlbnJlcyAsCiAgICBvbj0ibW92aWVJZCIsCiAgICBob3c9ImxlZnQiCikKCiMgNC4gZ2VucmVz66W8ICd8JyDquLDspIDsnLzroZwg67aE66asIO2bhCBleHBsb2RlCnJlY3NfdmlzID0gcmVjX3dpdGhfZ2VucmVzLndpdGhDb2x1bW4oImdlbnJlIiwgZXhwbG9kZShzcGxpdChjb2woImdlbnJlcyIpLCAiXFx8IikpKQpkaXNwbGF5KHJlY3NfdmlzKQ==\").decode())\n\ntry:\n    # run user code\n    __backend_agg_user_code_fn()\n\n    #reset display function\n    display = __backend_agg_display_orig\n\n    if len(__backend_agg_dfs) > 0:\n        # create a temp view\n        if type(__backend_agg_dfs[0]).__module__ == \"databricks.koalas.frame\":\n            # koalas dataframe\n            __backend_agg_dfs[0].to_spark().createOrReplaceTempView(\"DatabricksView861680e\")\n        elif type(__backend_agg_dfs[0]).__module__ == \"pandas.core.frame\" or isinstance(__backend_agg_dfs[0], list):\n            # pandas dataframe\n            spark.createDataFrame(__backend_agg_dfs[0]).createOrReplaceTempView(\"DatabricksView861680e\")\n        else:\n            __backend_agg_dfs[0].createOrReplaceTempView(\"DatabricksView861680e\")\n        #run backend agg\n        display(spark.sql(\"\"\"WITH q AS (select * from DatabricksView861680e) SELECT `genre`,`pred_rating` FROM q\"\"\"))\n    else:\n        displayHTML(\"dataframe no longer exists. If you're using dataframe.display(), use display(dataframe) instead.\")\n\n\nfinally:\n    spark.sql(\"drop view if exists DatabricksView861680e\")\n    display = __backend_agg_display_orig\n    del __backend_agg_display_new\n    del __backend_agg_display_orig\n    del __backend_agg_dfs\n    del __backend_agg_user_code_fn\n\n",
       "commandTitle": "장르별 예측 ratings",
       "commandType": "auto",
       "commandVersion": 0,
       "commentThread": [],
       "commentsVisible": false,
       "contentSha256Hex": null,
       "customPlotOptions": {
        "redashChart": [
         {
          "key": "type",
          "value": "CHART"
         },
         {
          "key": "options",
          "value": {
           "alignYAxesAtZero": true,
           "coefficient": 1,
           "columnConfigurationMap": {
            "x": {
             "column": "genre",
             "id": "column_3c2ae7b6271"
            },
            "y": [
             {
              "column": "pred_rating",
              "id": "column_3c2ae7b6272"
             }
            ]
           },
           "dateTimeFormat": "DD/MM/YYYY HH:mm",
           "direction": {
            "type": "counterclockwise"
           },
           "error_y": {
            "type": "data",
            "visible": true
           },
           "globalSeriesType": "box",
           "hideYAxes": false,
           "legend": {
            "traceorder": "normal"
           },
           "missingValuesAsZero": true,
           "numberFormat": "0,0.[00000]",
           "percentFormat": "0[.]00%",
           "reverseX": false,
           "series": {
            "error_y": {
             "type": "data",
             "visible": true
            },
            "stacking": null
           },
           "seriesOptions": {
            "pred_rating": {
             "type": "box",
             "yAxis": 0
            }
           },
           "showDataLabels": false,
           "showpoints": false,
           "sizemode": "diameter",
           "sortX": true,
           "sortY": true,
           "swappedAxes": false,
           "textFormat": "",
           "useAggregationsUi": true,
           "valuesOptions": {},
           "version": 2,
           "xAxis": {
            "labels": {
             "enabled": true
            },
            "type": "-"
           },
           "yAxis": [
            {
             "title": {
              "text": "예측 rating"
             },
             "type": "-"
            },
            {
             "opposite": true,
             "type": "-"
            }
           ]
          }
         }
        ]
       },
       "datasetPreviewNameToCmdIdMap": {},
       "diffDeletes": [],
       "diffInserts": [],
       "displayType": "redashChart",
       "error": null,
       "errorDetails": null,
       "errorSummary": null,
       "errorTraceType": null,
       "finishTime": 0,
       "globalVars": {},
       "guid": "",
       "height": "auto",
       "hideCommandCode": false,
       "hideCommandResult": false,
       "iPythonMetadata": null,
       "inputWidgets": {},
       "isLockedInExamMode": false,
       "latestUser": "a user",
       "latestUserId": null,
       "listResultMetadata": null,
       "metadata": {},
       "nuid": "0af9934a-e35a-44c9-a54d-a49420f2617a",
       "origId": 0,
       "parentHierarchy": [],
       "pivotAggregation": null,
       "pivotColumns": null,
       "position": 34.25,
       "resultDbfsErrorMessage": null,
       "resultDbfsStatus": "INLINED_IN_TREE",
       "results": null,
       "showCommandTitle": false,
       "startTime": 0,
       "state": "input",
       "streamStates": {},
       "subcommandOptions": {
        "queryPlan": {
         "selects": [
          {
           "column": "genre",
           "type": "column"
          },
          {
           "column": "pred_rating",
           "type": "column"
          }
         ]
        }
       },
       "submitTime": 0,
       "subtype": "tableResultSubCmd.visualization",
       "tableResultIndex": 0,
       "tableResultSettingsMap": {},
       "useConsistentColors": false,
       "version": "CommandV1",
       "width": "auto",
       "workflows": null,
       "xColumns": null,
       "yColumns": null
      }
     },
     "output_type": "display_data"
    }
   ],
   "source": [
    "# 1. recommendations 배열 explode\n",
    "recommendations_exploded = recommendations.select(\n",
    "    \"userIndex\",\n",
    "    explode(col(\"recommendations\")).alias(\"rec\")\n",
    ")\n",
    "\n",
    "# 2. rec 구조체에서 필드 추출하여 컬럼 생성\n",
    "recommendations_flat = recommendations_exploded.select(\n",
    "    \"userIndex\",\n",
    "    col(\"rec.movieId\").alias(\"movieId\"),\n",
    "    col(\"rec.title\").alias(\"title\"),\n",
    "    col(\"rec.pred_rating\").alias(\"pred_rating\")\n",
    ")\n",
    "\n",
    "rec_with_genres  = test.select(\"movieId\", \"title\", \"genres\").dropDuplicates()\n",
    "\n",
    "# 3. movieId 기준으로 join\n",
    "rec_with_genres  = recommendations_flat.join(\n",
    "    rec_with_genres ,\n",
    "    on=\"movieId\",\n",
    "    how=\"left\"\n",
    ")\n",
    "\n",
    "# 4. genres를 '|' 기준으로 분리 후 explode\n",
    "recs_vis = rec_with_genres.withColumn(\"genre\", explode(split(col(\"genres\"), \"\\\\|\")))\n",
    "display(recs_vis)"
   ]
  },
  {
   "cell_type": "markdown",
   "metadata": {
    "application/vnd.databricks.v1+cell": {
     "cellMetadata": {
      "byteLimit": 2048000,
      "rowLimit": 10000
     },
     "inputWidgets": {},
     "nuid": "c358f4c5-fd3b-4f32-ba22-5d9de4da1e48",
     "showTitle": false,
     "tableResultSettingsMap": {},
     "title": ""
    }
   },
   "source": [
    "# 5. 추가사항"
   ]
  },
  {
   "cell_type": "markdown",
   "metadata": {
    "application/vnd.databricks.v1+cell": {
     "cellMetadata": {},
     "inputWidgets": {},
     "nuid": "df986d4d-9f36-446d-98fa-c2770e93fc2f",
     "showTitle": false,
     "tableResultSettingsMap": {},
     "title": ""
    }
   },
   "source": [
    "## 5-1. 추가 User 처리, 어떤 영화 추천"
   ]
  },
  {
   "cell_type": "markdown",
   "metadata": {
    "application/vnd.databricks.v1+cell": {
     "cellMetadata": {
      "byteLimit": 2048000,
      "rowLimit": 10000
     },
     "inputWidgets": {},
     "nuid": "3fee224e-92a9-4de2-ac4f-75235d197416",
     "showTitle": false,
     "tableResultSettingsMap": {},
     "title": ""
    }
   },
   "source": [
    "1. 신규 유저가 본 영화와 기존 유저들의 시청 목록 간 Jaccard 유사도를 계산하여 가장 유사한 기존 유저를 식별함.\n",
    "2. 유사한 기존 유저의 userIndex로 대체, 신규 유저가 보지 않은 영화들에 대해 추천 모델로 예측을 수행함.\n",
    "3. 예측 결과 중 상위 K개의 영화를 추출하여 신규 유저에게 추천함.\n",
    "\n"
   ]
  },
  {
   "cell_type": "code",
   "execution_count": 0,
   "metadata": {
    "application/vnd.databricks.v1+cell": {
     "cellMetadata": {
      "byteLimit": 2048000,
      "rowLimit": 10000
     },
     "inputWidgets": {},
     "nuid": "46637e4f-d112-4b1a-952a-832b4cf7e14d",
     "showTitle": false,
     "tableResultSettingsMap": {},
     "title": ""
    }
   },
   "outputs": [],
   "source": [
    "# Step 1. 신규 유저가 본 영화 리스트\n",
    "new_user_seen_movies = [1, 10, 50, 300]\n",
    "new_user_set = set(new_user_seen_movies)\n",
    "\n",
    "# Step 2. 기존 유저별 시청 영화 집합 생성\n",
    "user_movie_sets = train.groupBy(\"userId\").agg(collect_set(\"movieId\").alias(\"movie_set\"))\n",
    "\n",
    "# Step 3. Jaccard 유사도 계산\n",
    "def jaccard_similarity(set1, set2):\n",
    "    set1, set2 = set(set1), set(set2)\n",
    "    intersection = len(set1.intersection(set2))\n",
    "    union = len(set1.union(set2))\n",
    "    return float(intersection) / union if union != 0 else 0.0\n",
    "\n",
    "jaccard_udf = udf(lambda x: jaccard_similarity(new_user_set, x), DoubleType())\n",
    "\n",
    "similar_users = user_movie_sets.withColumn(\"jaccard_sim\", jaccard_udf(col(\"movie_set\"))) \\\n",
    "                               .orderBy(desc(\"jaccard_sim\")) \\\n",
    "                               .limit(1)\n",
    "\n",
    "# Step 4. 유사한 기존 유저의 userId 및 userIndex 추출\n",
    "top_user_id = similar_users.select(\"userId\").first()[\"userId\"]\n",
    "top_user_index = user_indexer_model.transform(\n",
    "    spark.createDataFrame([(top_user_id,)], [\"userId\"])\n",
    ").select(\"userIndex\").first()[\"userIndex\"]\n",
    "\n",
    "# Step 5. 신규 유저가 보지 않은 영화만 필터링 (train + test 영화 모두 포함 가능)\n",
    "all_movies = train.select(\"movieId\").union(test.select(\"movieId\")).dropDuplicates()\n",
    "unseen_movies = all_movies.filter(~col(\"movieId\").isin(new_user_seen_movies))\n",
    "\n",
    "# movies_meta: movieId와 title이 포함된 영화 메타 데이터 (train 또는 별도)\n",
    "unseen_movies = unseen_movies.join(\n",
    "    movies_meta,\n",
    "    unseen_movies.movieId == movies_meta.movieId_meta,\n",
    "    how=\"left\"\n",
    ").select(\n",
    "    unseen_movies.movieId,\n",
    "    movies_meta.title_meta.alias(\"title\"),\n",
    "    movies_meta.genres_meta.alias(\"genres\")\n",
    ")\n",
    "\n",
    "# train에서 고유한 movieId-year 정보 추출\n",
    "movie_year_df = train.select(\"movieId\", \"year\").dropna().dropDuplicates([\"movieId\"])\n",
    "\n",
    "# unseen_movies에 year 붙이기\n",
    "unseen_movies = unseen_movies.join(movie_year_df, on=\"movieId\", how=\"left\")"
   ]
  },
  {
   "cell_type": "code",
   "execution_count": 0,
   "metadata": {
    "application/vnd.databricks.v1+cell": {
     "cellMetadata": {
      "byteLimit": 2048000,
      "rowLimit": 10000
     },
     "inputWidgets": {},
     "nuid": "74601779-6f8e-4c38-a3be-74da9af315aa",
     "showTitle": false,
     "tableResultSettingsMap": {},
     "title": ""
    }
   },
   "outputs": [],
   "source": [
    "# Step 6. userId, genres 컬럼 추가\n",
    "unseen_movies = unseen_movies.withColumn(\"userId\", lit(top_user_id))\n",
    "\n",
    "# Step 7. pipeline_model로 features 추출\n",
    "unseen_with_features = pipeline_model.transform(unseen_movies)\n",
    "\n",
    "# Step 8. 모든 row에 해당 유사 유저의 userIndex 덮어쓰기\n",
    "unseen_with_features = unseen_with_features.withColumn(\"userIndex\", lit(top_user_index))\n",
    "\n",
    "# Step 9. 중복 영화 제거\n",
    "unseen_unique = unseen_with_features.dropDuplicates([\"movieId\"])\n",
    "\n",
    "\n",
    "# Step 10. Spark ML 모델로 예측 수행 (transform 사용)\n",
    "predicted_df = final_model.transform(unseen_unique)\n",
    "\n",
    "# Step 11. 확률 벡터에서 긍정 클래스(1) 확률 추출\n",
    "predicted_df = predicted_df.withColumn(\"prediction_proba\", vector_to_array(col(\"probability\"))[1])\n",
    "\n",
    "# Step 12. 상위 K개 추출\n",
    "K = 10\n",
    "top_k_df = predicted_df.orderBy(col(\"prediction_proba\").desc()).limit(K)\n",
    "\n",
    "# Step 13. 결과 출력\n",
    "top_k_df.select(\"movieId\", \"title\", \"prediction_proba\").show()"
   ]
  },
  {
   "cell_type": "markdown",
   "metadata": {
    "application/vnd.databricks.v1+cell": {
     "cellMetadata": {},
     "inputWidgets": {},
     "nuid": "7ca55076-3710-4a79-8a95-fc6e814dc39a",
     "showTitle": false,
     "tableResultSettingsMap": {},
     "title": ""
    }
   },
   "source": [
    "## 5-2. feature importance"
   ]
  },
  {
   "cell_type": "markdown",
   "metadata": {
    "application/vnd.databricks.v1+cell": {
     "cellMetadata": {},
     "inputWidgets": {},
     "nuid": "53411923-827f-4e98-9620-15acd7d46de9",
     "showTitle": false,
     "tableResultSettingsMap": {},
     "title": ""
    }
   },
   "source": [
    "### 전체 유저"
   ]
  },
  {
   "cell_type": "code",
   "execution_count": 0,
   "metadata": {
    "application/vnd.databricks.v1+cell": {
     "cellMetadata": {
      "byteLimit": 2048000,
      "rowLimit": 10000
     },
     "inputWidgets": {},
     "nuid": "f9b90bad-939d-4558-a872-5989f809fa79",
     "showTitle": false,
     "tableResultSettingsMap": {
      "0": {
       "dataGridStateBlob": null,
       "filterBlob": "{\"version\":1,\"filterGroups\":[{\"enabled\":true,\"op\":\"OR\",\"filterGroupId\":\"fg_983b52c8\",\"filters\":[{\"filterId\":\"f_d57a5f60\",\"enabled\":true,\"columnId\":\"Mean_Abs_SHAP\",\"dataType\":\"float\",\"filterType\":\"gt\",\"filterValue\":\"0.1\",\"filterConfig\":{}}],\"local\":false,\"updatedAt\":1749369777278}],\"syncTimestamp\":1749369777278}",
       "queryPlanFiltersBlob": "[{\"kind\":\"call\",\"function\":\"or\",\"args\":[{\"kind\":\"call\",\"function\":\"gt\",\"args\":[{\"kind\":\"identifier\",\"identifier\":\"Mean_Abs_SHAP\"},{\"kind\":\"literal\",\"value\":\"0.1\",\"type\":\"float\"}]}]}]",
       "tableResultIndex": 0
      }
     },
     "title": ""
    }
   },
   "outputs": [
    {
     "output_type": "display_data",
     "data": {
      "text/plain": [
       "Databricks visualization. Run in Databricks to view."
      ]
     },
     "metadata": {
      "application/vnd.databricks.v1.subcommand+json": {
       "baseErrorDetails": null,
       "bindings": {},
       "collapsed": false,
       "command": "%python\n__backend_agg_display_orig = display\n__backend_agg_dfs = []\ndef __backend_agg_display_new(df):\n    __backend_agg_df_modules = [\"pandas.core.frame\", \"databricks.koalas.frame\", \"pyspark.sql.dataframe\", \"pyspark.pandas.frame\", \"pyspark.sql.connect.dataframe\"]\n    if (type(df).__module__ in __backend_agg_df_modules and type(df).__name__ == 'DataFrame') or isinstance(df, list):\n        __backend_agg_dfs.append(df)\n\ndisplay = __backend_agg_display_new\n\ndef __backend_agg_user_code_fn():\n    import base64\n    exec(base64.standard_b64decode(\"IyAxLiBmZWF0dXJlX25hbWVzIOyEpOyglQp2ZWN0b3JpemVyX21vZGVsID0gTm9uZQpmb3Igc3RhZ2UgaW4gcGlwZWxpbmVfbW9kZWwuc3RhZ2VzOgogICAgaWYgc3RhZ2UudWlkLnN0YXJ0c3dpdGgoIkNvdW50VmVjdG9yaXplciIpOgogICAgICAgIHZlY3Rvcml6ZXJfbW9kZWwgPSBzdGFnZQogICAgICAgIGJyZWFrCgpnZW5yZV92b2NhYiA9IHZlY3Rvcml6ZXJfbW9kZWwudm9jYWJ1bGFyeSAgCmdlbnJlX2ZlYXR1cmVfbmFtZXMgPSBbImdlbnJlXyIgKyBnZW5yZSBmb3IgZ2VucmUgaW4gZ2VucmVfdm9jYWJdCmZlYXR1cmVfbmFtZXMgPSBnZW5yZV9mZWF0dXJlX25hbWVzICsgWyJ1c2VySW5kZXgiLCAibW92aWVJbmRleCIsICJ5ZWFyIl0KCiMgMi4gdGVzdF90cmFuc2Zvcm1lZOyXkOyEnCBmZWF0dXJlcyDstpTstpwgKOyghOyytCBvciDsnbzrtoApCnNhbXBsZWRfZmVhdHVyZXMgPSB0ZXN0X3RyYW5zZm9ybWVkLnNlbGVjdCgiZmVhdHVyZXMiKS5saW1pdCg1MDApLmNvbGxlY3QoKQpYID0gbnAudnN0YWNrKFtyb3dbImZlYXR1cmVzIl0udG9BcnJheSgpIGZvciByb3cgaW4gc2FtcGxlZF9mZWF0dXJlc10pICAjICg1MDAsIG5fZmVhdHVyZXMpCgojIDMuIFhHQm9vc3QgQm9vc3RlciDstpTstpwg67CPIFNIQVAg6rOE7IKwCnhnYl9zdGFnZSA9IGZpbmFsX21vZGVsLnN0YWdlc1stMV0KYm9vc3RlciA9IHhnYl9zdGFnZS5nZXRfYm9vc3RlcigpCgpleHBsYWluZXIgPSBzaGFwLlRyZWVFeHBsYWluZXIoYm9vc3RlcikKc2hhcF92YWx1ZXMgPSBleHBsYWluZXIuc2hhcF92YWx1ZXMoWCkKCnN1bW1hcnlfZGYgPSBwZC5EYXRhRnJhbWUoewogICAgJ0ZlYXR1cmUnOiBmZWF0dXJlX25hbWVzLAogICAgJ01lYW5fQWJzX1NIQVAnOiBucC5hYnMoc2hhcF92YWx1ZXMpLm1lYW4oYXhpcz0wKQp9KS5zb3J0X3ZhbHVlcyhieT0nTWVhbl9BYnNfU0hBUCcsIGFzY2VuZGluZz1GYWxzZSkKCmRpc3BsYXkoc3VtbWFyeV9kZikgICMgRGF0YWJyaWNrc+yXkOyEnCBCYXIgY2hhcnTroZwg67O06riwIOy2lOyynA==\").decode())\n\ntry:\n    # run user code\n    __backend_agg_user_code_fn()\n\n    #reset display function\n    display = __backend_agg_display_orig\n\n    if len(__backend_agg_dfs) > 0:\n        # create a temp view\n        if type(__backend_agg_dfs[0]).__module__ == \"databricks.koalas.frame\":\n            # koalas dataframe\n            __backend_agg_dfs[0].to_spark().createOrReplaceTempView(\"DatabricksViewbf65030\")\n        elif type(__backend_agg_dfs[0]).__module__ == \"pandas.core.frame\" or isinstance(__backend_agg_dfs[0], list):\n            # pandas dataframe\n            spark.createDataFrame(__backend_agg_dfs[0]).createOrReplaceTempView(\"DatabricksViewbf65030\")\n        else:\n            __backend_agg_dfs[0].createOrReplaceTempView(\"DatabricksViewbf65030\")\n        #run backend agg\n        display(spark.sql(\"\"\"WITH q AS (select * from DatabricksViewbf65030) SELECT `Feature`,`Mean_Abs_SHAP` FROM q\"\"\"))\n    else:\n        displayHTML(\"dataframe no longer exists. If you're using dataframe.display(), use display(dataframe) instead.\")\n\n\nfinally:\n    spark.sql(\"drop view if exists DatabricksViewbf65030\")\n    display = __backend_agg_display_orig\n    del __backend_agg_display_new\n    del __backend_agg_display_orig\n    del __backend_agg_dfs\n    del __backend_agg_user_code_fn\n\n",
       "commandTitle": "Feature Importance",
       "commandType": "auto",
       "commandVersion": 0,
       "commentThread": [],
       "commentsVisible": false,
       "contentSha256Hex": null,
       "customPlotOptions": {
        "redashChart": [
         {
          "key": "type",
          "value": "CHART"
         },
         {
          "key": "options",
          "value": {
           "alignYAxesAtZero": true,
           "coefficient": 1,
           "columnConfigurationMap": {
            "x": {
             "column": "Feature",
             "id": "column_dc4d7694307"
            },
            "y": [
             {
              "column": "Mean_Abs_SHAP",
              "id": "column_dc4d7694304"
             }
            ]
           },
           "dateTimeFormat": "DD/MM/YYYY HH:mm",
           "direction": {
            "type": "counterclockwise"
           },
           "error_y": {
            "type": "data",
            "visible": true
           },
           "globalSeriesType": "column",
           "isAggregationOn": false,
           "legend": {
            "traceorder": "normal"
           },
           "missingValuesAsZero": true,
           "numberFormat": "0,0.[00000]",
           "percentFormat": "0[.]00%",
           "series": {
            "error_y": {
             "type": "data",
             "visible": true
            },
            "stacking": ""
           },
           "seriesOptions": {
            "Mean_Abs_SHAP": {
             "color": "#077A9D",
             "type": "column",
             "yAxis": 0
            }
           },
           "showDataLabels": false,
           "sizemode": "diameter",
           "sortX": false,
           "sortY": true,
           "swappedAxes": true,
           "textFormat": "",
           "useAggregationsUi": true,
           "valuesOptions": {},
           "version": 2,
           "xAxis": {
            "labels": {
             "enabled": true
            },
            "title": {
             "text": null
            },
            "type": "-"
           },
           "yAxis": [
            {
             "title": {
              "text": "중요도"
             },
             "type": "-"
            },
            {
             "opposite": true,
             "type": "-"
            }
           ]
          }
         }
        ]
       },
       "datasetPreviewNameToCmdIdMap": {},
       "diffDeletes": [],
       "diffInserts": [],
       "displayType": "redashChart",
       "error": null,
       "errorDetails": null,
       "errorSummary": null,
       "errorTraceType": null,
       "finishTime": 0,
       "globalVars": {},
       "guid": "",
       "height": "auto",
       "hideCommandCode": false,
       "hideCommandResult": false,
       "iPythonMetadata": null,
       "inputWidgets": {},
       "isLockedInExamMode": false,
       "latestUser": "a user",
       "latestUserId": null,
       "listResultMetadata": null,
       "metadata": {},
       "nuid": "db838fb7-71be-4782-b2e3-321b5fb857e6",
       "origId": 0,
       "parentHierarchy": [],
       "pivotAggregation": null,
       "pivotColumns": null,
       "position": 43.375,
       "resultDbfsErrorMessage": null,
       "resultDbfsStatus": "INLINED_IN_TREE",
       "results": null,
       "showCommandTitle": false,
       "startTime": 0,
       "state": "input",
       "streamStates": {},
       "subcommandOptions": {
        "queryPlan": {
         "selects": [
          {
           "column": "Feature",
           "type": "column"
          },
          {
           "column": "Mean_Abs_SHAP",
           "type": "column"
          }
         ]
        }
       },
       "submitTime": 0,
       "subtype": "tableResultSubCmd.visualization",
       "tableResultIndex": 0,
       "tableResultSettingsMap": {},
       "useConsistentColors": false,
       "version": "CommandV1",
       "width": "auto",
       "workflows": null,
       "xColumns": null,
       "yColumns": null
      }
     },
     "output_type": "display_data"
    }
   ],
   "source": [
    "# 1. feature_names 설정\n",
    "vectorizer_model = None\n",
    "for stage in pipeline_model.stages:\n",
    "    if stage.uid.startswith(\"CountVectorizer\"):\n",
    "        vectorizer_model = stage\n",
    "        break\n",
    "\n",
    "genre_vocab = vectorizer_model.vocabulary  \n",
    "genre_feature_names = [\"genre_\" + genre for genre in genre_vocab]\n",
    "feature_names = genre_feature_names + [\"userIndex\", \"movieIndex\", \"year\"]\n",
    "\n",
    "# 2. test_transformed에서 features 추출 (전체 or 일부)\n",
    "sampled_features = test_transformed.select(\"features\").limit(500).collect()\n",
    "X = np.vstack([row[\"features\"].toArray() for row in sampled_features])  # (500, n_features)\n",
    "\n",
    "# 3. XGBoost Booster 추출 및 SHAP 계산\n",
    "xgb_stage = final_model.stages[-1]\n",
    "booster = xgb_stage.get_booster()\n",
    "\n",
    "explainer = shap.TreeExplainer(booster)\n",
    "shap_values = explainer.shap_values(X)\n",
    "\n",
    "summary_df = pd.DataFrame({\n",
    "    'Feature': feature_names,\n",
    "    'Mean_Abs_SHAP': np.abs(shap_values).mean(axis=0)\n",
    "}).sort_values(by='Mean_Abs_SHAP', ascending=False)\n",
    "\n",
    "display(summary_df)  # Databricks에서 Bar chart로 보기 추천"
   ]
  },
  {
   "cell_type": "markdown",
   "metadata": {
    "application/vnd.databricks.v1+cell": {
     "cellMetadata": {},
     "inputWidgets": {},
     "nuid": "0eef125a-8a17-4aa6-917a-ad8a4fd2ce77",
     "showTitle": false,
     "tableResultSettingsMap": {},
     "title": ""
    }
   },
   "source": [
    "### 특정 유저에게 왜 해당 영화 추천했는지"
   ]
  },
  {
   "cell_type": "code",
   "execution_count": 0,
   "metadata": {
    "application/vnd.databricks.v1+cell": {
     "cellMetadata": {
      "byteLimit": 2048000,
      "rowLimit": 10000
     },
     "inputWidgets": {},
     "nuid": "475aab71-6b2b-4af1-beb4-9a633636099c",
     "showTitle": false,
     "tableResultSettingsMap": {},
     "title": ""
    }
   },
   "outputs": [],
   "source": [
    "# 1. vectorizer_model에서 vocabulary 가져오기\n",
    "vectorizer_model = None\n",
    "for stage in pipeline_model.stages:\n",
    "    if stage.uid.startswith(\"CountVectorizer\"):\n",
    "        vectorizer_model = stage\n",
    "        break\n",
    "\n",
    "genre_vocab = vectorizer_model.vocabulary  \n",
    "\n",
    "# 2. 인덱스 기준으로 단어 정렬\n",
    "genre_feature_names = [\"genre_\" + genre for genre in genre_vocab]\n",
    "\n",
    "# 4. 전체 feature 이름 리스트 (genres_vec + userIndex + movieIndex + year 순서로 맞춰야 함)\n",
    "feature_names = genre_feature_names + [\"userIndex\", \"movieIndex\", \"year\"]\n",
    "\n",
    "\n",
    "# --- 이후 SHAP 계산 및 출력 예시 ---\n",
    "target_user = 0\n",
    "user_recs = recommendations.filter(col(\"userIndex\") == target_user).select(\"recommendations\").collect()\n",
    "\n",
    "if not user_recs:\n",
    "    print(f\"User {target_user} has no recommendations.\")\n",
    "else:\n",
    "    rec_list = user_recs[0][\"recommendations\"]\n",
    "    rec = rec_list[0]  # 1개만 선택\n",
    "\n",
    "    movie_id = rec['movieId']\n",
    "    movie_idx_row = movie_index_mapping.filter(col(\"movieId_map\") == movie_id).select(\"movieIndex\").collect()\n",
    "    if not movie_idx_row:\n",
    "        print(f\"movieIndex를 찾을 수 없음: movieId={movie_id}\")\n",
    "    else:\n",
    "        movie_index_val = movie_idx_row[0][\"movieIndex\"]\n",
    "\n",
    "        feature_row = test_transformed.filter(\n",
    "            (col(\"userIndex\") == target_user) & (col(\"movieIndex\") == movie_index_val)\n",
    "        ).select(\"features\").collect()\n",
    "\n",
    "        if not feature_row:\n",
    "            print(f\"feature vector를 찾을 수 없음: userIndex={target_user}, movieIndex={movie_index_val}\")\n",
    "        else:\n",
    "            feature_vector = feature_row[0][\"features\"].toArray().reshape(1, -1)\n",
    "\n",
    "            # SHAP explainer 생성\n",
    "            xgb_stage = final_model.stages[-1]\n",
    "            booster = xgb_stage.get_booster()\n",
    "            explainer = shap.TreeExplainer(booster)\n",
    "\n",
    "            shap_values = explainer.shap_values(feature_vector)\n",
    "\n",
    "            print(f\"Movie: {rec['title']} (movieId: {movie_id})\")\n",
    "            genres_row = movies_meta.filter(movies_meta.movieId_meta == movie_id).select(\"genres_meta\").collect()\n",
    "            if genres_row:\n",
    "                genres = genres_row[0][\"genres_meta\"]\n",
    "                print(f\"Genres: {genres}\")\n",
    "            else:\n",
    "                print(\"Genres 정보가 없습니다.\")\n",
    "\n",
    "\n",
    "            for name, val in zip(feature_names, shap_values[0]):\n",
    "                print(f\"  {name}: {val:.4f}\")"
   ]
  },
  {
   "cell_type": "code",
   "execution_count": 0,
   "metadata": {
    "application/vnd.databricks.v1+cell": {
     "cellMetadata": {
      "byteLimit": 2048000,
      "rowLimit": 10000
     },
     "inputWidgets": {},
     "nuid": "d5b0877b-d197-414a-9f9b-dec5d040f640",
     "showTitle": false,
     "tableResultSettingsMap": {},
     "title": ""
    }
   },
   "outputs": [],
   "source": [
    "# 예: SHAP 값, 피처 이름, 실제 feature 값이 있다고 가정\n",
    "shap_vals = shap_values[0]  # 1개 샘플에 대한 SHAP 값\n",
    "feature_vals = feature_vector[0]  # 실제 피처 값\n",
    "names = feature_names\n",
    "\n",
    "# SHAP 값 절대값 기준으로 Top-N 영향력 높은 피처만 보기\n",
    "top_n = 10\n",
    "indices = np.argsort(np.abs(shap_vals))[-top_n:][::-1]\n",
    "\n",
    "top_names = [names[i] for i in indices]\n",
    "top_shap_vals = [shap_vals[i] for i in indices]\n",
    "top_feature_vals = [feature_vals[i] for i in indices]\n",
    "\n",
    "# 수치형 막대 그래프\n",
    "plt.figure(figsize=(10, 6))\n",
    "bars = plt.barh(top_names, top_shap_vals, color=[\"#ff6f69\" if v < 0 else \"#88d8b0\" for v in top_shap_vals])\n",
    "plt.xlabel(\"SHAP Value (Feature Impact)\")\n",
    "plt.title(f\"Top {top_n} SHAP Feature Importances\")\n",
    "\n",
    "# 실제 피처 값 같이 표시\n",
    "for i, (bar, val) in enumerate(zip(bars, top_feature_vals)):\n",
    "    plt.text(bar.get_width(), bar.get_y() + bar.get_height()/2, f\" = {val:.2f}\", va='center')\n",
    "\n",
    "plt.gca().invert_yaxis()\n",
    "plt.tight_layout()\n",
    "plt.show()"
   ]
  },
  {
   "cell_type": "markdown",
   "metadata": {
    "application/vnd.databricks.v1+cell": {
     "cellMetadata": {},
     "inputWidgets": {},
     "nuid": "fbaef369-d232-4018-a28f-e215c527ff4b",
     "showTitle": false,
     "tableResultSettingsMap": {},
     "title": ""
    }
   },
   "source": [
    "## 한계"
   ]
  },
  {
   "cell_type": "markdown",
   "metadata": {
    "application/vnd.databricks.v1+cell": {
     "cellMetadata": {},
     "inputWidgets": {},
     "nuid": "e06499d7-77a2-484d-8782-293e8c9e6aa3",
     "showTitle": false,
     "tableResultSettingsMap": {},
     "title": ""
    }
   },
   "source": [
    "영화 Index가 중요한 역할(즉 인기영화를 추천하는 경향) -> genre의 영향 높지 않음"
   ]
  }
 ],
 "metadata": {
  "application/vnd.databricks.v1+notebook": {
   "computePreferences": null,
   "dashboards": [],
   "environmentMetadata": {
    "base_environment": "",
    "environment_version": "2"
   },
   "inputWidgetPreferences": null,
   "language": "python",
   "notebookMetadata": {
    "mostRecentlyExecutedCommandWithImplicitDF": {
     "commandId": 5499978568493857,
     "dataframes": [
      "_sqldf"
     ]
    },
    "pythonIndentUnit": 4
   },
   "notebookName": "1. 전체 XGboost_spark",
   "widgets": {}
  },
  "language_info": {
   "name": "python"
  }
 },
 "nbformat": 4,
 "nbformat_minor": 0
}
