{
 "cells": [
  {
   "cell_type": "markdown",
   "metadata": {
    "application/vnd.databricks.v1+cell": {
     "cellMetadata": {
      "byteLimit": 2048000,
      "rowLimit": 10000
     },
     "inputWidgets": {},
     "nuid": "df6560ad-7649-41be-9586-1f87284eb0f6",
     "showTitle": false,
     "tableResultSettingsMap": {},
     "title": ""
    }
   },
   "source": [
    "#0. 환경"
   ]
  },
  {
   "cell_type": "code",
   "execution_count": 0,
   "metadata": {
    "application/vnd.databricks.v1+cell": {
     "cellMetadata": {
      "byteLimit": 2048000,
      "rowLimit": 10000
     },
     "inputWidgets": {},
     "nuid": "09eb202b-57f7-4c56-8478-be785726890e",
     "showTitle": false,
     "tableResultSettingsMap": {},
     "title": ""
    }
   },
   "outputs": [],
   "source": [
    "from pyspark.sql import SparkSession\n",
    "from pyspark.sql.types import DoubleType\n",
    "from pyspark.sql.functions import col, rand, row_number, floor, when, count, collect_list, struct, concat, lit, lpad, avg, desc\n",
    "from pyspark.sql.window import Window\n",
    "from pyspark.ml.feature import RegexTokenizer, CountVectorizer, VectorAssembler, MinMaxScaler, StringIndexer\n",
    "from pyspark.ml import Pipeline\n",
    "import numpy as np\n",
    "import pandas as pd\n",
    "import matplotlib.pyplot as plt\n",
    "import seaborn as sns\n",
    "from xgboost import XGBRegressor, XGBClassifier\n",
    "import optuna\n",
    "import mlflow\n",
    "import mlflow.sklearn\n",
    "import joblib\n",
    "import os\n",
    "from pyspark.sql.functions import col, regexp_extract, regexp_replace, count"
   ]
  },
  {
   "cell_type": "code",
   "execution_count": 0,
   "metadata": {
    "application/vnd.databricks.v1+cell": {
     "cellMetadata": {
      "byteLimit": 2048000,
      "rowLimit": 10000
     },
     "inputWidgets": {},
     "nuid": "fa284b47-d962-47a9-b990-5bbfaeaff070",
     "showTitle": false,
     "tableResultSettingsMap": {},
     "title": ""
    }
   },
   "outputs": [],
   "source": [
    "spark = SparkSession.builder \\\n",
    "    .appName(\"IMDB_small\") \\\n",
    "    .getOrCreate()"
   ]
  },
  {
   "cell_type": "markdown",
   "metadata": {
    "application/vnd.databricks.v1+cell": {
     "cellMetadata": {
      "byteLimit": 2048000,
      "rowLimit": 10000
     },
     "inputWidgets": {},
     "nuid": "7c84e855-ddbe-45c0-82c9-b005c7c0f5f7",
     "showTitle": false,
     "tableResultSettingsMap": {},
     "title": ""
    }
   },
   "source": [
    "# 1. 데이터로드"
   ]
  },
  {
   "cell_type": "markdown",
   "metadata": {
    "application/vnd.databricks.v1+cell": {
     "cellMetadata": {
      "byteLimit": 2048000,
      "rowLimit": 10000
     },
     "inputWidgets": {},
     "nuid": "e2615f36-525e-40dd-a529-824a3aad63ef",
     "showTitle": false,
     "tableResultSettingsMap": {},
     "title": ""
    }
   },
   "source": [
    "## Bronze"
   ]
  },
  {
   "cell_type": "markdown",
   "metadata": {
    "application/vnd.databricks.v1+cell": {
     "cellMetadata": {
      "byteLimit": 2048000,
      "rowLimit": 10000
     },
     "inputWidgets": {},
     "nuid": "dcb46cb5-c0a1-4072-963f-a6f9974d1175",
     "showTitle": false,
     "tableResultSettingsMap": {},
     "title": ""
    }
   },
   "source": [
    "### Movielends 로드"
   ]
  },
  {
   "cell_type": "code",
   "execution_count": 0,
   "metadata": {
    "application/vnd.databricks.v1+cell": {
     "cellMetadata": {
      "byteLimit": 2048000,
      "rowLimit": 10000
     },
     "inputWidgets": {},
     "nuid": "49c20c36-c995-422e-9661-24d5b2075724",
     "showTitle": false,
     "tableResultSettingsMap": {},
     "title": ""
    }
   },
   "outputs": [],
   "source": [
    "catalog = \"1dt_team8_databricks\"\n",
    "schema = \"`final`\"\n",
    "path = f\"{catalog}.{schema}\"\n",
    "\n",
    "try:\n",
    "    train = spark.read.table(f\"{path}.train_df\")\n",
    "    validation = spark.read.table(f\"{path}.validation_df\")\n",
    "    test = spark.read.table(f\"{path}.test_df\")\n",
    "except Exception as e:\n",
    "    print(f\"Error loading data from Unity Catalog Volume: {e}\")\n",
    "# display(train)\n",
    "# display(validation)\n",
    "# display(test)"
   ]
  },
  {
   "cell_type": "code",
   "execution_count": 0,
   "metadata": {
    "application/vnd.databricks.v1+cell": {
     "cellMetadata": {
      "byteLimit": 2048000,
      "rowLimit": 10000
     },
     "inputWidgets": {},
     "nuid": "ef43d5a9-01f5-4e3a-a5c2-7a7ab4af2ee0",
     "showTitle": false,
     "tableResultSettingsMap": {},
     "title": ""
    }
   },
   "outputs": [],
   "source": [
    "catalog = \"1dt_team8_databricks\"\n",
    "schema = \"`movielens-small`\"\n",
    "# schema = \"`movielens-32m`\"\n",
    "bronze_path = f\"{catalog}.{schema}\"\n",
    "\n",
    "try:\n",
    "    ratings = spark.read.table(f\"{bronze_path}.ratings\")\n",
    "    ratings = ratings.select(\"userId\",\"movieId\",\"rating\")\n",
    "    movies = spark.read.table(f\"{bronze_path}.movies\")\n",
    "    tags = spark.read.table(f\"{bronze_path}.tags\")\n",
    "    links = spark.read.table(f\"{bronze_path}.links\")\n",
    "    links = links.withColumn(\"imdb_id\", concat(lit(\"tt\"), lpad(col(\"imdbId\"), 7, \"0\")))\n",
    "    print(\"Data loaded successfully from Unity Catalog Volume.\")\n",
    "except Exception as e:\n",
    "    print(f\"Error loading data from Unity Catalog Volume: {e}\")\n",
    "    print(f\"Please ensure CSV files (movies.csv, ratings.csv, links.csv, tags.csv) exist in {volume_path}\")"
   ]
  },
  {
   "cell_type": "code",
   "execution_count": 0,
   "metadata": {
    "application/vnd.databricks.v1+cell": {
     "cellMetadata": {
      "byteLimit": 2048000,
      "rowLimit": 10000
     },
     "inputWidgets": {},
     "nuid": "08d2c3e4-c24c-41b2-be99-1f059e3e9749",
     "showTitle": false,
     "tableResultSettingsMap": {},
     "title": ""
    }
   },
   "outputs": [],
   "source": [
    "movies.count()"
   ]
  },
  {
   "cell_type": "code",
   "execution_count": 0,
   "metadata": {
    "application/vnd.databricks.v1+cell": {
     "cellMetadata": {
      "byteLimit": 2048000,
      "rowLimit": 10000
     },
     "inputWidgets": {},
     "nuid": "caf0ad6b-e51f-4681-bcce-207abf4c88cc",
     "showTitle": false,
     "tableResultSettingsMap": {},
     "title": ""
    }
   },
   "outputs": [],
   "source": [
    "movies_df = movies.withColumn(\n",
    "    \"year\",\n",
    "    regexp_extract(col(\"title\"), r\"\\((\\d{4})\\)\\s*$\", 1).cast(\"int\")\n",
    ")"
   ]
  },
  {
   "cell_type": "markdown",
   "metadata": {
    "application/vnd.databricks.v1+cell": {
     "cellMetadata": {
      "byteLimit": 2048000,
      "rowLimit": 10000
     },
     "inputWidgets": {},
     "nuid": "96a9659d-6f72-4d65-b112-ba1ab26c033f",
     "showTitle": false,
     "tableResultSettingsMap": {},
     "title": ""
    }
   },
   "source": [
    "### IMDB 로드"
   ]
  },
  {
   "cell_type": "code",
   "execution_count": 0,
   "metadata": {
    "application/vnd.databricks.v1+cell": {
     "cellMetadata": {
      "byteLimit": 2048000,
      "rowLimit": 10000
     },
     "inputWidgets": {},
     "nuid": "d0b4db14-6319-4e29-ae78-ebed6d258de5",
     "showTitle": false,
     "tableResultSettingsMap": {},
     "title": ""
    }
   },
   "outputs": [],
   "source": [
    "catalog = \"1dt_team8_databricks\"\n",
    "schema = \"`imdb`\"\n",
    "bronze_path = f\"{catalog}.{schema}\"\n",
    "\n",
    "try:\n",
    "    imdb_ratings = spark.read.table(f\"{bronze_path}.title_ratings\")\n",
    "    print(\"Data loaded successfully from Unity Catalog Volume.\")\n",
    "except Exception as e:\n",
    "    print(f\"Error loading data from Unity Catalog Volume: {e}\")\n",
    "    print(f\"Please ensure CSV files (imdb_ratings.csv) exist in {volume_path}\")"
   ]
  },
  {
   "cell_type": "code",
   "execution_count": 0,
   "metadata": {
    "application/vnd.databricks.v1+cell": {
     "cellMetadata": {
      "byteLimit": 2048000,
      "rowLimit": 10000
     },
     "inputWidgets": {},
     "nuid": "d7635a6f-9974-47a9-8dcb-c256c41f9ad3",
     "showTitle": false,
     "tableResultSettingsMap": {},
     "title": ""
    }
   },
   "outputs": [],
   "source": [
    "# 1. 연도별 영화 개수 집계\n",
    "yearly_movie_count_filter_df = movies_df.groupBy(\"year\").agg(count(\"*\").alias(\"movie_count\"))\n",
    "yearly_movie_count_filter_df = yearly_movie_count_filter_df.orderBy(\"year\")\n",
    "\n",
    "# 2. Pandas로 변환\n",
    "yearly_movie_count_filter_pd = yearly_movie_count_filter_df.toPandas()\n",
    "\n",
    "# 3. Null 연도 제외 (옵션)\n",
    "yearly_movie_count_filter_pd = yearly_movie_count_filter_pd.dropna(subset=[\"year\"])\n",
    "\n",
    "# 4. 막대그래프 그리기\n",
    "plt.figure(figsize=(15, 6))\n",
    "plt.bar(yearly_movie_count_filter_pd['year'], yearly_movie_count_filter_pd['movie_count'], color='skyblue')\n",
    "\n",
    "plt.title(\"Number of Movies per Year\")\n",
    "plt.xlabel(\"Year\")\n",
    "plt.ylabel(\"Movie Count\")\n",
    "plt.xticks(rotation=90)  # 연도 회전\n",
    "plt.tight_layout()\n",
    "plt.show()"
   ]
  },
  {
   "cell_type": "markdown",
   "metadata": {
    "application/vnd.databricks.v1+cell": {
     "cellMetadata": {
      "byteLimit": 2048000,
      "rowLimit": 10000
     },
     "inputWidgets": {},
     "nuid": "222df492-0311-4679-b9dc-9ee11537e240",
     "showTitle": false,
     "tableResultSettingsMap": {},
     "title": ""
    }
   },
   "source": [
    "## Silver"
   ]
  },
  {
   "cell_type": "code",
   "execution_count": 0,
   "metadata": {
    "application/vnd.databricks.v1+cell": {
     "cellMetadata": {
      "byteLimit": 2048000,
      "rowLimit": 10000
     },
     "inputWidgets": {},
     "nuid": "8db85988-9b27-4ca9-a14c-ff05643dd6b5",
     "showTitle": false,
     "tableResultSettingsMap": {},
     "title": ""
    }
   },
   "outputs": [],
   "source": [
    "ratings = ratings.dropna()\n",
    "ratings = ratings.filter((ratings.rating >= 0) & (ratings.rating <= 5))\n",
    "\n",
    "imdb_ratings = imdb_ratings.dropna()\n",
    "imdb_ratings = imdb_ratings.filter((imdb_ratings.averageRating >= 0) & (imdb_ratings.numVotes > 0))"
   ]
  },
  {
   "cell_type": "markdown",
   "metadata": {
    "application/vnd.databricks.v1+cell": {
     "cellMetadata": {
      "byteLimit": 2048000,
      "rowLimit": 10000
     },
     "inputWidgets": {},
     "nuid": "ca9ecefa-38c2-4b5f-877e-f8ad3514790d",
     "showTitle": false,
     "tableResultSettingsMap": {},
     "title": ""
    }
   },
   "source": [
    "## Gold"
   ]
  },
  {
   "cell_type": "code",
   "execution_count": 0,
   "metadata": {
    "application/vnd.databricks.v1+cell": {
     "cellMetadata": {
      "byteLimit": 2048000,
      "rowLimit": 10000
     },
     "inputWidgets": {},
     "nuid": "6025e27e-33cd-481e-bcb9-42c992f95520",
     "showTitle": false,
     "tableResultSettingsMap": {},
     "title": ""
    }
   },
   "outputs": [],
   "source": [
    "movies_with_ratings = movies.join(ratings, on=\"movieId\", how=\"left_outer\") \\\n",
    "                             .filter(col(\"rating\").isNotNull())\n",
    "\n",
    "merged = movies_with_ratings.join(links, on=\"movieId\", how=\"inner\")\n",
    "\n",
    "df_merged = merged.join(imdb_ratings, merged.imdb_id == imdb_ratings.tconst, how=\"left_outer\")\n",
    "df_cleaned = df_merged.drop(\"r_movieId\", \"tconst\", \"imdbId\", \"tmdbID\", \"imdb_id\") \\\n",
    "                      .filter(col(\"averageRating\").isNotNull() & col(\"numVotes\").isNotNull()) \\\n",
    "                      .select(\"movieId\", \"userId\", \"title\", \"averageRating\", \"numVotes\", \"genres\", \"rating\") \\\n",
    "                      .withColumn(\"label\", (col(\"rating\") >= 4).cast(\"int\"))"
   ]
  },
  {
   "cell_type": "code",
   "execution_count": 0,
   "metadata": {
    "application/vnd.databricks.v1+cell": {
     "cellMetadata": {
      "byteLimit": 2048000,
      "rowLimit": 10000
     },
     "inputWidgets": {},
     "nuid": "81bf4af4-8646-471a-8839-dd296b4fb248",
     "showTitle": false,
     "tableResultSettingsMap": {},
     "title": ""
    }
   },
   "outputs": [],
   "source": [
    "(df_cleaned.count())"
   ]
  },
  {
   "cell_type": "markdown",
   "metadata": {
    "application/vnd.databricks.v1+cell": {
     "cellMetadata": {
      "byteLimit": 2048000,
      "rowLimit": 10000
     },
     "inputWidgets": {},
     "nuid": "6117884c-a461-4df1-9186-bfcbe97950a7",
     "showTitle": false,
     "tableResultSettingsMap": {},
     "title": ""
    }
   },
   "source": [
    "#2. 데이터분석"
   ]
  },
  {
   "cell_type": "code",
   "execution_count": 0,
   "metadata": {
    "application/vnd.databricks.v1+cell": {
     "cellMetadata": {
      "byteLimit": 2048000,
      "rowLimit": 10000
     },
     "inputWidgets": {},
     "nuid": "d817c973-c228-4c9f-94cf-844ce6260ac9",
     "showTitle": false,
     "tableResultSettingsMap": {},
     "title": ""
    }
   },
   "outputs": [],
   "source": [
    "# df = df_cleaned.toPandas()"
   ]
  },
  {
   "cell_type": "code",
   "execution_count": 0,
   "metadata": {
    "application/vnd.databricks.v1+cell": {
     "cellMetadata": {
      "byteLimit": 2048000,
      "rowLimit": 10000
     },
     "inputWidgets": {},
     "nuid": "048e6b37-8952-4a99-8f11-25aa86afc125",
     "showTitle": false,
     "tableResultSettingsMap": {},
     "title": ""
    }
   },
   "outputs": [],
   "source": [
    "# if 'df' in locals() and df is not None:\n",
    "#     plt.figure(figsize=(10,8))\n",
    "#     sns.heatmap(df.corr(), annot=True, cmap='coolwarm', fmt=\".2f\", linewidths=.5)\n",
    "#     #plt.title('변수 간 상관계수 히트맵')\n",
    "#     plt.title('Correlation Heatmap of Variables')\n",
    "#     plt.show()\n",
    "# else:\n",
    "#     print(\"오류: df (Pandas DataFrame)가 생성되지 않았습니다. 2단계를 다시 확인해주세요.\")"
   ]
  },
  {
   "cell_type": "markdown",
   "metadata": {
    "application/vnd.databricks.v1+cell": {
     "cellMetadata": {
      "byteLimit": 2048000,
      "rowLimit": 10000
     },
     "inputWidgets": {},
     "nuid": "2dd78242-4c3f-499c-b9de-b0d0ffe62988",
     "showTitle": false,
     "tableResultSettingsMap": {},
     "title": ""
    }
   },
   "source": [
    "# 3. 데이터분리"
   ]
  },
  {
   "cell_type": "markdown",
   "metadata": {
    "application/vnd.databricks.v1+cell": {
     "cellMetadata": {
      "byteLimit": 2048000,
      "rowLimit": 10000
     },
     "inputWidgets": {},
     "nuid": "66a39b18-7335-4eff-a3fa-0e6f4864f6c3",
     "showTitle": false,
     "tableResultSettingsMap": {},
     "title": ""
    }
   },
   "source": [
    "## 파이프라인"
   ]
  },
  {
   "cell_type": "code",
   "execution_count": 0,
   "metadata": {
    "application/vnd.databricks.v1+cell": {
     "cellMetadata": {
      "byteLimit": 2048000,
      "rowLimit": 10000
     },
     "inputWidgets": {},
     "nuid": "f3ce0016-1734-4b33-ace4-6010f3075ad3",
     "showTitle": false,
     "tableResultSettingsMap": {},
     "title": ""
    }
   },
   "outputs": [],
   "source": [
    "tokenizer = RegexTokenizer(inputCol=\"genres\", outputCol=\"genres_tokens\", pattern=\"\\\\|\")\n",
    "vectorizer = CountVectorizer(inputCol=\"genres_tokens\", outputCol=\"genres_vec\")\n",
    "assembler_numvotes = VectorAssembler(inputCols=[\"numVotes\"], outputCol=\"numVotes_vec\")\n",
    "scaler = MinMaxScaler(inputCol=\"numVotes_vec\", outputCol=\"numVotes_scaled\")\n",
    "user_indexer = StringIndexer(inputCol=\"userId\", outputCol=\"userIndex\")\n",
    "user_indexer_model = user_indexer.fit(df_cleaned)\n",
    "\n",
    "movie_indexer = StringIndexer(inputCol=\"movieId\", outputCol=\"movieIndex\")\n",
    "assembler_all = VectorAssembler(\n",
    "    inputCols=[\"genres_vec\", \"averageRating\", \"numVotes_scaled\", \"userIndex\", \"movieIndex\"],\n",
    "    outputCol=\"features\"\n",
    ")\n",
    "\n",
    "pipeline = Pipeline(stages=[\n",
    "    tokenizer, vectorizer, assembler_numvotes, scaler,\n",
    "    user_indexer, movie_indexer, assembler_all\n",
    "])\n",
    "\n",
    "pipeline_model = pipeline.fit(df_cleaned)\n",
    "df_transformed = pipeline_model.transform(df_cleaned)"
   ]
  },
  {
   "cell_type": "markdown",
   "metadata": {
    "application/vnd.databricks.v1+cell": {
     "cellMetadata": {
      "byteLimit": 2048000,
      "rowLimit": 10000
     },
     "inputWidgets": {},
     "nuid": "4397b7e2-b880-49f5-97ae-0f4e145576ac",
     "showTitle": false,
     "tableResultSettingsMap": {},
     "title": ""
    }
   },
   "source": [
    "## 사용자 기준 데이터분할"
   ]
  },
  {
   "cell_type": "code",
   "execution_count": 0,
   "metadata": {
    "application/vnd.databricks.v1+cell": {
     "cellMetadata": {
      "byteLimit": 2048000,
      "rowLimit": 10000
     },
     "inputWidgets": {},
     "nuid": "e429d441-e504-4fe0-bb1a-be1e6cf12a6c",
     "showTitle": false,
     "tableResultSettingsMap": {},
     "title": ""
    }
   },
   "outputs": [],
   "source": [
    "window_spec = Window.partitionBy(\"userId\").orderBy(rand(seed=0))\n",
    "ranked = df_transformed.withColumn(\"row_num\", row_number().over(window_spec))\n",
    "user_counts = ranked.groupBy(\"userId\").agg(count(\"*\").alias(\"total\"))\n",
    "\n",
    "split_df = ranked.join(user_counts, on=\"userId\").withColumn(\n",
    "    \"set\",\n",
    "    when(col(\"row_num\") <= floor(col(\"total\") * 0.6), \"train\")\n",
    "    .when(col(\"row_num\") <= floor(col(\"total\") * 0.8), \"valid\")\n",
    "    .otherwise(\"test\")\n",
    ")"
   ]
  },
  {
   "cell_type": "code",
   "execution_count": 0,
   "metadata": {
    "application/vnd.databricks.v1+cell": {
     "cellMetadata": {
      "byteLimit": 2048000,
      "rowLimit": 10000
     },
     "inputWidgets": {},
     "nuid": "7a138d04-2b5c-42bf-8df1-e3f3506bd646",
     "showTitle": false,
     "tableResultSettingsMap": {},
     "title": ""
    }
   },
   "outputs": [],
   "source": [
    "def df_to_xy(df, label_col=\"rating\"):\n",
    "    pdf = df.select(\"features\", label_col).toPandas()\n",
    "    X = np.vstack(pdf[\"features\"].apply(lambda x: x.toArray()))\n",
    "    y = pdf[label_col].values\n",
    "    return X, y\n",
    "\n",
    "train_df = split_df.filter(col(\"set\") == \"train\")\n",
    "valid_df = split_df.filter(col(\"set\") == \"valid\")\n",
    "test_df  = split_df.filter(col(\"set\") == \"test\")"
   ]
  },
  {
   "cell_type": "code",
   "execution_count": 0,
   "metadata": {
    "application/vnd.databricks.v1+cell": {
     "cellMetadata": {
      "byteLimit": 2048000,
      "rowLimit": 10000
     },
     "inputWidgets": {},
     "nuid": "e4d69b00-2211-40bf-bace-8b2964785a38",
     "showTitle": false,
     "tableResultSettingsMap": {},
     "title": ""
    }
   },
   "outputs": [],
   "source": [
    "X_train, y_train = df_to_xy(train_df)\n",
    "X_valid, y_valid = df_to_xy(valid_df)\n",
    "X_test, y_test   = df_to_xy(test_df)"
   ]
  },
  {
   "cell_type": "markdown",
   "metadata": {
    "application/vnd.databricks.v1+cell": {
     "cellMetadata": {
      "byteLimit": 2048000,
      "rowLimit": 10000
     },
     "inputWidgets": {},
     "nuid": "c41418dd-1adf-4548-a228-9ef00c6a3a24",
     "showTitle": false,
     "tableResultSettingsMap": {},
     "title": ""
    }
   },
   "source": [
    "# 4. 모델 설계 및 평가"
   ]
  },
  {
   "cell_type": "markdown",
   "metadata": {
    "application/vnd.databricks.v1+cell": {
     "cellMetadata": {},
     "inputWidgets": {},
     "nuid": "3351bff2-1c8f-414d-8f7c-2235638d1670",
     "showTitle": false,
     "tableResultSettingsMap": {},
     "title": ""
    }
   },
   "source": [
    "## 평가지표 정의"
   ]
  },
  {
   "cell_type": "code",
   "execution_count": 0,
   "metadata": {
    "application/vnd.databricks.v1+cell": {
     "cellMetadata": {
      "byteLimit": 2048000,
      "rowLimit": 10000
     },
     "inputWidgets": {},
     "nuid": "85914ef9-eaa4-4aec-9474-a5de7fea1b2f",
     "showTitle": false,
     "tableResultSettingsMap": {},
     "title": ""
    }
   },
   "outputs": [],
   "source": [
    "# # Precision@K 정의(사용자별로 Top-K 추천 결과에서 실제 rating이 threshold 이상인 비율을 계산.)\n",
    "def precision_at_k(df: pd.DataFrame, k: int = 5, threshold: float = 4.0) -> float:\n",
    "    # 사용자별 정렬된 top-k 영화 선택\n",
    "    top_k = (\n",
    "        df.sort_values([\"userIndex\", \"y_pred_prob\"], ascending=[True, False])\n",
    "        .groupby(\"userIndex\")\n",
    "        .head(k)\n",
    "    )\n",
    "\n",
    "    # 정답 판단: 실제 평점이 threshold 이상인 경우를 정답으로 간주\n",
    "    top_k[\"hit\"] = (top_k[\"y_true\"] >= threshold).astype(int)\n",
    "\n",
    "    # 사용자별 precision 계산\n",
    "    user_precision = top_k.groupby(\"userIndex\")[\"hit\"].mean()\n",
    "\n",
    "    # 전체 평균 Precision@K\n",
    "    return user_precision.mean()"
   ]
  },
  {
   "cell_type": "markdown",
   "metadata": {
    "application/vnd.databricks.v1+cell": {
     "cellMetadata": {
      "byteLimit": 2048000,
      "rowLimit": 10000
     },
     "inputWidgets": {},
     "nuid": "9e5ee5c6-531f-44fb-be8e-af1d01d91a47",
     "showTitle": false,
     "tableResultSettingsMap": {},
     "title": ""
    }
   },
   "source": [
    "## XgboostRegressor"
   ]
  },
  {
   "cell_type": "code",
   "execution_count": 0,
   "metadata": {
    "application/vnd.databricks.v1+cell": {
     "cellMetadata": {
      "byteLimit": 2048000,
      "rowLimit": 10000
     },
     "inputWidgets": {},
     "nuid": "2ef49ea4-5543-4ef9-b9e0-c7d9db44f99d",
     "showTitle": false,
     "tableResultSettingsMap": {},
     "title": ""
    }
   },
   "outputs": [],
   "source": [
    "# model = XGBRegressor(\n",
    "#     objective=\"reg:squarederror\",\n",
    "#     max_depth=6,\n",
    "#     n_estimators=100,\n",
    "#     learning_rate=0.1,\n",
    "#     early_stopping_rounds=50,\n",
    "#     seed=0,\n",
    "#     n_jobs=-1\n",
    "# )\n",
    "\n",
    "# model.fit(X_train, y_train, eval_set=[(X_valid, y_valid)], verbose=False)"
   ]
  },
  {
   "cell_type": "code",
   "execution_count": 0,
   "metadata": {
    "application/vnd.databricks.v1+cell": {
     "cellMetadata": {
      "byteLimit": 2048000,
      "rowLimit": 10000
     },
     "inputWidgets": {},
     "nuid": "cda6c974-9c25-4824-b10f-acaf171941a4",
     "showTitle": false,
     "tableResultSettingsMap": {},
     "title": ""
    }
   },
   "outputs": [],
   "source": [
    "# test_pdf = test_df.select(\"userIndex\", \"movieIndex\", \"rating\").toPandas()\n",
    "# test_pdf[\"y_pred_prob\"] = model.predict(X_test)\n",
    "# test_pdf.rename(columns={\"rating\": \"y_true\"}, inplace=True)\n",
    "# test_pred = spark.createDataFrame(test_pdf)"
   ]
  },
  {
   "cell_type": "markdown",
   "metadata": {
    "application/vnd.databricks.v1+cell": {
     "cellMetadata": {
      "byteLimit": 2048000,
      "rowLimit": 10000
     },
     "inputWidgets": {},
     "nuid": "8527c198-e221-45f1-9ca1-27019ea20f23",
     "showTitle": false,
     "tableResultSettingsMap": {},
     "title": ""
    }
   },
   "source": [
    "### 평가지표"
   ]
  },
  {
   "cell_type": "code",
   "execution_count": 0,
   "metadata": {
    "application/vnd.databricks.v1+cell": {
     "cellMetadata": {
      "byteLimit": 2048000,
      "rowLimit": 10000
     },
     "inputWidgets": {},
     "nuid": "e866ddf7-1552-4f3b-a859-f9061f49c5ea",
     "showTitle": false,
     "tableResultSettingsMap": {},
     "title": ""
    }
   },
   "outputs": [],
   "source": [
    "# p_at_5 = precision_at_k(test_pdf, k=10)\n",
    "# print(f\"Precision@5: {p_at_5:.4f}\")"
   ]
  },
  {
   "cell_type": "markdown",
   "metadata": {
    "application/vnd.databricks.v1+cell": {
     "cellMetadata": {
      "byteLimit": 2048000,
      "rowLimit": 10000
     },
     "inputWidgets": {},
     "nuid": "7e88730e-bf15-4bd0-b0d7-ac7f16eef057",
     "showTitle": false,
     "tableResultSettingsMap": {},
     "title": ""
    }
   },
   "source": [
    "### 사용자별 추천 영화"
   ]
  },
  {
   "cell_type": "code",
   "execution_count": 0,
   "metadata": {
    "application/vnd.databricks.v1+cell": {
     "cellMetadata": {
      "byteLimit": 2048000,
      "rowLimit": 10000
     },
     "inputWidgets": {},
     "nuid": "3f8f73f9-2c03-469b-b513-de7111d21d92",
     "showTitle": false,
     "tableResultSettingsMap": {},
     "title": ""
    }
   },
   "outputs": [],
   "source": [
    "# from pyspark.sql.window import Window\n",
    "# from pyspark.sql.functions import row_number, col\n",
    "\n",
    "# K = 10\n",
    "# # 1. 사용자별 예측 상위 K개 영화 선택\n",
    "# window_spec = Window.partitionBy(\"userIndex\").orderBy(col(\"y_pred_prob\").desc())\n",
    "\n",
    "# ranked = test_pred.withColumn(\"rank\", row_number().over(window_spec)) \\\n",
    "#                   .filter(col(\"rank\") <= K)\n",
    "\n",
    "# # 2. 추천 영화 정보 묶기 (movieId와 예측 평점)\n",
    "# ranked = ranked.withColumn(\"recommendation\", struct(col(\"movieIndex\").alias(\"movieId\"), col(\"y_pred_prob\").alias(\"pred_rating\")))\n",
    "\n",
    "# # 3. 사용자별로 리스트로 그룹화\n",
    "# recommendations = ranked.groupBy(\"userIndex\") \\\n",
    "#     .agg(collect_list(\"recommendation\").alias(\"recommendations\")) \\\n",
    "#     .orderBy(\"userIndex\")\n",
    "\n",
    "# display(recommendations)"
   ]
  },
  {
   "cell_type": "markdown",
   "metadata": {
    "application/vnd.databricks.v1+cell": {
     "cellMetadata": {
      "byteLimit": 2048000,
      "rowLimit": 10000
     },
     "inputWidgets": {},
     "nuid": "0615f7a5-00f9-4e2f-b0d9-aa420a6d5d4b",
     "showTitle": false,
     "tableResultSettingsMap": {},
     "title": ""
    }
   },
   "source": [
    "### 성능 개선(optuna)"
   ]
  },
  {
   "cell_type": "code",
   "execution_count": 0,
   "metadata": {
    "application/vnd.databricks.v1+cell": {
     "cellMetadata": {
      "byteLimit": 2048000,
      "rowLimit": 10000
     },
     "inputWidgets": {},
     "nuid": "d8174fec-9454-41db-8d88-5bddef826cb2",
     "showTitle": false,
     "tableResultSettingsMap": {},
     "title": ""
    }
   },
   "outputs": [],
   "source": [
    "# # 레이블 생성 (평점 4 이상은 1, 아니면 0)\n",
    "# # Optuna 목적 함수 정의\n",
    "# def objective(trial):\n",
    "#     # 하이퍼파라미터 설정\n",
    "#     param = {\n",
    "#         \"max_depth\": trial.suggest_int(\"max_depth\", 3, 10),\n",
    "#         \"learning_rate\": trial.suggest_float(\"learning_rate\", 0.01, 0.3),\n",
    "#         \"n_estimators\": trial.suggest_int(\"n_estimators\", 50, 300),\n",
    "#         \"objective\": \"reg:squarederror\",\n",
    "#         \"use_label_encoder\": False,\n",
    "#         \"eval_metric\": \"logloss\",\n",
    "#         \"early_stopping_rounds\": 20\n",
    "#     }\n",
    "\n",
    "#     # XGBoost 모델 학습\n",
    "#     model = XGBRegressor(**param)\n",
    "#     model.fit(X_train, y_train, eval_set=[(X_valid, y_valid)], verbose=False)\n",
    "\n",
    "#     y_pred = model.predict(X_test)\n",
    "#     test_pdf = test_df.select(\"userIndex\", \"movieIndex\", \"rating\").toPandas()\n",
    "#     test_pdf[\"y_pred_prob\"] = y_pred\n",
    "#     test_pdf.rename(columns={\"rating\": \"y_true\"}, inplace=True)\n",
    "\n",
    "#     pred = spark.createDataFrame(test_pdf)\n",
    "\n",
    "#     window_spec = Window.partitionBy(\"userIndex\").orderBy(col(\"y_pred_prob\").desc())\n",
    "#     top_k = pred.withColumn(\"rank\", row_number().over(window_spec)).filter(col(\"rank\") <= K)\n",
    "\n",
    "#     # Precision@K 계산\n",
    "#     top_k = top_k.withColumn(\"y_true\", (col(\"y_true\") >= 4).cast(\"int\"))\n",
    "#     precision_df = top_k.groupBy(\"userIndex\").agg({\"y_true\": \"avg\"})\n",
    "#     avg_precision_at_k = precision_df.selectExpr(\"avg(`avg(y_true)`) as precision_at_k\").collect()[0][\"precision_at_k\"]\n",
    "\n",
    "#     return avg_precision_at_k  # Optuna는 최소화를 수행하므로 음수 반환"
   ]
  },
  {
   "cell_type": "code",
   "execution_count": 0,
   "metadata": {
    "application/vnd.databricks.v1+cell": {
     "cellMetadata": {
      "byteLimit": 2048000,
      "rowLimit": 10000
     },
     "inputWidgets": {},
     "nuid": "861b7de8-c9a6-4acc-a74c-f156d20c5084",
     "showTitle": false,
     "tableResultSettingsMap": {},
     "title": ""
    }
   },
   "outputs": [],
   "source": [
    "Op# study = optuna.create_study(direction=\"maximize\")  # Precision@K를 최대화\n",
    "# study.optimize(objective, n_trials=30)  # 30번 튜닝\n",
    "\n",
    "# print(\"Best params:\", study.best_params)\n",
    "# print(\"Best Precision@K:\", study.best_value)"
   ]
  },
  {
   "cell_type": "code",
   "execution_count": 0,
   "metadata": {
    "application/vnd.databricks.v1+cell": {
     "cellMetadata": {
      "byteLimit": 2048000,
      "rowLimit": 10000
     },
     "inputWidgets": {},
     "nuid": "be89b86c-eb4c-41a0-8252-02827afefb31",
     "showTitle": false,
     "tableResultSettingsMap": {},
     "title": ""
    }
   },
   "outputs": [],
   "source": [
    "# best_params = study.best_params\n",
    "\n",
    "# best_model = XGBRegressor(**best_params)\n",
    "# best_model.fit(X_train, y_train)\n",
    "\n",
    "# best_pred = best_model.predict(X_test)\n",
    "\n",
    "# joblib.dump(best_model, \"best_xgb_reg_model.pkl\")\n",
    "\n",
    "# # loaded_model = joblib.load(\"best_xgb_model.pkl\")\n",
    "# # y_pred = loaded_model.predict(X_test)"
   ]
  },
  {
   "cell_type": "markdown",
   "metadata": {
    "application/vnd.databricks.v1+cell": {
     "cellMetadata": {},
     "inputWidgets": {},
     "nuid": "4bd2b981-b0d1-489b-b604-6815ba7fed12",
     "showTitle": false,
     "tableResultSettingsMap": {},
     "title": ""
    }
   },
   "source": [
    "### Oputna + mlflow"
   ]
  },
  {
   "cell_type": "code",
   "execution_count": 0,
   "metadata": {
    "application/vnd.databricks.v1+cell": {
     "cellMetadata": {
      "byteLimit": 2048000,
      "rowLimit": 10000
     },
     "inputWidgets": {},
     "nuid": "719592d7-b44f-4146-a556-314c4fa0f0a1",
     "showTitle": false,
     "tableResultSettingsMap": {},
     "title": ""
    }
   },
   "outputs": [],
   "source": [
    "# 레이블 생성 (평점 4 이상은 1, 아니면 0)\n",
    "# Optuna 목적 함수 정의\n",
    "def objective(trial):\n",
    "    # 하이퍼파라미터 설정\n",
    "    param = {\n",
    "        \"max_depth\": trial.suggest_int(\"max_depth\", 3, 10),\n",
    "        \"learning_rate\": trial.suggest_float(\"learning_rate\", 0.01, 0.3),\n",
    "        \"n_estimators\": trial.suggest_int(\"n_estimators\", 50, 300),\n",
    "        \"objective\": \"reg:squarederror\",\n",
    "        \"use_label_encoder\": False,\n",
    "        \"eval_metric\": \"logloss\",\n",
    "        \"early_stopping_rounds\": 20\n",
    "    }\n",
    "\n",
    "    with mlflow.start_run(nested=True):\n",
    "            # ✅ 파라미터 기록\n",
    "            mlflow.log_params(param)\n",
    "\n",
    "            # XGBoost 모델 학습\n",
    "            model = XGBRegressor(**param)\n",
    "            model.fit(X_train, y_train, eval_set=[(X_valid, y_valid)], verbose=False)\n",
    "\n",
    "            # 예측\n",
    "            y_pred = model.predict(X_test)\n",
    "\n",
    "            # Spark DataFrame으로 Precision@K 계산\n",
    "            test_pdf = test_df.select(\"userIndex\", \"movieIndex\", \"rating\").toPandas()\n",
    "            test_pdf[\"y_pred_prob\"] = y_pred\n",
    "            test_pdf.rename(columns={\"rating\": \"y_true\"}, inplace=True)\n",
    "\n",
    "            pred = spark.createDataFrame(test_pdf)\n",
    "            window_spec = Window.partitionBy(\"userIndex\").orderBy(col(\"y_pred_prob\").desc())\n",
    "            top_k = pred.withColumn(\"rank\", row_number().over(window_spec)).filter(col(\"rank\") <= K)\n",
    "\n",
    "            top_k = top_k.withColumn(\"y_true\", (col(\"y_true\") >= 4).cast(\"int\"))\n",
    "            precision_df = top_k.groupBy(\"userIndex\").agg({\"y_true\": \"avg\"})\n",
    "            avg_precision_at_k = precision_df.selectExpr(\"avg(`avg(y_true)`) as precision_at_k\").collect()[0][\"precision_at_k\"]\n",
    "\n",
    "            # ✅ 메트릭 기록\n",
    "            mlflow.log_metric(\"precision_at_k\", avg_precision_at_k)\n",
    "\n",
    "            # ✅ 모델 저장\n",
    "            mlflow.sklearn.log_model(model, \"model\")\n",
    "\n",
    "            return -avg_precision_at_k  # Optuna는 최소화 수행하므로 음수로 반환"
   ]
  },
  {
   "cell_type": "code",
   "execution_count": 0,
   "metadata": {
    "application/vnd.databricks.v1+cell": {
     "cellMetadata": {
      "byteLimit": 2048000,
      "rowLimit": 10000
     },
     "inputWidgets": {},
     "nuid": "a49c5b44-e636-4636-bc86-fca34b3681d4",
     "showTitle": false,
     "tableResultSettingsMap": {},
     "title": ""
    }
   },
   "outputs": [],
   "source": [
    "# best_model = XGBRegressor(**study.best_params)\n",
    "# best_model.fit(X_train, y_train, eval_set=[(X_valid, y_valid)], verbose=False)\n",
    "\n",
    "# with mlflow.start_run(run_name=\"final_best_model\"):\n",
    "#     mlflow.log_params(study.best_params)\n",
    "#     mlflow.sklearn.log_model(best_model, \"final_model\")"
   ]
  },
  {
   "cell_type": "markdown",
   "metadata": {
    "application/vnd.databricks.v1+cell": {
     "cellMetadata": {
      "byteLimit": 2048000,
      "rowLimit": 10000
     },
     "inputWidgets": {},
     "nuid": "5c3f9a08-fbea-4caf-a2f8-a2bcbc8eb528",
     "showTitle": false,
     "tableResultSettingsMap": {},
     "title": ""
    }
   },
   "source": [
    "## XgbClassifier"
   ]
  },
  {
   "cell_type": "markdown",
   "metadata": {
    "application/vnd.databricks.v1+cell": {
     "cellMetadata": {},
     "inputWidgets": {},
     "nuid": "3180b0aa-fe9c-441c-bb57-8d0e0e20495e",
     "showTitle": false,
     "tableResultSettingsMap": {},
     "title": ""
    }
   },
   "source": [
    "### 데이터 준비"
   ]
  },
  {
   "cell_type": "code",
   "execution_count": 0,
   "metadata": {
    "application/vnd.databricks.v1+cell": {
     "cellMetadata": {
      "byteLimit": 2048000,
      "rowLimit": 10000
     },
     "inputWidgets": {},
     "nuid": "963942cc-6fd9-42b2-a124-3d1f64d706df",
     "showTitle": false,
     "tableResultSettingsMap": {},
     "title": ""
    }
   },
   "outputs": [],
   "source": [
    "X_train, y_train = df_to_xy(train_df, \"label\")\n",
    "X_valid, y_valid = df_to_xy(valid_df, \"label\")\n",
    "X_test, y_test   = df_to_xy(test_df, \"label\")"
   ]
  },
  {
   "cell_type": "markdown",
   "metadata": {
    "application/vnd.databricks.v1+cell": {
     "cellMetadata": {},
     "inputWidgets": {},
     "nuid": "b3d5f30b-860d-4e0b-b96e-503c79ac1921",
     "showTitle": false,
     "tableResultSettingsMap": {},
     "title": ""
    }
   },
   "source": [
    "### 모델 설계 및 실험"
   ]
  },
  {
   "cell_type": "code",
   "execution_count": 0,
   "metadata": {
    "application/vnd.databricks.v1+cell": {
     "cellMetadata": {
      "byteLimit": 2048000,
      "rowLimit": 10000
     },
     "inputWidgets": {},
     "nuid": "5c695f2b-6659-413d-bff7-ab632b6a7e29",
     "showTitle": false,
     "tableResultSettingsMap": {},
     "title": ""
    }
   },
   "outputs": [],
   "source": [
    "model = XGBClassifier(\n",
    "    objective = 'binary:logistic',\n",
    "    max_depth=6,\n",
    "    n_estimators=100,\n",
    "    learning_rate=0.1,\n",
    "    early_stopping_rounds=50,\n",
    "    seed=0,\n",
    "    n_jobs=-1,\n",
    "    use_label_encoder=False,\n",
    "    eval_metric='logloss'\n",
    ")\n",
    "\n",
    "model.fit(X_train, y_train, eval_set=[(X_valid, y_valid)], verbose=False)"
   ]
  },
  {
   "cell_type": "code",
   "execution_count": 0,
   "metadata": {
    "application/vnd.databricks.v1+cell": {
     "cellMetadata": {
      "byteLimit": 2048000,
      "rowLimit": 10000
     },
     "inputWidgets": {},
     "nuid": "f8582d4b-e9d5-4128-ac3e-5ba14e76b75c",
     "showTitle": false,
     "tableResultSettingsMap": {},
     "title": ""
    }
   },
   "outputs": [],
   "source": [
    "test_pdf = test_df.select(\"userIndex\", \"movieIndex\", \"rating\").toPandas()\n",
    "test_pdf[\"y_pred_prob\"] = model.predict_proba(X_test)[:,1]\n",
    "test_pdf.rename(columns={\"rating\": \"y_true\"}, inplace=True)\n",
    "test_pred = spark.createDataFrame(test_pdf)"
   ]
  },
  {
   "cell_type": "markdown",
   "metadata": {
    "application/vnd.databricks.v1+cell": {
     "cellMetadata": {},
     "inputWidgets": {},
     "nuid": "f5ab45d3-cc01-48a8-8d06-762cb7f40830",
     "showTitle": false,
     "tableResultSettingsMap": {},
     "title": ""
    }
   },
   "source": [
    "### 평가지표"
   ]
  },
  {
   "cell_type": "code",
   "execution_count": 0,
   "metadata": {
    "application/vnd.databricks.v1+cell": {
     "cellMetadata": {
      "byteLimit": 2048000,
      "rowLimit": 10000
     },
     "inputWidgets": {},
     "nuid": "dfe269c4-169c-4367-a003-9a2700009135",
     "showTitle": false,
     "tableResultSettingsMap": {},
     "title": ""
    }
   },
   "outputs": [],
   "source": [
    "p_at_5 = precision_at_k(test_pdf, k=10)\n",
    "print(f\"Precision@5: {p_at_5:.4f}\")"
   ]
  },
  {
   "cell_type": "markdown",
   "metadata": {
    "application/vnd.databricks.v1+cell": {
     "cellMetadata": {},
     "inputWidgets": {},
     "nuid": "7ddc6716-89a5-47e0-8133-ed3e70fca7ca",
     "showTitle": false,
     "tableResultSettingsMap": {},
     "title": ""
    }
   },
   "source": [
    "### 사용자별 추천 영화"
   ]
  },
  {
   "cell_type": "code",
   "execution_count": 0,
   "metadata": {
    "application/vnd.databricks.v1+cell": {
     "cellMetadata": {
      "byteLimit": 2048000,
      "rowLimit": 10000
     },
     "inputWidgets": {},
     "nuid": "9f2c48e1-7c54-44ee-a2c1-c93e0a7074f4",
     "showTitle": false,
     "tableResultSettingsMap": {},
     "title": ""
    }
   },
   "outputs": [],
   "source": [
    "from pyspark.sql.window import Window\n",
    "from pyspark.sql.functions import row_number, col\n",
    "\n",
    "K = 10\n",
    "# 1. 사용자별 예측 상위 K개 영화 선택\n",
    "window_spec = Window.partitionBy(\"userIndex\").orderBy(col(\"y_pred_prob\").desc())\n",
    "\n",
    "ranked = test_pred.withColumn(\"rank\", row_number().over(window_spec)) \\\n",
    "                  .filter(col(\"rank\") <= K)\n",
    "\n",
    "# 2. 추천 영화 정보 묶기 (movieId와 예측 평점)\n",
    "ranked = ranked.withColumn(\"recommendation\", struct(col(\"movieIndex\").alias(\"movieId\"), col(\"y_pred_prob\").alias(\"pred_rating\")))\n",
    "\n",
    "# 3. 사용자별로 리스트로 그룹화\n",
    "recommendations = ranked.groupBy(\"userIndex\") \\\n",
    "    .agg(collect_list(\"recommendation\").alias(\"recommendations\")) \\\n",
    "    .orderBy(\"userIndex\")\n",
    "\n",
    "display(recommendations)"
   ]
  },
  {
   "cell_type": "markdown",
   "metadata": {
    "application/vnd.databricks.v1+cell": {
     "cellMetadata": {},
     "inputWidgets": {},
     "nuid": "cfe6508e-3f62-40ce-8b5f-1db17423b958",
     "showTitle": false,
     "tableResultSettingsMap": {},
     "title": ""
    }
   },
   "source": [
    "### Optuna"
   ]
  },
  {
   "cell_type": "code",
   "execution_count": 0,
   "metadata": {
    "application/vnd.databricks.v1+cell": {
     "cellMetadata": {
      "byteLimit": 2048000,
      "rowLimit": 10000
     },
     "inputWidgets": {},
     "nuid": "94853fc0-5461-456d-b16e-53a4440cd062",
     "showTitle": false,
     "tableResultSettingsMap": {},
     "title": ""
    }
   },
   "outputs": [],
   "source": [
    "# 레이블 생성 (평점 4 이상은 1, 아니면 0)\n",
    "# Optuna 목적 함수 정의\n",
    "def objective(trial):\n",
    "    # 하이퍼파라미터 설정\n",
    "    param = {\n",
    "        \"max_depth\": trial.suggest_int(\"max_depth\", 3, 10),\n",
    "        \"learning_rate\": trial.suggest_float(\"learning_rate\", 0.01, 0.3),\n",
    "        \"n_estimators\": trial.suggest_int(\"n_estimators\", 50, 300),\n",
    "        \"use_label_encoder\": False,\n",
    "        \"eval_metric\": \"logloss\",\n",
    "        \"early_stopping_rounds\" : 20\n",
    "    }\n",
    "\n",
    "    # XGBoost 모델 학습\n",
    "    model = XGBClassifier(**param)\n",
    "    model.fit(X_train, y_train, eval_set=[(X_valid, y_valid)],  verbose=False)\n",
    "\n",
    "    y_pred = model.predict_proba(X_test)[:,1]\n",
    "    test_pdf = test_df.select(\"userIndex\", \"movieIndex\", \"rating\").toPandas()\n",
    "    test_pdf[\"y_pred_prob\"] = y_pred\n",
    "    test_pdf.rename(columns={\"rating\": \"y_true\"}, inplace=True)\n",
    "\n",
    "    pred = spark.createDataFrame(test_pdf)\n",
    "\n",
    "    window_spec = Window.partitionBy(\"userIndex\").orderBy(col(\"y_pred_prob\").desc())\n",
    "    top_k = pred.withColumn(\"rank\", row_number().over(window_spec)).filter(col(\"rank\") <= K)\n",
    "\n",
    "    # Precision@K 계산\n",
    "    top_k = top_k.withColumn(\"y_true\", (col(\"y_true\") >= 4).cast(\"int\"))\n",
    "    precision_df = top_k.groupBy(\"userIndex\").agg({\"y_true\": \"avg\"})\n",
    "    avg_precision_at_k = precision_df.selectExpr(\"avg(`avg(y_true)`) as precision_at_k\").collect()[0][\"precision_at_k\"]\n",
    "\n",
    "    return avg_precision_at_k  # Optuna는 최소화를 수행하므로 음수 반환"
   ]
  },
  {
   "cell_type": "code",
   "execution_count": 0,
   "metadata": {
    "application/vnd.databricks.v1+cell": {
     "cellMetadata": {
      "byteLimit": 2048000,
      "rowLimit": 10000
     },
     "inputWidgets": {},
     "nuid": "4f951dd2-06c5-4341-9304-511f576ee2a4",
     "showTitle": false,
     "tableResultSettingsMap": {},
     "title": ""
    }
   },
   "outputs": [],
   "source": [
    "study = optuna.create_study(direction=\"maximize\")  # Precision@K를 최대화\n",
    "study.optimize(objective, n_trials=30)  # 30번 튜닝\n",
    "\n",
    "print(\"Best params:\", study.best_params)\n",
    "print(\"Best Precision@K:\", study.best_value)"
   ]
  },
  {
   "cell_type": "code",
   "execution_count": 0,
   "metadata": {
    "application/vnd.databricks.v1+cell": {
     "cellMetadata": {
      "byteLimit": 2048000,
      "rowLimit": 10000
     },
     "inputWidgets": {},
     "nuid": "2e4d62ef-5080-4e5a-940a-79854f8f77e8",
     "showTitle": false,
     "tableResultSettingsMap": {},
     "title": ""
    }
   },
   "outputs": [],
   "source": [
    "best_params = study.best_params\n",
    "\n",
    "best_model = XGBClassifier(**best_params)\n",
    "best_model.fit(X_train, y_train)\n",
    "\n",
    "best_pred = best_model.predict_proba(X_test)[:,1]\n",
    "\n",
    "# 1. 디렉토리 생성\n",
    "os.makedirs(\"/dbfs/FileStore/models\", exist_ok=True)\n",
    "\n",
    "joblib.dump(best_model, \"/dbfs/FileStore/models/best_xgb_clf_model.pkl\")\n",
    "\n",
    "# loaded_model = joblib.load(\"best_xgb_model.pkl\")\n",
    "# y_pred = loaded_model.predict(X_test)"
   ]
  },
  {
   "cell_type": "markdown",
   "metadata": {
    "application/vnd.databricks.v1+cell": {
     "cellMetadata": {},
     "inputWidgets": {},
     "nuid": "23be3ade-a42e-45a8-81de-d9e05d1c4e33",
     "showTitle": false,
     "tableResultSettingsMap": {},
     "title": ""
    }
   },
   "source": [
    "### Optuna + mlflow"
   ]
  },
  {
   "cell_type": "code",
   "execution_count": 0,
   "metadata": {
    "application/vnd.databricks.v1+cell": {
     "cellMetadata": {
      "byteLimit": 2048000,
      "rowLimit": 10000
     },
     "inputWidgets": {},
     "nuid": "249b1791-ea01-408a-9788-851f209ea82f",
     "showTitle": false,
     "tableResultSettingsMap": {},
     "title": ""
    }
   },
   "outputs": [],
   "source": [
    "# 레이블 생성 (평점 4 이상은 1, 아니면 0)\n",
    "# Optuna 목적 함수 정의\n",
    "def objective(trial):\n",
    "    # 하이퍼파라미터 설정\n",
    "    param = {\n",
    "        \"max_depth\": trial.suggest_int(\"max_depth\", 3, 10),\n",
    "        \"learning_rate\": trial.suggest_float(\"learning_rate\", 0.01, 0.3),\n",
    "        \"n_estimators\": trial.suggest_int(\"n_estimators\", 50, 300),\n",
    "        \"objective\": \"reg:squarederror\",\n",
    "        \"use_label_encoder\": False,\n",
    "        \"eval_metric\": \"logloss\",\n",
    "        \"early_stopping_rounds\": 20\n",
    "    }\n",
    "\n",
    "    with mlflow.start_run(nested=True):\n",
    "            # ✅ 파라미터 기록\n",
    "            mlflow.log_params(param)\n",
    "\n",
    "            # XGBoost 모델 학습\n",
    "            model = XGBRegressor(**param)\n",
    "            model.fit(X_train, y_train, eval_set=[(X_valid, y_valid)], verbose=False)\n",
    "\n",
    "            # 예측\n",
    "            y_pred = model.predict_proba(X_test)[:,1]\n",
    "\n",
    "            # Spark DataFrame으로 Precision@K 계산\n",
    "            test_pdf = test_df.select(\"userIndex\", \"movieIndex\", \"rating\").toPandas()\n",
    "            test_pdf[\"y_pred_prob\"] = y_pred\n",
    "            test_pdf.rename(columns={\"rating\": \"y_true\"}, inplace=True)\n",
    "\n",
    "            pred = spark.createDataFrame(test_pdf)\n",
    "            window_spec = Window.partitionBy(\"userIndex\").orderBy(col(\"y_pred_prob\").desc())\n",
    "            top_k = pred.withColumn(\"rank\", row_number().over(window_spec)).filter(col(\"rank\") <= K)\n",
    "\n",
    "            top_k = top_k.withColumn(\"y_true\", (col(\"y_true\") >= 4).cast(\"int\"))\n",
    "            precision_df = top_k.groupBy(\"userIndex\").agg({\"y_true\": \"avg\"})\n",
    "            avg_precision_at_k = precision_df.selectExpr(\"avg(`avg(y_true)`) as precision_at_k\").collect()[0][\"precision_at_k\"]\n",
    "\n",
    "            # ✅ 메트릭 기록\n",
    "            mlflow.log_metric(\"precision_at_k\", avg_precision_at_k)\n",
    "\n",
    "            # ✅ 모델 저장\n",
    "            mlflow.sklearn.log_model(model, \"model\")\n",
    "\n",
    "            return -avg_precision_at_k  # Optuna는 최소화 수행하므로 음수로 반환"
   ]
  },
  {
   "cell_type": "code",
   "execution_count": 0,
   "metadata": {
    "application/vnd.databricks.v1+cell": {
     "cellMetadata": {
      "byteLimit": 2048000,
      "rowLimit": 10000
     },
     "inputWidgets": {},
     "nuid": "5f5baedf-abff-49b9-9002-f255e082551e",
     "showTitle": false,
     "tableResultSettingsMap": {},
     "title": ""
    }
   },
   "outputs": [],
   "source": [
    "best_model = XGBClassifier(**study.best_params)\n",
    "best_model.fit(X_train, y_train, eval_set=[(X_valid, y_valid)], verbose=False)\n",
    "\n",
    "with mlflow.start_run(run_name=\"final_best_model\"):\n",
    "    mlflow.log_params(study.best_params)\n",
    "    mlflow.sklearn.log_model(best_model, \"final_model\")"
   ]
  },
  {
   "cell_type": "markdown",
   "metadata": {
    "application/vnd.databricks.v1+cell": {
     "cellMetadata": {
      "byteLimit": 2048000,
      "rowLimit": 10000
     },
     "inputWidgets": {},
     "nuid": "336a1e5e-b149-4b35-b47b-81765882f8c3",
     "showTitle": false,
     "tableResultSettingsMap": {},
     "title": ""
    }
   },
   "source": [
    "# 5. 한계"
   ]
  },
  {
   "cell_type": "markdown",
   "metadata": {
    "application/vnd.databricks.v1+cell": {
     "cellMetadata": {
      "byteLimit": 2048000,
      "rowLimit": 10000
     },
     "inputWidgets": {},
     "nuid": "a15903bf-26d8-4ccb-bc6e-02739385b5a4",
     "showTitle": false,
     "tableResultSettingsMap": {},
     "title": ""
    }
   },
   "source": [
    "## 5-1. 안 본 영화 중에서 추천(rating 있다면 본 영화로 판단)"
   ]
  },
  {
   "cell_type": "code",
   "execution_count": 0,
   "metadata": {
    "application/vnd.databricks.v1+cell": {
     "cellMetadata": {
      "byteLimit": 2048000,
      "rowLimit": 10000
     },
     "inputWidgets": {},
     "nuid": "03fed727-1895-43aa-85a1-83e5a09c2920",
     "showTitle": false,
     "tableResultSettingsMap": {},
     "title": ""
    }
   },
   "outputs": [],
   "source": [
    "from pyspark.sql.functions import collect_set\n",
    "\n",
    "# 1. 사용자별 이미 본 영화(movieIndex) 집합 생성 (train + valid + test 혹은 전체 학습 데이터에서)\n",
    "# 보통은 train_df, valid_df에 있는 user-movie pairs가 '본 영화'임\n",
    "seen_movies_df = train_df.select(\"userIndex\", \"movieIndex\") \\\n",
    "    .union(valid_df.select(\"userIndex\", \"movieIndex\")) \\\n",
    "    .distinct() \\\n",
    "    .groupBy(\"userIndex\") \\\n",
    "    .agg(collect_set(\"movieIndex\").alias(\"seen_movies\"))\n",
    "\n",
    "# 2. test_pred와 join해서 이미 본 영화 제외\n",
    "test_pred_filtered = test_pred.join(seen_movies_df, on=\"userIndex\", how=\"left_outer\")\n",
    "\n",
    "# 3. 이미 본 영화 제외 조건 추가 (seen_movies가 null일 수도 있으니 null-safe 처리)\n",
    "from pyspark.sql.functions import array_contains\n",
    "\n",
    "test_pred_filtered = test_pred_filtered.filter(\n",
    "    (col(\"seen_movies\").isNull()) | (~array_contains(col(\"seen_movies\"), col(\"movieIndex\")))\n",
    ")\n",
    "\n",
    "# 4. 사용자별 추천 상위 K개 추출\n",
    "window_spec = Window.partitionBy(\"userIndex\").orderBy(col(\"y_pred_prob\").desc())\n",
    "\n",
    "ranked = test_pred_filtered.withColumn(\"rank\", row_number().over(window_spec)) \\\n",
    "                           .filter(col(\"rank\") <= K)\n",
    "\n",
    "ranked = ranked.withColumn(\"recommendation\", struct(col(\"movieIndex\").alias(\"movieId\"), col(\"y_pred_prob\").alias(\"pred_rating\")))\n",
    "\n",
    "recommendations = ranked.groupBy(\"userIndex\") \\\n",
    "                        .agg(collect_list(\"recommendation\").alias(\"recommendations\")) \\\n",
    "                        .orderBy(\"userIndex\")\n",
    "\n",
    "display(recommendations)"
   ]
  },
  {
   "cell_type": "markdown",
   "metadata": {
    "application/vnd.databricks.v1+cell": {
     "cellMetadata": {
      "byteLimit": 2048000,
      "rowLimit": 10000
     },
     "inputWidgets": {},
     "nuid": "c358f4c5-fd3b-4f32-ba22-5d9de4da1e48",
     "showTitle": false,
     "tableResultSettingsMap": {},
     "title": ""
    }
   },
   "source": [
    "## 5-2. 추가 User가 들어왔을때 어떤 영화를 추천할지"
   ]
  },
  {
   "cell_type": "markdown",
   "metadata": {
    "application/vnd.databricks.v1+cell": {
     "cellMetadata": {
      "byteLimit": 2048000,
      "rowLimit": 10000
     },
     "inputWidgets": {},
     "nuid": "3718f019-6ea2-41ec-8933-43a29bdeadd0",
     "showTitle": false,
     "tableResultSettingsMap": {},
     "title": ""
    }
   },
   "source": [
    "1. 신규유저에 영화정보를 바탕으로 기존유저와 매칭\n",
    "\n",
    "2. 새로운 user_index 추천하지 않음(새로 학습해야함) - 현재 모델에서 user_index가 중요한 역할/ 처음 보는 User_index보고 엉뚱한 예측할 확률 높음"
   ]
  },
  {
   "cell_type": "markdown",
   "metadata": {
    "application/vnd.databricks.v1+cell": {
     "cellMetadata": {
      "byteLimit": 2048000,
      "rowLimit": 10000
     },
     "inputWidgets": {},
     "nuid": "3fee224e-92a9-4de2-ac4f-75235d197416",
     "showTitle": false,
     "tableResultSettingsMap": {},
     "title": ""
    }
   },
   "source": [
    "1. Cold Start 유저 처리\n",
    "신규 유저:\n",
    "\n",
    "A안: userIndex 제거한 일반 모델로 추천 제공 (장르, 평균 평점 기반)\n",
    "\n",
    "B안: 기존 유저와 유사도 기반으로 매칭 → 그 유저의 추천을 가져옴 (collaborative filtering 유사)\n",
    "\n",
    "2. 데이터 업데이트 및 재학습\n",
    "신규 rating이 수집되면 데이터에 추가\n",
    "\n",
    "일정 주기 (일간/주간 등)에 따라 모델 재학습\n",
    "\n",
    "재학습된 모델은 최신화된 추천 반영 가능\n",
    "\n"
   ]
  },
  {
   "cell_type": "markdown",
   "metadata": {
    "application/vnd.databricks.v1+cell": {
     "cellMetadata": {
      "byteLimit": 2048000,
      "rowLimit": 10000
     },
     "inputWidgets": {},
     "nuid": "c2ebbe93-2b8f-4de8-890e-c215532cc734",
     "showTitle": false,
     "tableResultSettingsMap": {},
     "title": ""
    }
   },
   "source": [
    "1. 시청 영화 바탕으로 유사한 기존 유저 indexr를 찾고,\n",
    "2. 그 indexr와 시청 영화 바탕으로 추천 영화 예측"
   ]
  },
  {
   "cell_type": "code",
   "execution_count": 0,
   "metadata": {
    "application/vnd.databricks.v1+cell": {
     "cellMetadata": {
      "byteLimit": 2048000,
      "rowLimit": 10000
     },
     "inputWidgets": {},
     "nuid": "c576c02a-1857-4abe-9e70-7b940939a29e",
     "showTitle": false,
     "tableResultSettingsMap": {},
     "title": ""
    }
   },
   "outputs": [],
   "source": [
    "# Step 1. 신규 유저가 본 영화 리스트\n",
    "new_user_seen_movies = [1, 10, 50, 300]\n",
    "new_user_set = set(new_user_seen_movies)\n",
    "\n",
    "# Step 2. 기존 유저별 시청 영화 집합 생성\n",
    "user_movie_sets = ratings.groupBy(\"userId\").agg(collect_set(\"movieId\").alias(\"movie_set\"))\n",
    "\n",
    "# Step 3. Jaccard 유사도 계산\n",
    "def jaccard_similarity(set1, set2):\n",
    "    set1, set2 = set(set1), set(set2)\n",
    "    intersection = len(set1.intersection(set2))\n",
    "    union = len(set1.union(set2))\n",
    "    return float(intersection) / union if union != 0 else 0.0\n",
    "\n",
    "jaccard_udf = udf(lambda x: jaccard_similarity(new_user_set, x), DoubleType())\n",
    "\n",
    "similar_users = user_movie_sets.withColumn(\"jaccard_sim\", jaccard_udf(col(\"movie_set\"))) \\\n",
    "                               .orderBy(desc(\"jaccard_sim\")) \\\n",
    "                               .limit(1)\n",
    "\n",
    "# Step 4. 유사한 기존 유저의 userId 및 userIndex 추출\n",
    "top_user_id = similar_users.select(\"userId\").first()[\"userId\"]\n",
    "top_user_index = user_indexer_model.transform(\n",
    "    spark.createDataFrame([(top_user_id,)], [\"userId\"])\n",
    ").select(\"userIndex\").first()[\"userIndex\"]"
   ]
  },
  {
   "cell_type": "code",
   "execution_count": 0,
   "metadata": {
    "application/vnd.databricks.v1+cell": {
     "cellMetadata": {
      "byteLimit": 2048000,
      "rowLimit": 10000
     },
     "inputWidgets": {},
     "nuid": "74601779-6f8e-4c38-a3be-74da9af315aa",
     "showTitle": false,
     "tableResultSettingsMap": {},
     "title": ""
    }
   },
   "outputs": [],
   "source": [
    "# Step 5. 전체 영화 목록에서, 신규 유저가 보지 않은 영화만 필터링\n",
    "unseen_movies = df_cleaned.filter(~col(\"movieId\").isin(new_user_seen_movies))\n",
    "\n",
    "# Step 6. 추천 후보 영화들에 대해 movieIndex, features 등 변환 수행\n",
    "unseen_with_features = pipeline_model.transform(unseen_movies)\n",
    "\n",
    "# Step 7. 해당 유사 유저 index를 모든 row에 추가\n",
    "unseen_with_features = unseen_with_features.withColumn(\"userIndex\", lit(top_user_index))\n",
    "\n",
    "unseen_unique = unseen_with_features.dropDuplicates([\"movieId\"])\n",
    "\n",
    "# Step 8. features 컬럼을 numpy 배열로 변환\n",
    "pdf_unseen = unseen_unique.select(\"features\", \"movieId\", \"title\").toPandas()\n",
    "X_unseen = np.vstack(pdf_unseen[\"features\"].apply(lambda x: x.toArray()))\n",
    "\n",
    "# Step 9. 모델 예측 (regressor라 predict_proba 아님, predict 사용)\n",
    "y_pred = model.predict_proba(X_unseen)[:,1]\n",
    "\n",
    "# Step 10. 예측 결과를 DataFrame에 추가\n",
    "pdf_unseen[\"prediction\"] = y_pred\n",
    "\n",
    "# Step 11. 상위 K개 추천\n",
    "top_k = pdf_unseen.sort_values(by=\"prediction\", ascending=False).head(10)\n",
    "\n",
    "# 출력\n",
    "print(top_k[[\"movieId\", \"title\", \"prediction\"]])"
   ]
  }
 ],
 "metadata": {
  "application/vnd.databricks.v1+notebook": {
   "computePreferences": null,
   "dashboards": [],
   "environmentMetadata": {
    "base_environment": "",
    "environment_version": "2"
   },
   "inputWidgetPreferences": null,
   "language": "python",
   "notebookMetadata": {
    "mostRecentlyExecutedCommandWithImplicitDF": {
     "commandId": 7760516635777470,
     "dataframes": [
      "_sqldf"
     ]
    },
    "pythonIndentUnit": 4
   },
   "notebookName": "(Clone) (Clone) 1. 전체 XGboost_imdb",
   "widgets": {}
  },
  "language_info": {
   "name": "python"
  }
 },
 "nbformat": 4,
 "nbformat_minor": 0
}
