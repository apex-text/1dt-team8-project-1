{
 "cells": [
  {
   "cell_type": "markdown",
   "metadata": {
    "application/vnd.databricks.v1+cell": {
     "cellMetadata": {},
     "inputWidgets": {},
     "nuid": "a3f28631-32a7-467e-bb84-362eae5b19a4",
     "showTitle": false,
     "tableResultSettingsMap": {},
     "title": ""
    }
   },
   "source": [
    "## 1. 군집화 기반 사용자 영화추천"
   ]
  },
  {
   "cell_type": "code",
   "execution_count": 0,
   "metadata": {
    "application/vnd.databricks.v1+cell": {
     "cellMetadata": {},
     "inputWidgets": {},
     "nuid": "66856272-6b6a-49ec-ab5c-62da4935fa96",
     "showTitle": false,
     "tableResultSettingsMap": {},
     "title": ""
    },
    "jupyter": {
     "outputs_hidden": true
    }
   },
   "outputs": [],
   "source": [
    "\n",
    "┌──────────────────────┐\n",
    "│ 1. 데이터 로딩        │\n",
    "│ - movies.csv         │\n",
    "│ - ratings.csv        │\n",
    "└─────────┬────────────┘\n",
    "          │\n",
    "          ▼\n",
    "┌──────────────────────────────────────┐\n",
    "│ 2. 장르 전처리                        │\n",
    "│ - 장르 explode 및 원-핫 인코딩         │\n",
    "└─────────┬────────────────────────────┘\n",
    "          │\n",
    "          ▼\n",
    "┌──────────────────────────────────────┐\n",
    "│ 3. 사용자 장르 선호도 벡터화           │\n",
    "│ - 장르 x 평점 → 사용자 프로파일 생성    │\n",
    "└─────────┬────────────────────────────┘\n",
    "          │\n",
    "          ▼\n",
    "┌────────────────────────────┐\n",
    "│ 4. 사용자 벡터 → features   │\n",
    "│ - VectorAssembler 사용     │\n",
    "└─────────┬──────────────────┘\n",
    "          │\n",
    "          ▼\n",
    "┌────────────────────────────┐\n",
    "│ 5. KMeans 군집화            │\n",
    "│ - 사용자 군집 분류           │\n",
    "└─────────┬──────────────────┘\n",
    "          │\n",
    "          ▼\n",
    "┌────────────────────────────────────┐\n",
    "│ 6. 클러스터 내 영화 평균 평점 계산    │\n",
    "│ - 각 군집 내 인기 영화 파악          │\n",
    "└─────────┬──────────────────────────┘\n",
    "          │\n",
    "          ▼\n",
    "┌─────────────────────────────────────┐\n",
    "│ 7. 특정 사용자에게 추천 수행          │\n",
    "│ - 같은 클러스터 + 안 본 영화          │\n",
    "│ - 평균 평점 기반 상위 N개 추천        │\n",
    "└─────────┬───────────────────────────┘\n",
    "          │\n",
    "          ▼\n",
    "┌─────────────────────────────────────┐\n",
    "│ 8. 추천 결과 출력                    │\n",
    "│ - movieId, title, genres, avg_rating│\n",
    "└─────────────────────────────────────┘\n"
   ]
  },
  {
   "cell_type": "code",
   "execution_count": 0,
   "metadata": {
    "application/vnd.databricks.v1+cell": {
     "cellMetadata": {
      "byteLimit": 2048000,
      "rowLimit": 10000
     },
     "inputWidgets": {},
     "nuid": "7c2328a1-ea33-47d4-ad69-a1b704a55b5a",
     "showTitle": false,
     "tableResultSettingsMap": {},
     "title": ""
    }
   },
   "outputs": [],
   "source": [
    "from pyspark.sql.functions import col, split, explode, avg, when, max, row_number\n",
    "from pyspark.ml.feature import VectorAssembler\n",
    "from pyspark.ml.clustering import KMeans\n",
    "from pyspark.sql.window import Window\n",
    "\n",
    "def recommend_movies_by_user(userId: int):\n",
    "    catalog = \"1dt_team8_databricks\"\n",
    "    schema = \"final\"\n",
    "    path = f\"{catalog}.{schema}\"\n",
    "    \n",
    "    # 1. 데이터 불러오기 (Unity Catalog 경로로 수정)\n",
    "    df1 = spark.read.table(f\"{path}.movies\")\n",
    "    df2 = spark.read.table(f\"{path}.links\")      # 현재 코드에서는 df2 사용 안됨 (필요 시 사용)\n",
    "    df3 = spark.read.table(f\"{path}.ratings\")\n",
    "    df4 = spark.read.table(f\"{path}.tags\")       # 현재 코드에서는 df4 사용 안됨 (필요 시 사용)\n",
    "\n",
    "    # 2. 영화 장르 전처리\n",
    "    movies_with_genres = df1.withColumn(\"genre\", explode(split(\"genres\", \"\\\\|\")))\n",
    "    distinct_genres = movies_with_genres.select(\"genre\").distinct().rdd.flatMap(lambda x: x).collect()\n",
    "\n",
    "    for genre in distinct_genres:\n",
    "        movies_with_genres = movies_with_genres.withColumn(\n",
    "            f\"genre_{genre}\",\n",
    "            when(col(\"genre\") == genre, 1).otherwise(0)\n",
    "        )\n",
    "\n",
    "    genre_features = movies_with_genres.groupBy(\"movieId\").agg(\n",
    "        *[max(f\"genre_{genre}\").alias(f\"genre_{genre}\") for genre in distinct_genres]\n",
    "    )\n",
    "\n",
    "    # 3. 사용자-장르 선호도 계산\n",
    "    ratings_with_genres = df3.join(genre_features, on=\"movieId\", how=\"inner\")\n",
    "\n",
    "    user_profile = ratings_with_genres.groupBy(\"userId\").agg(\n",
    "        *[avg(f\"genre_{genre}\").alias(f\"pref_{genre}\") for genre in distinct_genres]\n",
    "    )\n",
    "\n",
    "    # 4. 벡터화 및 클러스터링\n",
    "    feature_cols = [c for c in user_profile.columns if c.startswith(\"pref_\")]\n",
    "    assembler = VectorAssembler(inputCols=feature_cols, outputCol=\"features\")\n",
    "    user_features = assembler.transform(user_profile)\n",
    "\n",
    "    kmeans = KMeans(k=5, seed=42)\n",
    "    model = kmeans.fit(user_features)\n",
    "\n",
    "    user_clusters = model.transform(user_features).select(\"userId\", \"prediction\")\n",
    "    ratings_with_cluster = df3.join(user_clusters, on=\"userId\")\n",
    "    movie_avg_by_cluster = ratings_with_cluster.groupBy(\"prediction\", \"movieId\") \\\n",
    "        .agg(avg(\"rating\").alias(\"avg_rating\"))\n",
    "\n",
    "    movie_avg_with_titles = movie_avg_by_cluster.join(df1.select(\"movieId\", \"title\", \"genres\"), on=\"movieId\")\n",
    "\n",
    "    # 5. 추천 로직 실행\n",
    "    user_seen_movies = df3.filter(col(\"userId\") == userId).select(\"movieId\").distinct()\n",
    "    user_cluster = user_clusters.filter(col(\"userId\") == userId).select(\"prediction\").collect()[0][0]\n",
    "\n",
    "    recommend_pool = movie_avg_with_titles.filter(col(\"prediction\") == user_cluster)\n",
    "    recommend_pool_unseen = recommend_pool.join(user_seen_movies, on=\"movieId\", how=\"left_anti\")\n",
    "\n",
    "    top_recommendations = recommend_pool_unseen \\\n",
    "        .filter(col(\"genres\") != \"(no genres listed)\") \\\n",
    "        .orderBy(col(\"avg_rating\").desc()) \\\n",
    "        .limit(10) \\\n",
    "        .select(\"movieId\")\n",
    "\n",
    "    # 6. index 추가 및 결과 출력\n",
    "    indexed = top_recommendations.withColumn(\n",
    "        \"index\", row_number().over(Window.orderBy(col(\"movieId\"))) - 1\n",
    "    ).select(\"index\", \"movieId\")\n",
    "\n",
    "    display(indexed)\n"
   ]
  },
  {
   "cell_type": "code",
   "execution_count": 0,
   "metadata": {
    "application/vnd.databricks.v1+cell": {
     "cellMetadata": {
      "byteLimit": 2048000,
      "rowLimit": 10000
     },
     "inputWidgets": {},
     "nuid": "b720df41-6bc1-41ae-b6cb-e07f80b2961d",
     "showTitle": false,
     "tableResultSettingsMap": {},
     "title": ""
    }
   },
   "outputs": [],
   "source": [
    "recommend_movies_by_user(2)"
   ]
  },
  {
   "cell_type": "markdown",
   "metadata": {
    "application/vnd.databricks.v1+cell": {
     "cellMetadata": {},
     "inputWidgets": {},
     "nuid": "0e6db313-bf1e-486f-8877-33f9ac9d1f22",
     "showTitle": false,
     "tableResultSettingsMap": {},
     "title": ""
    }
   },
   "source": [
    "## ML Flow 사용"
   ]
  },
  {
   "cell_type": "code",
   "execution_count": 0,
   "metadata": {
    "application/vnd.databricks.v1+cell": {
     "cellMetadata": {
      "byteLimit": 2048000,
      "rowLimit": 10000
     },
     "inputWidgets": {},
     "nuid": "56f77b1c-f594-480d-9007-0db3c9100ae0",
     "showTitle": false,
     "tableResultSettingsMap": {},
     "title": ""
    }
   },
   "outputs": [],
   "source": [
    "import mlflow\n",
    "import mlflow.spark\n",
    "from pyspark.ml.feature import VectorAssembler\n",
    "from pyspark.ml.clustering import KMeans\n",
    "\n",
    "def run_kmeans_with_mlflow(user_profile_df, k=5, seed=42):\n",
    "    # ✅ MLflow 실험 위치 설정\n",
    "    mlflow.set_experiment(\"/Users/1dt011@msacademy.msai.kr/1dt011\")\n",
    "\n",
    "    feature_cols = [col for col in user_profile_df.columns if col.startswith(\"pref_\")]\n",
    "    assembler = VectorAssembler(inputCols=feature_cols, outputCol=\"features\")\n",
    "    user_features = assembler.transform(user_profile_df)\n",
    "\n",
    "    with mlflow.start_run(run_name=\"KMeans_User_Clustering\"):\n",
    "        mlflow.log_param(\"k\", k)\n",
    "        mlflow.log_param(\"seed\", seed)\n",
    "\n",
    "        kmeans = KMeans(k=k, seed=seed)\n",
    "        model = kmeans.fit(user_features)\n",
    "\n",
    "        # 클러스터링 비용(Within Set Sum of Squared Errors)\n",
    "        mlflow.log_metric(\"wsse\", model.summary.trainingCost)\n",
    "\n",
    "        # 모델 저장\n",
    "        mlflow.spark.log_model(model, \"kmeans_model\")\n",
    "\n",
    "        # userId와 클러스터 예측 결과만 반환\n",
    "        return model.transform(user_features).select(\"userId\", \"prediction\")\n"
   ]
  },
  {
   "cell_type": "code",
   "execution_count": 0,
   "metadata": {
    "application/vnd.databricks.v1+cell": {
     "cellMetadata": {
      "byteLimit": 2048000,
      "rowLimit": 10000
     },
     "inputWidgets": {},
     "nuid": "8ba48ee8-d895-4333-8538-002b0da00cde",
     "showTitle": false,
     "tableResultSettingsMap": {},
     "title": ""
    }
   },
   "outputs": [],
   "source": [
    "from pyspark.sql.functions import col, split, explode, avg\n",
    "\n",
    "# 1. 데이터 불러오기\n",
    "movies_df = spark.read.table(\"`1dt_team8_databricks`.`movielens-small`.movies\")\n",
    "ratings_df = spark.read.table(\"`1dt_team8_databricks`.`movielens-small`.ratings\")\n",
    "\n",
    "# 2. 타입 변환\n",
    "ratings_df = ratings_df.withColumn(\"movieId\", col(\"movieId\").cast(\"int\")) \\\n",
    "                       .withColumn(\"rating\", col(\"rating\").cast(\"float\")) \\\n",
    "                       .withColumn(\"userId\", col(\"userId\").cast(\"int\"))\n",
    "movies_df = movies_df.withColumn(\"movieId\", col(\"movieId\").cast(\"int\"))\n",
    "\n",
    "# 3. 장르 explode\n",
    "movie_genres = movies_df.withColumn(\"genre\", explode(split(col(\"genres\"), \"\\\\|\"))).select(\"movieId\", \"genre\")\n",
    "\n",
    "# 4. 평점과 장르 조인\n",
    "ratings_with_genre = ratings_df.join(movie_genres, on=\"movieId\", how=\"inner\")\n",
    "\n",
    "# 5. 사용자별 장르별 평균 평점 계산\n",
    "user_genre_pref = ratings_with_genre.groupBy(\"userId\", \"genre\").agg(avg(\"rating\").alias(\"avg_rating\"))\n",
    "\n",
    "# 6. Pivot 해서 wide format으로 변환\n",
    "user_profile_df = user_genre_pref.groupBy(\"userId\").pivot(\"genre\").agg(avg(\"avg_rating\"))\n",
    "\n",
    "# 7. Null 값을 0으로 대체 (평점이 없는 장르는 0으로 간주)\n",
    "user_profile_df = user_profile_df.fillna(0)\n",
    "\n",
    "# 8. 컬럼명에 'pref_' 접두어 붙이기 (userId 제외)\n",
    "for col_name in user_profile_df.columns:\n",
    "    if col_name != \"userId\":\n",
    "        user_profile_df = user_profile_df.withColumnRenamed(col_name, f\"pref_{col_name}\")\n",
    "\n",
    "# 9. 앞서 정의한 MLflow 로깅이 포함된 KMeans 함수 호출\n",
    "result_df = run_kmeans_with_mlflow(user_profile_df, k=5, seed=42)\n",
    "\n",
    "# 10. 결과 확인 (예시)\n",
    "display(result_df)\n"
   ]
  },
  {
   "cell_type": "markdown",
   "metadata": {
    "application/vnd.databricks.v1+cell": {
     "cellMetadata": {},
     "inputWidgets": {},
     "nuid": "7eb7afa0-3b2e-4f07-ab7e-98a9f5763c25",
     "showTitle": false,
     "tableResultSettingsMap": {},
     "title": ""
    }
   },
   "source": [
    "##평가지표_ Precision@10 , Recall@10"
   ]
  },
  {
   "cell_type": "code",
   "execution_count": 0,
   "metadata": {
    "application/vnd.databricks.v1+cell": {
     "cellMetadata": {
      "byteLimit": 2048000,
      "rowLimit": 10000
     },
     "inputWidgets": {},
     "nuid": "90bd26f5-de5c-4cb6-bfd4-9597273c7969",
     "showTitle": false,
     "tableResultSettingsMap": {},
     "title": ""
    }
   },
   "outputs": [],
   "source": [
    "%python\n",
    "from pyspark.sql.functions import col, split, explode, avg, when, max, row_number\n",
    "from pyspark.ml.feature import VectorAssembler\n",
    "from pyspark.ml.clustering import KMeans\n",
    "from pyspark.sql.window import Window\n",
    "\n",
    "def recommend_movies_by_user(userId: int):\n",
    "    # 1. 데이터 불러오기\n",
    "    df1 = spark.read.table(\"`1dt_team8_databricks`.`movielens-small`.movies\")\n",
    "    df2 = spark.read.table(\"`1dt_team8_databricks`.`movielens-small`.links\")\n",
    "    df3 = spark.read.table(\"`1dt_team8_databricks`.`movielens-small`.ratings\")\n",
    "    df4 = spark.read.table(\"`1dt_team8_databricks`.`movielens-small`.tags\") \n",
    "\n",
    "    # 2. 영화 장르 전처리\n",
    "    movies_with_genres = df1.withColumn(\"genre\", explode(split(\"genres\", \"\\\\|\")))\n",
    "    distinct_genres = movies_with_genres.select(\"genre\").distinct().rdd.flatMap(lambda x: x).collect()\n",
    "\n",
    "    for genre in distinct_genres:\n",
    "        movies_with_genres = movies_with_genres.withColumn(\n",
    "            f\"genre_{genre}\",\n",
    "            when(col(\"genre\") == genre, 1).otherwise(0)\n",
    "        )\n",
    "\n",
    "    genre_features = movies_with_genres.groupBy(\"movieId\").agg(\n",
    "        *[max(f\"genre_{genre}\").alias(f\"genre_{genre}\") for genre in distinct_genres]\n",
    "    )\n",
    "\n",
    "    # 3. 사용자-장르 선호도 계산\n",
    "    ratings_with_genres = df3.join(genre_features, on=\"movieId\", how=\"inner\")\n",
    "\n",
    "    user_profile = ratings_with_genres.groupBy(\"userId\").agg(\n",
    "        *[avg(f\"genre_{genre}\").alias(f\"pref_{genre}\") for genre in distinct_genres]\n",
    "    )\n",
    "\n",
    "    # 4. 벡터화 및 클러스터링\n",
    "    feature_cols = [col for col in user_profile.columns if col.startswith(\"pref_\")]\n",
    "    assembler = VectorAssembler(inputCols=feature_cols, outputCol=\"features\")\n",
    "    user_features = assembler.transform(user_profile)\n",
    "\n",
    "    kmeans = KMeans(k=5, seed=42)\n",
    "    model = kmeans.fit(user_features)\n",
    "\n",
    "    user_clusters = model.transform(user_features).select(\"userId\", \"prediction\")\n",
    "    ratings_with_cluster = df3.join(user_clusters, on=\"userId\")\n",
    "    movie_avg_by_cluster = ratings_with_cluster.groupBy(\"prediction\", \"movieId\") \\\n",
    "        .agg(avg(\"rating\").alias(\"avg_rating\"))\n",
    "\n",
    "    movie_avg_with_titles = movie_avg_by_cluster.join(df1.select(\"movieId\", \"title\", \"genres\"), on=\"movieId\")\n",
    "\n",
    "    # 5. 추천 로직 실행\n",
    "    user_seen_movies = df3.filter(col(\"userId\") == userId).select(\"movieId\").distinct()\n",
    "    user_cluster = user_clusters.filter(col(\"userId\") == userId).select(\"prediction\").collect()[0][0]\n",
    "\n",
    "    recommend_pool = movie_avg_with_titles.filter(col(\"prediction\") == user_cluster)\n",
    "    recommend_pool_unseen = recommend_pool.join(user_seen_movies, on=\"movieId\", how=\"left_anti\")\n",
    "\n",
    "    top_recommendations = recommend_pool_unseen \\\n",
    "        .filter(col(\"genres\") != \"(no genres listed)\") \\\n",
    "        .orderBy(col(\"avg_rating\").desc()) \\\n",
    "        .limit(10) \\\n",
    "        .select(\"movieId\")\n",
    "\n",
    "    # 6. index 추가 및 결과 출력\n",
    "    indexed = top_recommendations.withColumn(\n",
    "        \"index\", row_number().over(Window.orderBy(col(\"movieId\"))) - 1\n",
    "    ).select(\"index\", \"movieId\")\n",
    "\n",
    "\n",
    "def evaluate_precision_recall_at_10(userId: int):\n",
    "    # Ensure recommend_movies_by_user returns a DataFrame\n",
    "    recommended_movies = recommend_movies_by_user(userId)\n",
    "    if recommended_movies is not None:\n",
    "        recommended_movies = recommended_movies.select(\"movieId\").limit(10)\n",
    "    else:\n",
    "        raise ValueError(f\"No recommendations found for userId: {userId}\")\n",
    "\n",
    "    # Actual movies liked by the user (rating 4.0 or higher)\n",
    "    relevant_movies = df3.filter(\n",
    "        (col(\"userId\") == userId) & (col(\"rating\") >= 4.0)\n",
    "    ).select(\"movieId\").distinct()\n",
    "\n",
    "    # Calculate precision and recall\n",
    "    true_positives = recommended_movies.join(relevant_movies, \"movieId\").count()\n",
    "    precision = true_positives / recommended_movies.count()\n",
    "    recall = true_positives / relevant_movies.count()\n",
    "\n",
    "    return precision, recall"
   ]
  },
  {
   "cell_type": "code",
   "execution_count": 0,
   "metadata": {
    "application/vnd.databricks.v1+cell": {
     "cellMetadata": {
      "byteLimit": 2048000,
      "rowLimit": 10000
     },
     "inputWidgets": {},
     "nuid": "85dab230-fbd6-4fbb-a246-bbf5dae6c163",
     "showTitle": false,
     "tableResultSettingsMap": {},
     "title": ""
    }
   },
   "outputs": [],
   "source": [
    "evaluate_precision_recall_at_10(26)"
   ]
  },
  {
   "cell_type": "code",
   "execution_count": 0,
   "metadata": {
    "application/vnd.databricks.v1+cell": {
     "cellMetadata": {
      "byteLimit": 2048000,
      "rowLimit": 10000
     },
     "inputWidgets": {},
     "nuid": "6aaea570-2653-4fa9-a32e-6b4beb0605a0",
     "showTitle": false,
     "tableResultSettingsMap": {},
     "title": ""
    }
   },
   "outputs": [],
   "source": [
    "from pyspark.sql.functions import col, split, explode, avg, when, max, row_number\n",
    "from pyspark.ml.feature import VectorAssembler\n",
    "from pyspark.ml.clustering import KMeans\n",
    "from pyspark.sql.window import Window\n",
    "import pandas as pd\n",
    "\n",
    "# 1. 데이터 로딩 (이미 로딩되었다고 가정)\n",
    "# train, validation, test = ...\n",
    "\n",
    "# 2. 추천 함수 (train 데이터 기반)\n",
    "def recommend_movies_by_user_return_df(userId: int):\n",
    "    # 영화, 장르 데이터 로드\n",
    "    df_movies = spark.read.table(\"`1dt_team8_databricks`.`movielens-small`.movies\")\n",
    "    \n",
    "    # 장르 explode\n",
    "    movies_with_genres = df_movies.withColumn(\"genre\", explode(split(\"genres\", \"\\\\|\")))\n",
    "    distinct_genres = movies_with_genres.select(\"genre\").distinct().rdd.flatMap(lambda x: x).collect()\n",
    "\n",
    "    for genre in distinct_genres:\n",
    "        movies_with_genres = movies_with_genres.withColumn(\n",
    "            f\"genre_{genre}\",\n",
    "            when(col(\"genre\") == genre, 1).otherwise(0)\n",
    "        )\n",
    "    genre_features = movies_with_genres.groupBy(\"movieId\").agg(\n",
    "        *[max(f\"genre_{genre}\").alias(f\"genre_{genre}\") for genre in distinct_genres]\n",
    "    )\n",
    "    \n",
    "    # train 데이터로 유저-장르 선호도 계산\n",
    "    ratings_with_genres = train.join(genre_features, on=\"movieId\", how=\"inner\")\n",
    "    \n",
    "    user_profile = ratings_with_genres.groupBy(\"userId\").agg(\n",
    "        *[avg(f\"genre_{genre}\").alias(f\"pref_{genre}\") for genre in distinct_genres]\n",
    "    )\n",
    "    \n",
    "    assembler = VectorAssembler(inputCols=[c for c in user_profile.columns if c.startswith(\"pref_\")], outputCol=\"features\")\n",
    "    user_features = assembler.transform(user_profile)\n",
    "    \n",
    "    kmeans = KMeans(k=5, seed=42)\n",
    "    model = kmeans.fit(user_features)\n",
    "    \n",
    "    user_clusters = model.transform(user_features).select(\"userId\", \"prediction\")\n",
    "    \n",
    "    ratings_with_cluster = train.join(user_clusters, on=\"userId\")\n",
    "    movie_avg_by_cluster = ratings_with_cluster.groupBy(\"prediction\", \"movieId\").agg(avg(\"rating\").alias(\"avg_rating\"))\n",
    "    \n",
    "    movie_avg_with_titles = movie_avg_by_cluster.join(df_movies.select(\"movieId\", \"title\", \"genres\"), on=\"movieId\")\n",
    "    \n",
    "    # user가 이미 본 영화 필터링 (train 기준)\n",
    "    user_seen_movies = train.filter(col(\"userId\") == userId).select(\"movieId\").distinct()\n",
    "    \n",
    "    cluster_row = user_clusters.filter(col(\"userId\") == userId).collect()\n",
    "    if not cluster_row:\n",
    "        return None\n",
    "    user_cluster = cluster_row[0][\"prediction\"]\n",
    "    \n",
    "    recommend_pool = movie_avg_with_titles.filter(col(\"prediction\") == user_cluster)\n",
    "    recommend_pool_unseen = recommend_pool.join(user_seen_movies, on=\"movieId\", how=\"left_anti\")\n",
    "    \n",
    "    top_recommendations = recommend_pool_unseen \\\n",
    "        .filter(col(\"genres\") != \"(no genres listed)\") \\\n",
    "        .orderBy(col(\"avg_rating\").desc()) \\\n",
    "        .limit(10) \\\n",
    "        .select(\"movieId\")\n",
    "    \n",
    "    return top_recommendations\n",
    "\n",
    "# 3. 평가지표 함수 (validation 또는 test 기준 실제 평점과 비교)\n",
    "def evaluate_precision_recall_safe(userId: int, top_k: int = 10):\n",
    "    try:\n",
    "        rec_df = recommend_movies_by_user_return_df(userId)\n",
    "    except Exception:\n",
    "        return {\"userId\": userId, \"precision\": 0.0, \"recall\": 0.0}\n",
    "    \n",
    "    if rec_df is None or rec_df.count() == 0:\n",
    "        return {\"userId\": userId, \"precision\": 0.0, \"recall\": 0.0}\n",
    "    \n",
    "    predicted = rec_df.select(\"movieId\").rdd.flatMap(lambda x: x).collect()\n",
    "    \n",
    "    # validation 또는 test 데이터에서 rating >= 4.0인 실제 선호 영화 추출\n",
    "    actual_df = validation.filter((col(\"userId\") == userId) & (col(\"rating\") >= 4.0)).select(\"movieId\").distinct()\n",
    "    actual = actual_df.rdd.flatMap(lambda x: x).collect()\n",
    "    \n",
    "    if len(actual) == 0:\n",
    "        return {\"userId\": userId, \"precision\": 0.0, \"recall\": 0.0}\n",
    "    \n",
    "    intersection = set(predicted) & set(actual)\n",
    "    precision = len(intersection) / top_k\n",
    "    recall = len(intersection) / len(actual)\n",
    "    \n",
    "    return {\"userId\": userId, \"precision\": precision, \"recall\": recall}\n",
    "\n",
    "# 4. 평가 대상 사용자 선정 (validation 데이터 기준 rating 4점 이상 5개 이상)\n",
    "qualified_users_df = validation.filter(col(\"rating\") >= 4.0) \\\n",
    "    .groupBy(\"userId\") \\\n",
    "    .count() \\\n",
    "    .filter(\"count >= 5\") \\\n",
    "    .orderBy(\"count\", ascending=False)\n",
    "\n",
    "user_ids = [row[\"userId\"] for row in qualified_users_df.collect()]\n",
    "\n",
    "# 5. 평가 수행 (상위 30명 기준)\n",
    "results = [evaluate_precision_recall_safe(uid) for uid in user_ids[:30]]\n",
    "\n",
    "# 6. 평균 정밀도 및 재현율 계산 및 출력\n",
    "df_results = pd.DataFrame(results)\n",
    "avg_precision = df_results[\"precision\"].mean()\n",
    "avg_recall = df_results[\"recall\"].mean()\n",
    "\n",
    "print(f\"▶ 평균 Precision@10: {avg_precision:.4f}\")\n",
    "print(f\"▶ 평균 Recall@10: {avg_recall:.4f}\")\n"
   ]
  },
  {
   "cell_type": "code",
   "execution_count": 0,
   "metadata": {
    "application/vnd.databricks.v1+cell": {
     "cellMetadata": {},
     "inputWidgets": {},
     "nuid": "1cf772e5-0dda-467c-b3d0-73f10b068fae",
     "showTitle": false,
     "tableResultSettingsMap": {},
     "title": ""
    }
   },
   "outputs": [],
   "source": [
    "from pyspark.ml.recommendation import ALS\n",
    "from pyspark.sql.functions import col\n",
    "import pandas as pd\n",
    "\n",
    "# ALS 모델 학습 (train 데이터 사용)\n",
    "als = ALS(\n",
    "    userCol=\"userId\",\n",
    "    itemCol=\"movieId\",\n",
    "    ratingCol=\"rating\",\n",
    "    coldStartStrategy=\"drop\",  # 평가 시 null 제거\n",
    "    nonnegative=True,\n",
    "    implicitPrefs=False,\n",
    "    rank=10,\n",
    "    maxIter=10,\n",
    "    regParam=0.1,\n",
    "    seed=42\n",
    ")\n",
    "\n",
    "als_model = als.fit(train)\n",
    "\n",
    "# 사용자별 Top-N 추천 생성\n",
    "userRecs = als_model.recommendForAllUsers(10)\n",
    "\n",
    "# 평가 대상 사용자 추출 (validation 기준 rating 4 이상 5개 이상 본 유저)\n",
    "qualified_users_df = validation.filter(col(\"rating\") >= 4.0) \\\n",
    "    .groupBy(\"userId\").count() \\\n",
    "    .filter(\"count >= 5\") \\\n",
    "    .orderBy(\"count\", ascending=False)\n",
    "\n",
    "user_ids = [row[\"userId\"] for row in qualified_users_df.collect()][:30]\n",
    "\n",
    "# 평가지표 함수\n",
    "def evaluate_als_precision_recall(userId: int):\n",
    "    # 추천된 영화 리스트\n",
    "    rec_row = userRecs.filter(col(\"userId\") == userId).select(\"recommendations\").collect()\n",
    "    if not rec_row:\n",
    "        return {\"userId\": userId, \"precision\": 0.0, \"recall\": 0.0}\n",
    "    \n",
    "    predicted = [r.movieId for r in rec_row[0][\"recommendations\"]]\n",
    "\n",
    "    # 실제 좋아한 영화 리스트 (validation 기준 평점 4 이상)\n",
    "    actual = validation.filter((col(\"userId\") == userId) & (col(\"rating\") >= 4.0)) \\\n",
    "                       .select(\"movieId\").rdd.flatMap(lambda x: x).collect()\n",
    "    \n",
    "    if not actual:\n",
    "        return {\"userId\": userId, \"precision\": 0.0, \"recall\": 0.0}\n",
    "\n",
    "    intersection = set(predicted) & set(actual)\n",
    "    precision = len(intersection) / len(predicted)\n",
    "    recall = len(intersection) / len(actual)\n",
    "\n",
    "    return {\"userId\": userId, \"precision\": precision, \"recall\": recall}\n",
    "\n",
    "# 평가 실행\n",
    "results = [evaluate_als_precision_recall(uid) for uid in user_ids]\n",
    "\n",
    "# 평균 지표 계산\n",
    "df_results = pd.DataFrame(results)\n",
    "avg_precision = df_results[\"precision\"].mean()\n",
    "avg_recall = df_results[\"recall\"].mean()\n",
    "\n",
    "print(f\"▶ 평균 Precision@10: {avg_precision:.4f}\")\n",
    "print(f\"▶ 평균 Recall@10: {avg_recall:.4f}\")"
   ]
  },
  {
   "cell_type": "markdown",
   "metadata": {
    "application/vnd.databricks.v1+cell": {
     "cellMetadata": {},
     "inputWidgets": {},
     "nuid": "aefdd18e-9e71-461f-a236-ac65fb176d12",
     "showTitle": false,
     "tableResultSettingsMap": {},
     "title": ""
    }
   },
   "source": [
    "## 2. ALS 기반 사용자 영화 추천"
   ]
  },
  {
   "cell_type": "code",
   "execution_count": 0,
   "metadata": {
    "application/vnd.databricks.v1+cell": {
     "cellMetadata": {},
     "inputWidgets": {},
     "nuid": "da65b0c7-250d-4165-ad20-beae277c6dfe",
     "showTitle": false,
     "tableResultSettingsMap": {},
     "title": ""
    }
   },
   "outputs": [],
   "source": [
    "        [사용자]\n",
    "           │\n",
    "     ┌─────▼─────┐\n",
    "     │  설문 응답 │  ← 사용자의 취향(장르 등)\n",
    "     └─────┬─────┘\n",
    "           │\n",
    "     ┌─────▼────────────┐\n",
    "     │사용자 성향 벡터 생성│\n",
    "     └─────┬────────────┘\n",
    "           │\n",
    "           ▼\n",
    "[ 사용자 기반 추천 모델 ]  ← Cosine Similarity 등\n",
    "\n",
    "           ▲\n",
    "           │\n",
    "     ┌─────▼─────┐\n",
    "     │ 평점 데이터 │  ← ratings.csv\n",
    "     └─────┬─────┘\n",
    "           ▼\n",
    "   [ ALS 추천 모델 ]  ← Spark ML ALS\n",
    "\n",
    "           ▼\n",
    "  ┌────────┴────────┐\n",
    "  │ Hybrid 추천 조합│ ← 설문 기반 + ALS 기반 결합 (가중 평균 등)\n",
    "  └────────┬────────┘\n",
    "           ▼\n",
    "     [추천 영화 리스트]\n",
    "           ▼\n",
    "       [시각화/출력]\n"
   ]
  },
  {
   "cell_type": "code",
   "execution_count": 0,
   "metadata": {
    "application/vnd.databricks.v1+cell": {
     "cellMetadata": {
      "byteLimit": 2048000,
      "rowLimit": 10000
     },
     "inputWidgets": {},
     "nuid": "a142bcf4-ae13-493e-acc3-362fc0a30c4b",
     "showTitle": false,
     "tableResultSettingsMap": {},
     "title": ""
    }
   },
   "outputs": [],
   "source": [
    "from pyspark.ml.recommendation import ALS\n",
    "from pyspark.sql.functions import col, explode, row_number\n",
    "from pyspark.sql.window import Window\n",
    "\n",
    "# 1. Unity Catalog에서 데이터 불러오기\n",
    "catalog = \"1dt_team8_databricks\"\n",
    "schema = \"final\"\n",
    "base_path = f\"{catalog}.{schema}\"\n",
    "\n",
    "# 데이터셋 로딩\n",
    "train = spark.read.table(f\"{base_path}.train_df\")\n",
    "validation = spark.read.table(f\"{base_path}.validation_df\")\n",
    "test = spark.read.table(f\"{base_path}.test_df\")\n",
    "df_movies = spark.read.table(\"`1dt_team8_databricks`.`movielens-small`.movies\") \\\n",
    "                      .withColumn(\"movieId\", col(\"movieId\").cast(\"integer\"))\n",
    "\n",
    "# 2. ALS 모델 정의\n",
    "als = ALS(\n",
    "    userCol=\"userId\",\n",
    "    itemCol=\"movieId\",\n",
    "    ratingCol=\"rating\",\n",
    "    coldStartStrategy=\"drop\",\n",
    "    nonnegative=True\n",
    ")\n",
    "\n",
    "# 3. 모델 학습\n",
    "model = als.fit(train)\n",
    "\n",
    "# 4. 특정 사용자 추천 (예: userId 123)\n",
    "user_df = spark.createDataFrame([(123,)], [\"userId\"])\n",
    "userRecs = model.recommendForUserSubset(user_df, 10)\n",
    "\n",
    "# 5. 추천 결과 정리\n",
    "userRecsExploded = userRecs.select(\"userId\", explode(\"recommendations\").alias(\"rec\")) \\\n",
    "                            .select(\"userId\", col(\"rec.movieId\"), col(\"rec.rating\"))\n",
    "\n",
    "# 6. index 부여\n",
    "windowSpec = Window.orderBy(col(\"rating\").desc())\n",
    "indexedRecs = userRecsExploded.withColumn(\"index\", row_number().over(windowSpec) - 1) \\\n",
    "                              .select(\"index\", \"movieId\")\n",
    "\n",
    "# 7. 결과 출력\n",
    "display(indexedRecs)"
   ]
  },
  {
   "cell_type": "markdown",
   "metadata": {
    "application/vnd.databricks.v1+cell": {
     "cellMetadata": {},
     "inputWidgets": {},
     "nuid": "f5770d6f-9e29-4dd0-9bb4-26b7152a5218",
     "showTitle": false,
     "tableResultSettingsMap": {},
     "title": ""
    }
   },
   "source": [
    "## ML Flow 사용"
   ]
  },
  {
   "cell_type": "code",
   "execution_count": 0,
   "metadata": {
    "application/vnd.databricks.v1+cell": {
     "cellMetadata": {
      "byteLimit": 2048000,
      "rowLimit": 10000
     },
     "inputWidgets": {},
     "nuid": "5a6ca01c-9778-4ced-b332-ddc55a96bc0a",
     "showTitle": false,
     "tableResultSettingsMap": {},
     "title": ""
    }
   },
   "outputs": [],
   "source": [
    "%python\n",
    "import mlflow\n",
    "import mlflow.spark\n",
    "from pyspark.ml.evaluation import RegressionEvaluator\n",
    "from pyspark.ml.recommendation import ALS\n",
    "from pyspark.sql.functions import col\n",
    "\n",
    "# 0. 실험 설정\n",
    "mlflow.set_experiment('/Users/1dt011@msacademy.msai.kr/1dt011')\n",
    "\n",
    "# 1. 데이터 로딩 (Unity Catalog 사용)\n",
    "catalog = \"1dt_team8_databricks\"\n",
    "schema = \"final\"\n",
    "path = f\"{catalog}.{schema}\"\n",
    "\n",
    "train = spark.read.table(f\"{path}.train_df\")\n",
    "test = spark.read.table(f\"{path}.test_df\")\n",
    "df_movies = spark.read.table(\"`1dt_team8_databricks`.`movielens-small`.movies\") \\\n",
    "                      .withColumn(\"movieId\", col(\"movieId\").cast(\"integer\"))\n",
    "\n",
    "# 2. MLflow 실험 시작\n",
    "with mlflow.start_run(run_name=\"ALS-Recommender-UnityCatalog\"):\n",
    "\n",
    "    # 하이퍼파라미터\n",
    "    rank = 10\n",
    "    maxIter = 10\n",
    "    regParam = 0.1\n",
    "\n",
    "    # ALS 모델 정의 및 학습\n",
    "    als = ALS(\n",
    "        userCol=\"userId\", itemCol=\"movieId\", ratingCol=\"rating\",\n",
    "        rank=rank, maxIter=maxIter, regParam=regParam,\n",
    "        coldStartStrategy=\"drop\", nonnegative=True\n",
    "    )\n",
    "\n",
    "    model = als.fit(train)\n",
    "    predictions = model.transform(test)\n",
    "\n",
    "    # 평가 지표 계산\n",
    "    evaluator = RegressionEvaluator(metricName=\"rmse\", labelCol=\"rating\", predictionCol=\"prediction\")\n",
    "    rmse = evaluator.evaluate(predictions)\n",
    "\n",
    "    # MLflow 로깅\n",
    "    mlflow.log_param(\"rank\", rank)\n",
    "    mlflow.log_param(\"maxIter\", maxIter)\n",
    "    mlflow.log_param(\"regParam\", regParam)\n",
    "    mlflow.log_metric(\"rmse\", rmse)\n",
    "\n",
    "    # 모델 저장\n",
    "    mlflow.spark.log_model(model, \"als_model\")\n",
    "\n",
    "    print(f\"✅ MLflow Run Completed - RMSE: {rmse:.4f}\")\n"
   ]
  },
  {
   "cell_type": "markdown",
   "metadata": {
    "application/vnd.databricks.v1+cell": {
     "cellMetadata": {},
     "inputWidgets": {},
     "nuid": "c9c7095c-9e88-49ca-96a4-e0c2f5df2c86",
     "showTitle": false,
     "tableResultSettingsMap": {},
     "title": ""
    }
   },
   "source": [
    "## 평가지표_ Precision@10 , Recall@10"
   ]
  },
  {
   "cell_type": "code",
   "execution_count": 0,
   "metadata": {
    "application/vnd.databricks.v1+cell": {
     "cellMetadata": {
      "byteLimit": 2048000,
      "rowLimit": 10000
     },
     "inputWidgets": {},
     "nuid": "19014ba6-7887-4e28-9511-b357c06f43ab",
     "showTitle": false,
     "tableResultSettingsMap": {},
     "title": ""
    }
   },
   "outputs": [],
   "source": [
    "from pyspark.sql.functions import expr, collect_set, size, array_intersect\n",
    "from pyspark.ml.recommendation import ALS\n",
    "from pyspark.sql.functions import col, explode, row_number\n",
    "from pyspark.sql.window import Window\n",
    "\n",
    "# 1. Unity Catalog 데이터 불러오기\n",
    "catalog = \"1dt_team8_databricks\"\n",
    "schema = \"final\"\n",
    "path = f\"{catalog}.{schema}\"\n",
    "\n",
    "train = spark.read.table(f\"{path}.train_df\")\n",
    "test = spark.read.table(f\"{path}.test_df\")\n",
    "\n",
    "# 2. ALS 모델 정의\n",
    "als = ALS(\n",
    "    userCol=\"userId\", itemCol=\"movieId\", ratingCol=\"rating\",\n",
    "    coldStartStrategy=\"drop\", nonnegative=True\n",
    ")\n",
    "\n",
    "# 3. 모델 학습\n",
    "model = als.fit(train)\n",
    "\n",
    "# 4. 특정 사용자 추천 (userId 예: 123)\n",
    "user_df = spark.createDataFrame([(123,)], [\"userId\"])\n",
    "userRecs = model.recommendForUserSubset(user_df, 10)\n",
    "\n",
    "# 5. 추천 결과 정리\n",
    "userRecsExploded = userRecs.select(\"userId\", explode(\"recommendations\").alias(\"rec\")) \\\n",
    "                            .select(\"userId\", col(\"rec.movieId\"), col(\"rec.rating\"))\n",
    "\n",
    "# 순위(index) 부여\n",
    "windowSpec = Window.orderBy(col(\"rating\").desc())\n",
    "indexedRecs = userRecsExploded.withColumn(\"index\", row_number().over(windowSpec) - 1) \\\n",
    "                              .select(\"index\", \"movieId\")\n",
    "\n",
    "# 6. 결과 출력\n",
    "\n",
    "# -------------------------------------- #\n",
    "\n",
    "# 7. 테스트셋에서 긍정적 평가(예: rating >= 4.0)만 필터링하여 실제 정답 만들기\n",
    "positive_test = test.filter(col(\"rating\") >= 4.0) \\\n",
    "                    .groupBy(\"userId\") \\\n",
    "                    .agg(collect_set(\"movieId\").alias(\"true_items\"))\n",
    "\n",
    "# 8. 모든 사용자에 대해 추천 10개 생성\n",
    "userRecsAll = model.recommendForAllUsers(10)\n",
    "\n",
    "# 9. 추천 리스트에서 movieId만 추출\n",
    "predicted_items = userRecsAll.select(\"userId\", \n",
    "    expr(\"transform(recommendations, x -> x.movieId)\").alias(\"pred_items\")\n",
    ")\n",
    "\n",
    "# 10. 실제와 예측을 join\n",
    "joined = predicted_items.join(positive_test, on=\"userId\")\n",
    "\n",
    "# 11. Precision@10, Recall@10 계산\n",
    "metrics = joined.withColumn(\"num_relevant_and_recommended\", \n",
    "                                size(array_intersect(\"pred_items\", \"true_items\"))) \\\n",
    "                .withColumn(\"precision_at_10\", \n",
    "                                col(\"num_relevant_and_recommended\") / expr(\"size(pred_items)\")) \\\n",
    "                .withColumn(\"recall_at_10\", \n",
    "                                col(\"num_relevant_and_recommended\") / expr(\"size(true_items)\"))\n",
    "\n",
    "# 12. 평균 값 출력\n",
    "precision_recall = metrics.selectExpr(\"avg(precision_at_10) as avg_precision_at_10\", \n",
    "                                      \"avg(recall_at_10) as avg_recall_at_10\")\n",
    "\n",
    "# 결과 보기\n",
    "precision_recall.show()\n"
   ]
  },
  {
   "cell_type": "markdown",
   "metadata": {
    "application/vnd.databricks.v1+cell": {
     "cellMetadata": {},
     "inputWidgets": {},
     "nuid": "593c1a8e-bb2e-46fa-840b-91f4634222c0",
     "showTitle": false,
     "tableResultSettingsMap": {},
     "title": ""
    }
   },
   "source": []
  },
  {
   "cell_type": "code",
   "execution_count": 0,
   "metadata": {
    "application/vnd.databricks.v1+cell": {
     "cellMetadata": {},
     "inputWidgets": {},
     "nuid": "88a699bc-5b5a-4d4b-aed0-2ae48f8f6b7f",
     "showTitle": false,
     "tableResultSettingsMap": {},
     "title": ""
    }
   },
   "outputs": [],
   "source": []
  },
  {
   "cell_type": "code",
   "execution_count": 0,
   "metadata": {
    "application/vnd.databricks.v1+cell": {
     "cellMetadata": {
      "byteLimit": 2048000,
      "rowLimit": 10000
     },
     "inputWidgets": {},
     "nuid": "066de2c9-03c0-4ec7-8a92-8fa8525eb1fe",
     "showTitle": false,
     "tableResultSettingsMap": {},
     "title": ""
    }
   },
   "outputs": [],
   "source": [
    "from pyspark.ml.recommendation import ALS\n",
    "from pyspark.sql.functions import col, explode, row_number\n",
    "from pyspark.sql.window import Window\n",
    "\n",
    "# 1. Unity Catalog에서 데이터 불러오기\n",
    "catalog = \"1dt_team8_databricks\"\n",
    "schema = \"final\"\n",
    "base_path = f\"{catalog}.{schema}\"\n",
    "\n",
    "train = spark.read.table(f\"{base_path}.train_df\")\n",
    "validation = spark.read.table(f\"{base_path}.validation_df\")\n",
    "test = spark.read.table(f\"{base_path}.test_df\")\n",
    "\n",
    "df_movies = spark.read.table(\"`1dt_team8_databricks`.`movielens-small`.movies\") \\\n",
    "                      .withColumn(\"movieId\", col(\"movieId\").cast(\"integer\"))\n",
    "\n",
    "# 2. ALS 모델 정의 (개선된 하이퍼파라미터)\n",
    "als = ALS(\n",
    "    userCol=\"userId\",\n",
    "    itemCol=\"movieId\",\n",
    "    ratingCol=\"rating\",\n",
    "    coldStartStrategy=\"drop\",\n",
    "    nonnegative=True,\n",
    "    rank=50,\n",
    "    maxIter=15,\n",
    "    regParam=0.05,\n",
    "    seed=42\n",
    ")\n",
    "\n",
    "# 3. 모델 학습\n",
    "model = als.fit(train)\n",
    "\n",
    "# 4. 추천 생성: Top 50\n",
    "userRecs = model.recommendForAllUsers(50)\n",
    "\n",
    "# 예시: userId 123의 추천만 확인하고 싶다면 아래 주석을 해제\n",
    "# userRecs = model.recommendForUserSubset(spark.createDataFrame([(123,)], [\"userId\"]), 50)\n",
    "\n",
    "# 5. 추천 결과 정리\n",
    "userRecsExploded = userRecs.select(\"userId\", explode(\"recommendations\").alias(\"rec\")) \\\n",
    "                            .select(\"userId\", col(\"rec.movieId\"), col(\"rec.rating\"))\n",
    "\n",
    "# 6. Top 10 추출 (user별 정렬 및 상위 10개)\n",
    "windowSpec = Window.partitionBy(\"userId\").orderBy(col(\"rating\").desc())\n",
    "topNRecs = userRecsExploded.withColumn(\"rank\", row_number().over(windowSpec)) \\\n",
    "                           .filter(col(\"rank\") <= 10) \\\n",
    "                           .drop(\"rank\")\n",
    "\n",
    "# 7. 영화 정보와 조인 (선택)\n",
    "result_with_titles = topNRecs.join(df_movies, on=\"movieId\", how=\"left\") \\\n",
    "                             .select(\"userId\", \"movieId\", \"title\", \"rating\")\n",
    "\n",
    "# 8. 결과 확인\n",
    "display(result_with_titles)\n"
   ]
  },
  {
   "cell_type": "code",
   "execution_count": 0,
   "metadata": {
    "application/vnd.databricks.v1+cell": {
     "cellMetadata": {},
     "inputWidgets": {},
     "nuid": "b98bd08a-df0b-4dcd-9921-b03b7192d781",
     "showTitle": false,
     "tableResultSettingsMap": {},
     "title": ""
    }
   },
   "outputs": [],
   "source": [
    "from pyspark.sql.functions import col, countDistinct, collect_set, size\n",
    "from pyspark.sql import functions as F\n",
    "\n",
    "# 1. 추천 결과(topNRecs)에는 userId, movieId가 포함되어 있어야 함\n",
    "#    topNRecs: ALS로 추천된 Top 10 movie per user\n",
    "\n",
    "# 2. 실제 평가 데이터에서 평점 4.0 이상인 영화만 긍정적으로 간주\n",
    "actual_relevant = test.filter(col(\"rating\") >= 4.0) \\\n",
    "                      .select(\"userId\", \"movieId\") \\\n",
    "                      .distinct() \\\n",
    "                      .groupBy(\"userId\") \\\n",
    "                      .agg(collect_set(\"movieId\").alias(\"actual_movies\"))\n",
    "\n",
    "# 3. 추천 결과를 userId별로 movieId 리스트로 집계\n",
    "predicted_recs = topNRecs.groupBy(\"userId\") \\\n",
    "                         .agg(collect_set(\"movieId\").alias(\"predicted_movies\"))\n",
    "\n",
    "# 4. 실제/예측 join\n",
    "joined = predicted_recs.join(actual_relevant, on=\"userId\", how=\"inner\")\n",
    "\n",
    "# 5. Precision@10, Recall@10 계산\n",
    "def precision_recall_udf(predicted, actual):\n",
    "    predicted_set = set(predicted)\n",
    "    actual_set = set(actual)\n",
    "    intersection = predicted_set & actual_set\n",
    "    precision = len(intersection) / len(predicted_set) if predicted_set else 0.0\n",
    "    recall = len(intersection) / len(actual_set) if actual_set else 0.0\n",
    "    return (precision, recall)\n",
    "\n",
    "from pyspark.sql.types import StructType, StructField, DoubleType\n",
    "from pyspark.sql.functions import udf\n",
    "\n",
    "schema = StructType([\n",
    "    StructField(\"precision\", DoubleType(), True),\n",
    "    StructField(\"recall\", DoubleType(), True)\n",
    "])\n",
    "\n",
    "precision_recall_udf_spark = udf(precision_recall_udf, schema)\n",
    "\n",
    "# 6. 컬럼 생성\n",
    "scored = joined.withColumn(\"metrics\", precision_recall_udf_spark(col(\"predicted_movies\"), col(\"actual_movies\"))) \\\n",
    "               .select(\"userId\", \"metrics.*\")\n",
    "\n",
    "# 7. 평균 계산\n",
    "avg_scores = scored.select(F.avg(\"precision\").alias(\"avg_precision_at_10\"),\n",
    "                           F.avg(\"recall\").alias(\"avg_recall_at_10\"))\n",
    "\n",
    "# 8. 출력\n",
    "display(avg_scores)\n"
   ]
  }
 ],
 "metadata": {
  "application/vnd.databricks.v1+notebook": {
   "computePreferences": null,
   "dashboards": [],
   "environmentMetadata": {
    "base_environment": "",
    "environment_version": "2"
   },
   "inputWidgetPreferences": null,
   "language": "python",
   "notebookMetadata": {
    "mostRecentlyExecutedCommandWithImplicitDF": {
     "commandId": 8846788788865742,
     "dataframes": [
      "_sqldf"
     ]
    },
    "pythonIndentUnit": 4
   },
   "notebookName": "test (1)",
   "widgets": {
    "maxIter": {
     "currentValue": "10",
     "nuid": "e0daffc2-7f59-46a6-98a1-f5c3cb1b6560",
     "typedWidgetInfo": {
      "autoCreated": false,
      "defaultValue": "10",
      "label": null,
      "name": "maxIter",
      "options": {
       "widgetDisplayType": "Text",
       "validationRegex": null
      },
      "parameterDataType": "String"
     },
     "widgetInfo": {
      "widgetType": "text",
      "defaultValue": "10",
      "label": null,
      "name": "maxIter",
      "options": {
       "widgetType": "text",
       "autoCreated": null,
       "validationRegex": null
      }
     }
    },
    "rank": {
     "currentValue": "10",
     "nuid": "2493609f-1949-4523-bfb7-b0c0615f9c7e",
     "typedWidgetInfo": {
      "autoCreated": false,
      "defaultValue": "10",
      "label": null,
      "name": "rank",
      "options": {
       "widgetDisplayType": "Text",
       "validationRegex": null
      },
      "parameterDataType": "String"
     },
     "widgetInfo": {
      "widgetType": "text",
      "defaultValue": "10",
      "label": null,
      "name": "rank",
      "options": {
       "widgetType": "text",
       "autoCreated": null,
       "validationRegex": null
      }
     }
    },
    "regParam": {
     "currentValue": "0.1",
     "nuid": "81f5edf8-89fd-402e-92a4-001760157f8a",
     "typedWidgetInfo": {
      "autoCreated": false,
      "defaultValue": "0.1",
      "label": null,
      "name": "regParam",
      "options": {
       "widgetDisplayType": "Text",
       "validationRegex": null
      },
      "parameterDataType": "String"
     },
     "widgetInfo": {
      "widgetType": "text",
      "defaultValue": "0.1",
      "label": null,
      "name": "regParam",
      "options": {
       "widgetType": "text",
       "autoCreated": null,
       "validationRegex": null
      }
     }
    }
   }
  },
  "language_info": {
   "name": "python"
  }
 },
 "nbformat": 4,
 "nbformat_minor": 0
}
