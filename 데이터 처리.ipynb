{
 "cells": [
  {
   "cell_type": "markdown",
   "metadata": {
    "application/vnd.databricks.v1+cell": {
     "cellMetadata": {
      "byteLimit": 2048000,
      "rowLimit": 10000
     },
     "inputWidgets": {},
     "nuid": "69a208c8-f5ff-4d21-aa51-5a43fefee9b4",
     "showTitle": false,
     "tableResultSettingsMap": {},
     "title": ""
    }
   },
   "source": [
    "# SparkSession"
   ]
  },
  {
   "cell_type": "code",
   "execution_count": 0,
   "metadata": {
    "application/vnd.databricks.v1+cell": {
     "cellMetadata": {
      "byteLimit": 2048000,
      "rowLimit": 10000
     },
     "inputWidgets": {},
     "nuid": "90db144a-d62b-4f1a-b5fe-32304969abff",
     "showTitle": false,
     "tableResultSettingsMap": {},
     "title": ""
    }
   },
   "outputs": [],
   "source": [
    "from pyspark.sql import SparkSession\n",
    "from pyspark.sql.functions import col, regexp_extract, regexp_replace, count, row_number, when, rand, floor\n",
    "from pyspark.sql.window import Window\n",
    "import matplotlib.pyplot as plt\n",
    "import numpy as np\n",
    "import pandas as pd"
   ]
  },
  {
   "cell_type": "code",
   "execution_count": 0,
   "metadata": {
    "application/vnd.databricks.v1+cell": {
     "cellMetadata": {
      "byteLimit": 2048000,
      "rowLimit": 10000
     },
     "inputWidgets": {},
     "nuid": "a0079046-9260-4e80-94f3-45bb200ff575",
     "showTitle": false,
     "tableResultSettingsMap": {},
     "title": ""
    }
   },
   "outputs": [],
   "source": [
    "spark = SparkSession.builder \\\n",
    "    .appName(\"Dataload\") \\\n",
    "    .getOrCreate()"
   ]
  },
  {
   "cell_type": "markdown",
   "metadata": {
    "application/vnd.databricks.v1+cell": {
     "cellMetadata": {
      "byteLimit": 2048000,
      "rowLimit": 10000
     },
     "inputWidgets": {},
     "nuid": "c655d328-1fe7-461c-a000-bf1eb262afb8",
     "showTitle": false,
     "tableResultSettingsMap": {},
     "title": ""
    }
   },
   "source": [
    "# Bronze"
   ]
  },
  {
   "cell_type": "markdown",
   "metadata": {
    "application/vnd.databricks.v1+cell": {
     "cellMetadata": {
      "byteLimit": 2048000,
      "rowLimit": 10000
     },
     "inputWidgets": {},
     "nuid": "f5e33b36-d370-4504-800b-6fcf855ae6d4",
     "showTitle": false,
     "tableResultSettingsMap": {},
     "title": ""
    }
   },
   "source": [
    "원시 데이터를 그대로 저장하는 단계"
   ]
  },
  {
   "cell_type": "code",
   "execution_count": 0,
   "metadata": {
    "application/vnd.databricks.v1+cell": {
     "cellMetadata": {
      "byteLimit": 2048000,
      "rowLimit": 10000
     },
     "inputWidgets": {},
     "nuid": "720499b9-6e94-4bf5-92b1-13b801c06db2",
     "showTitle": false,
     "tableResultSettingsMap": {},
     "title": ""
    }
   },
   "outputs": [],
   "source": [
    "catalog = \"1dt_team8_databricks\"\n",
    "schema = \"`movielens-32m`\"\n",
    "volume_path = f\"{catalog}.{schema}\"\n",
    "\n",
    "try:\n",
    "    ratings = spark.read.table(f\"{volume_path}.ratings\")\n",
    "    movies = spark.read.table(f\"{volume_path}.movies\")\n",
    "    tags = spark.read.table(f\"{volume_path}.tags\")\n",
    "    links = spark.read.table(f\"{volume_path}.links\")\n",
    "    print(\"Data loaded successfully from Unity Catalog Volume.\")\n",
    "except Exception as e:\n",
    "    print(f\"Error loading data from Unity Catalog Volume: {e}\")\n",
    "    print(f\"Please ensure CSV files (movies.csv, ratings.csv, links.csv, tags.csv) exist in {volume_path}\")"
   ]
  },
  {
   "cell_type": "markdown",
   "metadata": {
    "application/vnd.databricks.v1+cell": {
     "cellMetadata": {
      "byteLimit": 2048000,
      "rowLimit": 10000
     },
     "inputWidgets": {},
     "nuid": "fc44fdad-fc84-4085-aabe-49e160931dec",
     "showTitle": false,
     "tableResultSettingsMap": {},
     "title": ""
    }
   },
   "source": [
    "# Silver"
   ]
  },
  {
   "cell_type": "markdown",
   "metadata": {
    "application/vnd.databricks.v1+cell": {
     "cellMetadata": {
      "byteLimit": 2048000,
      "rowLimit": 10000
     },
     "inputWidgets": {},
     "nuid": "cfdd28c7-d176-4c52-8981-ce93bccf0108",
     "showTitle": false,
     "tableResultSettingsMap": {},
     "title": ""
    }
   },
   "source": [
    "정제 및 필터링 된 데이터 저장 단계"
   ]
  },
  {
   "cell_type": "code",
   "execution_count": 0,
   "metadata": {
    "application/vnd.databricks.v1+cell": {
     "cellMetadata": {
      "byteLimit": 2048000,
      "rowLimit": 10000
     },
     "inputWidgets": {},
     "nuid": "8dd80c15-1a18-4831-adad-fd1db21065b5",
     "showTitle": false,
     "tableResultSettingsMap": {},
     "title": ""
    }
   },
   "outputs": [],
   "source": [
    "ratings = ratings.dropna().dropDuplicates()\n",
    "movies = movies.dropna().dropDuplicates()\n",
    "\n",
    "ratings = ratings.filter((ratings.rating >= 0) & (ratings.rating <= 5))"
   ]
  },
  {
   "cell_type": "code",
   "execution_count": 0,
   "metadata": {
    "application/vnd.databricks.v1+cell": {
     "cellMetadata": {
      "byteLimit": 2048000,
      "rowLimit": 10000
     },
     "inputWidgets": {},
     "nuid": "06c6beba-c50e-4608-9f2f-d6c1b49ce34f",
     "showTitle": false,
     "tableResultSettingsMap": {},
     "title": ""
    }
   },
   "outputs": [],
   "source": [
    "movies.show(5)"
   ]
  },
  {
   "cell_type": "code",
   "execution_count": 0,
   "metadata": {
    "application/vnd.databricks.v1+cell": {
     "cellMetadata": {
      "byteLimit": 2048000,
      "rowLimit": 10000
     },
     "inputWidgets": {},
     "nuid": "1497bacb-1895-487a-9d2b-8439bcbd0e85",
     "showTitle": false,
     "tableResultSettingsMap": {},
     "title": ""
    }
   },
   "outputs": [],
   "source": [
    "ratings.show(5)"
   ]
  },
  {
   "cell_type": "markdown",
   "metadata": {
    "application/vnd.databricks.v1+cell": {
     "cellMetadata": {
      "byteLimit": 2048000,
      "rowLimit": 10000
     },
     "inputWidgets": {},
     "nuid": "533499b9-7d85-474a-961a-d970eba9d3b2",
     "showTitle": false,
     "tableResultSettingsMap": {},
     "title": ""
    }
   },
   "source": [
    "## 전처리"
   ]
  },
  {
   "cell_type": "code",
   "execution_count": 0,
   "metadata": {
    "application/vnd.databricks.v1+cell": {
     "cellMetadata": {
      "byteLimit": 2048000,
      "rowLimit": 10000
     },
     "inputWidgets": {},
     "nuid": "29572610-7f31-48d7-b5e0-f076f7d6f231",
     "showTitle": false,
     "tableResultSettingsMap": {},
     "title": ""
    }
   },
   "outputs": [],
   "source": [
    "# Ensure ratings DataFrame is loaded before proceeding\n",
    "if 'ratings' in locals():\n",
    "    tmp1 = ratings.groupBy(\"userID\").count().toPandas()['count'].min()\n",
    "    tmp2 = ratings.groupBy(\"movieId\").count().toPandas()['count'].min()\n",
    "    print('For the users that rated movies and the movies that were rated:')\n",
    "    print('Minimum number of ratings per user is {}'.format(tmp1))\n",
    "    print('Minimum number of ratings per movie is {}'.format(tmp2))\n",
    "else:\n",
    "    print(\"Ratings DataFrame not loaded. Please check the data loading step.\")"
   ]
  },
  {
   "cell_type": "markdown",
   "metadata": {
    "application/vnd.databricks.v1+cell": {
     "cellMetadata": {
      "byteLimit": 2048000,
      "rowLimit": 10000
     },
     "inputWidgets": {},
     "nuid": "079980aa-49bb-40c6-814e-ec652ede3979",
     "showTitle": false,
     "tableResultSettingsMap": {},
     "title": ""
    }
   },
   "source": [
    "### 유저 수"
   ]
  },
  {
   "cell_type": "code",
   "execution_count": 0,
   "metadata": {
    "application/vnd.databricks.v1+cell": {
     "cellMetadata": {
      "byteLimit": 2048000,
      "rowLimit": 10000
     },
     "inputWidgets": {},
     "nuid": "08bc2f42-b9a2-498a-9058-d1d62ee3400f",
     "showTitle": false,
     "tableResultSettingsMap": {},
     "title": ""
    }
   },
   "outputs": [],
   "source": [
    "if 'ratings' in locals():\n",
    "    tmp_q1 = ratings.select('userid').distinct().count()\n",
    "    print('There totally have {} users'.format(tmp_q1))\n",
    "else:\n",
    "    print(\"Ratings DataFrame not loaded.\")"
   ]
  },
  {
   "cell_type": "markdown",
   "metadata": {
    "application/vnd.databricks.v1+cell": {
     "cellMetadata": {
      "byteLimit": 2048000,
      "rowLimit": 10000
     },
     "inputWidgets": {},
     "nuid": "9f4391d5-bf61-47ec-91c1-72e5f048a5da",
     "showTitle": false,
     "tableResultSettingsMap": {},
     "title": ""
    }
   },
   "source": [
    "### 생성연도 새로운 컬럼으로"
   ]
  },
  {
   "cell_type": "code",
   "execution_count": 0,
   "metadata": {
    "application/vnd.databricks.v1+cell": {
     "cellMetadata": {
      "byteLimit": 2048000,
      "rowLimit": 10000
     },
     "inputWidgets": {},
     "nuid": "0f5ce3aa-2337-409d-b233-a7d6a8a3f5b8",
     "showTitle": false,
     "tableResultSettingsMap": {},
     "title": ""
    }
   },
   "outputs": [],
   "source": [
    "# 연도 추출 → year 컬럼 생성 (raw string 사용)\n",
    "movies_df = movies.withColumn(\n",
    "    \"year\",\n",
    "    regexp_extract(col(\"title\"), r\"\\((\\d{4})\\)\\s*$\", 1).cast(\"int\")\n",
    ")"
   ]
  },
  {
   "cell_type": "code",
   "execution_count": 0,
   "metadata": {
    "application/vnd.databricks.v1+cell": {
     "cellMetadata": {
      "byteLimit": 2048000,
      "rowLimit": 10000
     },
     "inputWidgets": {},
     "nuid": "72e40051-d719-45ef-a67d-1b5135f9be64",
     "showTitle": false,
     "tableResultSettingsMap": {},
     "title": ""
    }
   },
   "outputs": [],
   "source": [
    "movies_df.show(5)"
   ]
  },
  {
   "cell_type": "markdown",
   "metadata": {
    "application/vnd.databricks.v1+cell": {
     "cellMetadata": {
      "byteLimit": 2048000,
      "rowLimit": 10000
     },
     "inputWidgets": {},
     "nuid": "1ed1e24f-30de-4fd2-889b-a441f9c48780",
     "showTitle": false,
     "tableResultSettingsMap": {},
     "title": ""
    }
   },
   "source": [
    "### 연도별 영화개수"
   ]
  },
  {
   "cell_type": "code",
   "execution_count": 0,
   "metadata": {
    "application/vnd.databricks.v1+cell": {
     "cellMetadata": {
      "byteLimit": 2048000,
      "rowLimit": 10000
     },
     "inputWidgets": {},
     "nuid": "a25bd75f-2c8b-4809-872d-89f228c62f97",
     "showTitle": false,
     "tableResultSettingsMap": {},
     "title": ""
    }
   },
   "outputs": [],
   "source": [
    "# 1. 연도별 영화 개수 집계\n",
    "yearly_movie_count_df = movies_df.groupBy(\"year\").agg(count(\"*\").alias(\"movie_count\"))\n",
    "yearly_movie_count_df = yearly_movie_count_df.orderBy(\"year\")\n",
    "\n",
    "# 2. Pandas로 변환\n",
    "yearly_movie_count_pd = yearly_movie_count_df.toPandas()\n",
    "\n",
    "# 3. Null 연도 제외 (옵션)\n",
    "yearly_movie_count_pd = yearly_movie_count_pd.dropna(subset=[\"year\"])\n",
    "\n",
    "# 4. 막대그래프 그리기\n",
    "plt.figure(figsize=(15, 6))\n",
    "plt.bar(yearly_movie_count_pd['year'], yearly_movie_count_pd['movie_count'], color='skyblue')\n",
    "\n",
    "plt.title(\"Number of Movies per Year\")\n",
    "plt.xlabel(\"Year\")\n",
    "plt.ylabel(\"Movie Count\")\n",
    "plt.xticks()  # 연도 회전\n",
    "plt.tight_layout()\n",
    "plt.show()"
   ]
  },
  {
   "cell_type": "markdown",
   "metadata": {
    "application/vnd.databricks.v1+cell": {
     "cellMetadata": {
      "byteLimit": 2048000,
      "rowLimit": 10000
     },
     "inputWidgets": {},
     "nuid": "22a5d505-c34e-429f-b6d6-5ff6745cd237",
     "showTitle": false,
     "tableResultSettingsMap": {},
     "title": ""
    }
   },
   "source": [
    "## Join"
   ]
  },
  {
   "cell_type": "code",
   "execution_count": 0,
   "metadata": {
    "application/vnd.databricks.v1+cell": {
     "cellMetadata": {
      "byteLimit": 2048000,
      "rowLimit": 10000
     },
     "inputWidgets": {},
     "nuid": "518221f3-28f5-4c75-9f42-5bf5e52a1b28",
     "showTitle": false,
     "tableResultSettingsMap": {},
     "title": ""
    }
   },
   "outputs": [],
   "source": [
    "movies_with_ratings = movies_df.join(ratings, on=\"movieId\", how=\"left_outer\") \\\n",
    "                             .filter(col(\"rating\").isNotNull())\n",
    "\n",
    "movies_with_ratings.show(5)"
   ]
  },
  {
   "cell_type": "code",
   "execution_count": 0,
   "metadata": {
    "application/vnd.databricks.v1+cell": {
     "cellMetadata": {
      "byteLimit": 2048000,
      "rowLimit": 10000
     },
     "inputWidgets": {},
     "nuid": "d53bf726-671d-47f5-b599-92a9fc523897",
     "showTitle": false,
     "tableResultSettingsMap": {},
     "title": ""
    }
   },
   "outputs": [],
   "source": [
    "# 1. 영화별 평점 개수 집계\n",
    "rating_counts_df = movies_with_ratings.groupBy(\"movieId\").agg(count(\"rating\").alias(\"rating_count\"))\n",
    "\n",
    "# 2. 평점 수 k개 이상인 영화만 필터링\n",
    "k = 20\n",
    "valid_movies_df = rating_counts_df.filter(col(\"rating_count\") >= k)\n",
    "non_valid_movies_df = rating_counts_df.filter(col(\"rating_count\") < k)\n",
    "\n",
    "# 3. 원본 데이터에서 평점 수 5개 초과인 영화만 남기기\n",
    "filtered_movies_with_ratings = movies_with_ratings.join(valid_movies_df.select(\"movieId\"), on=\"movieId\", how=\"inner\")\n",
    "non_valid_movies_df = movies_with_ratings.join(non_valid_movies_df.select(\"movieId\"), on=\"movieId\", how=\"inner\")"
   ]
  },
  {
   "cell_type": "code",
   "execution_count": 0,
   "metadata": {
    "application/vnd.databricks.v1+cell": {
     "cellMetadata": {
      "byteLimit": 2048000,
      "rowLimit": 10000
     },
     "inputWidgets": {},
     "nuid": "e1926fa0-8372-4cd8-b008-26b3503a086e",
     "showTitle": false,
     "tableResultSettingsMap": {},
     "title": ""
    }
   },
   "outputs": [],
   "source": [
    "print(\"필터링 된 영화 수: {}\".format(filtered_movies_with_ratings.select(\"movieId\").distinct().count()))\n",
    "print(\"필터링 안 된 영화 수: {}\".format(non_valid_movies_df.select(\"movieId\").distinct().count()))"
   ]
  },
  {
   "cell_type": "markdown",
   "metadata": {
    "application/vnd.databricks.v1+cell": {
     "cellMetadata": {
      "byteLimit": 2048000,
      "rowLimit": 10000
     },
     "inputWidgets": {},
     "nuid": "a750810a-ebfb-4840-ad7c-e4fdc92afda5",
     "showTitle": false,
     "tableResultSettingsMap": {},
     "title": ""
    }
   },
   "source": [
    "### 연도별 필터링 된 영화 수"
   ]
  },
  {
   "cell_type": "code",
   "execution_count": 0,
   "metadata": {
    "application/vnd.databricks.v1+cell": {
     "cellMetadata": {
      "byteLimit": 2048000,
      "rowLimit": 10000
     },
     "inputWidgets": {},
     "nuid": "700b3ec8-7d59-4809-86b0-3e614729bdad",
     "showTitle": false,
     "tableResultSettingsMap": {},
     "title": ""
    }
   },
   "outputs": [],
   "source": [
    "# 1. 연도별 영화 개수 집계\n",
    "yearly_movie_count_filter_df = filtered_movies_with_ratings.groupBy(\"year\").agg(count(\"*\").alias(\"movie_count\"))\n",
    "yearly_movie_count_filter_df = yearly_movie_count_filter_df.orderBy(\"year\")\n",
    "\n",
    "# 2. Pandas로 변환\n",
    "yearly_movie_count_filter_pd = yearly_movie_count_filter_df.toPandas()\n",
    "\n",
    "# 3. Null 연도 제외 (옵션)\n",
    "yearly_movie_count_filter_pd = yearly_movie_count_filter_pd.dropna(subset=[\"year\"])\n",
    "\n",
    "# 4. 막대그래프 그리기\n",
    "plt.figure(figsize=(15, 6))\n",
    "plt.bar(yearly_movie_count_filter_pd['year'], yearly_movie_count_filter_pd['movie_count'], color='skyblue')\n",
    "\n",
    "plt.title(\"Number of Movies per Year\")\n",
    "plt.xlabel(\"Year\")\n",
    "plt.ylabel(\"Movie Count\")\n",
    "plt.xticks()  # 연도 회전\n",
    "plt.tight_layout()\n",
    "plt.show()"
   ]
  },
  {
   "cell_type": "markdown",
   "metadata": {
    "application/vnd.databricks.v1+cell": {
     "cellMetadata": {
      "byteLimit": 2048000,
      "rowLimit": 10000
     },
     "inputWidgets": {},
     "nuid": "e6182de8-5096-491b-a58f-9ff7031abab4",
     "showTitle": false,
     "tableResultSettingsMap": {},
     "title": ""
    }
   },
   "source": [
    "### 유저별 리뷰 수 20개 미만 제외"
   ]
  },
  {
   "cell_type": "code",
   "execution_count": 0,
   "metadata": {
    "application/vnd.databricks.v1+cell": {
     "cellMetadata": {
      "byteLimit": 2048000,
      "rowLimit": 10000
     },
     "inputWidgets": {},
     "nuid": "cc5925c9-5fd3-4b88-9a4a-a6e14258083d",
     "showTitle": false,
     "tableResultSettingsMap": {},
     "title": ""
    }
   },
   "outputs": [],
   "source": [
    "# 1. user별 리뷰 수 집계\n",
    "user_counts = filtered_movies_with_ratings.groupBy(\"userId\").agg(count(\"*\").alias(\"review_count\"))\n",
    "\n",
    "# 2. 리뷰 수 20개 이상인 userId만 필터링\n",
    "valid_users = user_counts.filter(\"review_count >= 20\").select(\"userId\")\n",
    "\n",
    "# 3. 원본 DataFrame에서 valid_users에 해당하는 user만 남기기 (inner join)\n",
    "filtered_df = filtered_movies_with_ratings.join(valid_users, on=\"userId\", how=\"inner\")"
   ]
  },
  {
   "cell_type": "markdown",
   "metadata": {
    "application/vnd.databricks.v1+cell": {
     "cellMetadata": {
      "byteLimit": 2048000,
      "rowLimit": 10000
     },
     "inputWidgets": {},
     "nuid": "19d27876-3824-4647-af56-46c5a0213d1c",
     "showTitle": false,
     "tableResultSettingsMap": {},
     "title": ""
    }
   },
   "source": [
    "# train/val/test split"
   ]
  },
  {
   "cell_type": "markdown",
   "metadata": {
    "application/vnd.databricks.v1+cell": {
     "cellMetadata": {
      "byteLimit": 2048000,
      "rowLimit": 10000
     },
     "inputWidgets": {},
     "nuid": "292fb328-0a23-4007-ac56-b081a7554060",
     "showTitle": false,
     "tableResultSettingsMap": {},
     "title": ""
    }
   },
   "source": [
    "유저별로 6:2:2로 나눔"
   ]
  },
  {
   "cell_type": "code",
   "execution_count": 0,
   "metadata": {
    "application/vnd.databricks.v1+cell": {
     "cellMetadata": {
      "byteLimit": 2048000,
      "rowLimit": 10000
     },
     "inputWidgets": {},
     "nuid": "c2e0a541-49b5-4b95-8f18-f7c3fd5b43e9",
     "showTitle": false,
     "tableResultSettingsMap": {},
     "title": ""
    }
   },
   "outputs": [],
   "source": [
    "# 1) 유저별로 랜덤 정렬해서 row 번호 생성 (datetime 없으면 rand 사용)\n",
    "window = Window.partitionBy(\"userId\").orderBy(rand())\n",
    "\n",
    "filtered_df = filtered_df.withColumn(\"row_num\", row_number().over(window))\n",
    "\n",
    "# 2) 유저별 총 리뷰 개수 계산\n",
    "user_counts = filtered_df.groupBy(\"userId\").count().withColumnRenamed(\"count\", \"total_count\")\n",
    "\n",
    "# 3) 조인\n",
    "df_with_counts = filtered_df.join(user_counts, on=\"userId\")\n",
    "\n",
    "# 4) train(60%), val(20%), test(20%) 분할 (row_num과 total_count를 이용해 정수 인덱스로 분할)\n",
    "df_split = df_with_counts.withColumn(\n",
    "    \"dataset\",\n",
    "    when(col(\"row_num\") <= floor(col(\"total_count\") * 0.6), \"train\")\n",
    "    .when(col(\"row_num\") <= floor(col(\"total_count\") * 0.8), \"val\")\n",
    "    .otherwise(\"test\")\n",
    ")\n",
    "\n",
    "# 5) 각 데이터셋 필터링 + 불필요 컬럼 삭제\n",
    "train_df = df_split.filter(col(\"dataset\") == \"train\").drop(\"row_num\", \"total_count\", \"dataset\")\n",
    "val_df = df_split.filter(col(\"dataset\") == \"val\").drop(\"row_num\", \"total_count\", \"dataset\")\n",
    "test_df = df_split.filter(col(\"dataset\") == \"test\").drop(\"row_num\", \"total_count\", \"dataset\")"
   ]
  },
  {
   "cell_type": "markdown",
   "metadata": {
    "application/vnd.databricks.v1+cell": {
     "cellMetadata": {
      "byteLimit": 2048000,
      "rowLimit": 10000
     },
     "inputWidgets": {},
     "nuid": "6c3bf76e-c3a1-4bca-be03-85c8ac157325",
     "showTitle": false,
     "tableResultSettingsMap": {},
     "title": ""
    }
   },
   "source": [
    "# 데이터 저장"
   ]
  },
  {
   "cell_type": "code",
   "execution_count": 0,
   "metadata": {
    "application/vnd.databricks.v1+cell": {
     "cellMetadata": {
      "byteLimit": 2048000,
      "rowLimit": 10000
     },
     "inputWidgets": {},
     "nuid": "de289158-fb1c-4e72-b2bf-e8fcdee8d9e8",
     "showTitle": false,
     "tableResultSettingsMap": {},
     "title": ""
    }
   },
   "outputs": [],
   "source": [
    "train_df.write.mode(\"overwrite\").saveAsTable(\"1dt_team8_databricks.final.train_df\")\n",
    "val_df.write.mode(\"overwrite\").saveAsTable(\"1dt_team8_databricks.final.validation_df\")\n",
    "test_df.write.mode(\"overwrite\").saveAsTable(\"1dt_team8_databricks.final.test_df\")"
   ]
  }
 ],
 "metadata": {
  "application/vnd.databricks.v1+notebook": {
   "computePreferences": null,
   "dashboards": [],
   "environmentMetadata": {
    "base_environment": "",
    "environment_version": "2"
   },
   "inputWidgetPreferences": null,
   "language": "python",
   "notebookMetadata": {
    "pythonIndentUnit": 4
   },
   "notebookName": "데이터 처리",
   "widgets": {}
  },
  "language_info": {
   "name": "python"
  }
 },
 "nbformat": 4,
 "nbformat_minor": 0
}
