{
 "cells": [
  {
   "cell_type": "code",
   "execution_count": null,
   "id": "07ad7053",
   "metadata": {},
   "outputs": [
    {
     "name": "stdout",
     "output_type": "stream",
     "text": [
      "adb-3612902589388555.15.azuredatabricks.net\n"
     ]
    },
    {
     "name": "stderr",
     "output_type": "stream",
     "text": [
      "C:\\Users\\1dt-team8\\AppData\\Local\\Temp\\2\\ipykernel_716\\2321059850.py:16: UserWarning: pandas only supports SQLAlchemy connectable (engine/connection) or database string URI or sqlite3 DBAPI2 connection. Other DBAPI2 objects are not tested. Please consider using SQLAlchemy.\n",
      "  df = pd.read_sql(\"SELECT * from `1dt_team8_databricks`.`movielens-small`.links LIMIT 10\", connection)\n"
     ]
    },
    {
     "name": "stdout",
     "output_type": "stream",
     "text": [
      "   movieId  imdbId  tmdbId\n",
      "0        1  114709     862\n",
      "1        2  113497    8844\n",
      "2        3  113228   15602\n",
      "3        4  114885   31357\n",
      "4        5  113041   11862\n",
      "5        6  113277     949\n",
      "6        7  114319   11860\n",
      "7        8  112302   45325\n",
      "8        9  114576    9091\n",
      "9       10  113189     710\n"
     ]
    }
   ],
   "source": [
    "from databricks import sql\n",
    "import os\n",
    "import pandas as pd\n",
    "import config\n",
    "\n",
    "connection = sql.connect(\n",
    "    config.SERVER_HOSTNAME,\n",
    "    config.HTTP_PATH,\n",
    "    config.ACCESS_TOKEN)\n",
    "\n",
    "# cursor = connection.cursor()\n",
    "# cursor.execute(\"SELECT * from `1dt_team8_databricks`.`movielens-small`.links LIMIT 10\")\n",
    "# print(cursor.fetchall())\n",
    "\n",
    "df = pd.read_sql(\"SELECT * from `1dt_team8_databricks`.`movielens-small`.links LIMIT 10\", connection)\n",
    "print(df)\n",
    "\n",
    "connection.close()\n",
    "# cursor.close()"
   ]
  }
 ],
 "metadata": {
  "kernelspec": {
   "display_name": "Python 3",
   "language": "python",
   "name": "python3"
  },
  "language_info": {
   "codemirror_mode": {
    "name": "ipython",
    "version": 3
   },
   "file_extension": ".py",
   "mimetype": "text/x-python",
   "name": "python",
   "nbconvert_exporter": "python",
   "pygments_lexer": "ipython3",
   "version": "3.13.4"
  }
 },
 "nbformat": 4,
 "nbformat_minor": 5
}
