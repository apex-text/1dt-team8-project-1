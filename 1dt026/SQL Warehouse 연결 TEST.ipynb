{
 "cells": [
  {
   "cell_type": "code",
   "execution_count": 0,
   "metadata": {
    "application/vnd.databricks.v1+cell": {
     "cellMetadata": {},
     "inputWidgets": {},
     "nuid": "c7ab57b3-d8fc-4098-8e3f-3c9027892371",
     "showTitle": false,
     "tableResultSettingsMap": {},
     "title": ""
    }
   },
   "outputs": [],
   "source": [
    "from databricks import sql\n",
    "import os\n",
    "import pandas as pd\n",
    "import config\n",
    "\n",
    "connection = sql.connect(\n",
    "    config.SERVER_HOSTNAME,\n",
    "    config.DB_HTTP_PATH,\n",
    "    config.ACCESS_TOKEN\n",
    ")\n",
    "\n",
    "# cursor = connection.cursor()\n",
    "# cursor.execute(\"SELECT * from `1dt_team8_databricks`.`movielens-small`.links LIMIT 10\")\n",
    "# print(cursor.fetchall())\n",
    "\n",
    "df = pd.read_sql(\"SELECT * from `1dt_team8_databricks`.`movielens-small`.links LIMIT 10\", connection)\n",
    "print(df)\n",
    "\n",
    "connection.close()\n",
    "# cursor.close()"
   ]
  }
 ],
 "metadata": {
  "application/vnd.databricks.v1+notebook": {
   "computePreferences": null,
   "dashboards": [],
   "environmentMetadata": null,
   "inputWidgetPreferences": null,
   "language": "python",
   "notebookMetadata": {
    "pythonIndentUnit": 4
   },
   "notebookName": "SQL Warehouse 연결 TEST",
   "widgets": {}
  },
  "kernelspec": {
   "display_name": "Python 3",
   "language": "python",
   "name": "python3"
  },
  "language_info": {
   "name": "python"
  }
 },
 "nbformat": 4,
 "nbformat_minor": 0
}
